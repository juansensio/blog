{
 "cells": [
  {
   "cell_type": "markdown",
   "metadata": {},
   "source": [
    "[![Open In Colab](https://colab.research.google.com/assets/colab-badge.svg)](https://colab.research.google.com/github/sensioai/blog/blob/master/017_clasificacion_multiclase/clasificacion_multiclase.ipynb)"
   ]
  },
  {
   "cell_type": "markdown",
   "metadata": {},
   "source": [
    "# Clasificación Multiclase"
   ]
  },
  {
   "cell_type": "markdown",
   "metadata": {},
   "source": [
    "La arquitectura de `Perceptrón` que hemos visto hasta ahora nos ha permitido llevar a cabo dos tipos de tareas: regresión lineal y clasificación binaria. En este post vamos a mejorar la implementación de nuestro modelo para ser capaces de utilizarlo en la tarea de clasificación en varias clases. En primer lugar, vamos a revisar la arquitectura del `Perceptrón`. Hasta ahora, nuestro modelo era capaz de recibir una serie de entradas y dar como resultado una única salida.\n",
    "\n",
    "![](https://www.researchgate.net/profile/Shibani_Singh2/publication/321141639/figure/fig2/AS:572731935727616@1513561342872/Schematic-of-Rosenblatts-perceptron.png)\n",
    "\n",
    "La idea es la siguiente: si un `Perceptrón` es capaz de clasificación binaria (identificar una clase en particular de entre el resto), podemos utilizar tantos perceptrones como clases tengamos. En esta configuración, cada `Perceptrón` tendrá el objetivo de identificar una de las clases en particular del resto.\n",
    "\n",
    "![](https://camo.githubusercontent.com/bcb4c2d2684739dd367e6e61d96102bb8ba28cd8/68747470733a2f2f6a6c6565776562626c6f672e66696c65732e776f726470726573732e636f6d2f323031372f30332f736f666d61782d72656772657373696f6e2e6a70673f773d36333326683d353237)\n",
    "\n",
    "En esta nueva implementación, tendremos tantas salidas como clases (podemos usarlo también para regresión, cada salida correspondería a cada una de las magnitudes de interés). Calculamos la salida del modelo de la misma manera que en el caso del `Perceptrón` de una sola salida. La diferencia es que en la última capa aplicaremos una función de activación de tipo `softmax`. Esto nos dará como resultado una distribución de probabilidad sobre todas las clases. Finalmente, asignaremos aquella clase que tenga la probabilidad más alta.\n",
    "\n",
    "$$ \\hat{y} = \\underset{k}{\\arg\\max} \\ \\ \\sigma(\\mathbf{w} \\cdot \\mathbf{x})_k $$\n",
    "\n",
    "En el caso del `Perceptrón` con una sola salida, nuestros pesos estaban representados por un vector de longitud igual al número de entradas (más uno si tenemos en cuenta el *bias*). Ahora, al tener varias salidas, los pesos estarán representados por una matriz (puedes ver el vector anterior como una matriz de una sola columna). Este modelo también se conoce por el nombre de `Softmax Regression`.\n",
    "\n",
    "> 💡 Puedes aprender sobre la función `softmax` en nuestro post sobre [probabilidad](https://sensioai.com/blog/010_probabilidad)."
   ]
  },
  {
   "cell_type": "code",
   "execution_count": 1,
   "metadata": {
    "ExecuteTime": {
     "end_time": "2020-07-16T10:24:04.860827Z",
     "start_time": "2020-07-16T10:24:04.843273Z"
    }
   },
   "outputs": [],
   "source": [
    "def softmax(x):\n",
    "    return np.exp(x) / np.exp(x).sum(axis=-1,keepdims=True)"
   ]
  },
  {
   "cell_type": "markdown",
   "metadata": {},
   "source": [
    "## Función de Pérdida"
   ]
  },
  {
   "cell_type": "markdown",
   "metadata": {},
   "source": [
    "Para entrenar el modelo con el algoritmo de `descenso por gradiente` necesitamos una función de pérdida, una medida del error que nos sirva para optimizar los pesos. En este caso utilizamos la función de pérdida conocida como `Cross Entropy`.\n",
    "\n",
    "$$ J(\\mathbf{w}) = - \\frac{1}{N} \\sum^N_{j=1} \\sum^K_{k=1} y_k^{(j)} log(\\hat{y}_k^{(j)}) $$\n",
    "\n",
    "donde $y_k^{(j)}$ es la probabilidad de que el elemento $j$ pertenezca a la clase $k$ (normalmente 1 ó 0). Cómo puedes ver, en el caso en el que tengamos sólo dos clases esta expresión es equivalente a la función de pérdida que utilizamos para clasificación binaria en el modelo de regresión logística (que puedes ver en este [post](https://sensioai.com/blog/015_logistic_regression)), la función `Binary Cross Entropy`.\n",
    "\n",
    "Como siempre, para poder aplicar el algoritmo, no sólo necesitamos la función de pérdida sino también su derivada con respecto a los pesos del modelo que queremos optimizar. Calculando la derivada de la función anterior obtenemos la siguiente expresión.\n",
    "\n",
    "$$ \\frac{\\partial J_k}{\\partial \\mathbf{w}} =  \\frac{1}{N} \\sum^{N}_{j=1} (\\hat{y}_k^{(j)} - y_k^{(j)}) \\mathbf{x}^{(j)} $$\n",
    "\n",
    "Por motivos de estabilidad numérica, es común combinar la función `softmax` con la función `cross entropy` de la siguiente manera."
   ]
  },
  {
   "cell_type": "code",
   "execution_count": 2,
   "metadata": {
    "ExecuteTime": {
     "end_time": "2020-07-16T10:24:04.954314Z",
     "start_time": "2020-07-16T10:24:04.938317Z"
    }
   },
   "outputs": [],
   "source": [
    "# aplica softmax + cross entropy de manera estable\n",
    "\n",
    "def crossentropy(output, target):\n",
    "    logits = output[np.arange(len(output)),target]\n",
    "    entropy = - logits + np.log(np.sum(np.exp(output),axis=-1))\n",
    "    return entropy\n",
    "\n",
    "def grad_crossentropy(output, target):\n",
    "    answers = np.zeros_like(output)\n",
    "    answers[np.arange(len(output)),target] = 1    \n",
    "    return (- answers + softmax(output)) / output.shape[0]"
   ]
  },
  {
   "cell_type": "markdown",
   "metadata": {},
   "source": [
    "## Implementación"
   ]
  },
  {
   "cell_type": "markdown",
   "metadata": {},
   "source": [
    "Vamos a mejorar ahora nuestra implementación del `Perceptrón` para ser capaz de llevar a cabo la tarea de clasificación multiclase (además de todas las que ya es capaz de hacer)."
   ]
  },
  {
   "cell_type": "code",
   "execution_count": 3,
   "metadata": {
    "ExecuteTime": {
     "end_time": "2020-07-16T10:24:05.049241Z",
     "start_time": "2020-07-16T10:24:05.025209Z"
    }
   },
   "outputs": [],
   "source": [
    "class Perceptron():\n",
    "  def __init__(self, inputs, outputs):\n",
    "    self.w = np.random.normal(loc=0.0, \n",
    "          scale = np.sqrt(2/(inputs+outputs)), \n",
    "          size = (inputs, outputs)) \n",
    "    self.ws = []\n",
    "    self.loss = crossentropy\n",
    "    self.grad_loss = grad_crossentropy\n",
    "    \n",
    "  def __call__(self, w, x):\n",
    "    return np.dot(x, w) \n",
    "\n",
    "  def fit(self, x, y, epochs, lr, verbose=True, log_each=1):\n",
    "    x = np.c_[np.ones(len(x)), x]\n",
    "    for epoch in range(1,epochs+1):\n",
    "        # Batch Gradient Descent\n",
    "        y_hat = self(self.w, x)  \n",
    "        # función de pérdida\n",
    "        l = self.loss(y_hat, y).mean()\n",
    "        # derivadas\n",
    "        dldh = self.grad_loss(y_hat, y)\n",
    "        dhdw = x\n",
    "        dldw = np.dot(dhdw.T, dldh)\n",
    "        # actualizar pesos\n",
    "        self.w = self.w - lr*dldw\n",
    "        # guardar pesos para animación\n",
    "        self.ws.append(self.w.copy())\n",
    "        # print loss\n",
    "        if verbose and not epoch % log_each:\n",
    "            print(f\"Epoch {epoch}/{epochs} Loss {l}\")\n",
    "            \n",
    "  def predict(self, x):\n",
    "    x = np.c_[np.ones(len(x)), x]\n",
    "    return self(self.w, x)"
   ]
  },
  {
   "cell_type": "markdown",
   "metadata": {},
   "source": [
    "## El dataset Iris"
   ]
  },
  {
   "cell_type": "markdown",
   "metadata": {},
   "source": [
    "Ahora vamos a probar nuestro nuevo modelo para clasificación multiclase con el dataset Iris, un dataset que ya hemos utilizado en varios posts anteriores para clasificar flores."
   ]
  },
  {
   "cell_type": "code",
   "execution_count": 4,
   "metadata": {
    "ExecuteTime": {
     "end_time": "2020-07-16T10:24:05.632451Z",
     "start_time": "2020-07-16T10:24:05.114266Z"
    }
   },
   "outputs": [
    {
     "data": {
      "text/plain": [
       "((150, 2), (150,))"
      ]
     },
     "execution_count": 4,
     "metadata": {},
     "output_type": "execute_result"
    }
   ],
   "source": [
    "from sklearn.datasets import load_iris\n",
    "import numpy as np\n",
    "\n",
    "iris = load_iris()\n",
    "X = iris.data[:, (2, 3)]  # petal length, petal width\n",
    "X_mean, X_std = X.mean(axis=0), X.std(axis=0)\n",
    "X_norm = (X - X_mean) / X_std\n",
    "\n",
    "y = iris.target\n",
    "\n",
    "X.shape, y.shape"
   ]
  },
  {
   "cell_type": "code",
   "execution_count": 5,
   "metadata": {
    "ExecuteTime": {
     "end_time": "2020-07-16T10:24:05.964108Z",
     "start_time": "2020-07-16T10:24:05.633453Z"
    }
   },
   "outputs": [
    {
     "data": {
      "image/png": "[encoded data removed]",
      "text/plain": [
       "<Figure size 432x288 with 1 Axes>"
      ]
     },
     "metadata": {
      "needs_background": "light"
     },
     "output_type": "display_data"
    }
   ],
   "source": [
    "import matplotlib.pyplot as plt\n",
    "\n",
    "plt.plot(X[y==0, 0], X[y==0, 1], 's', label=\"Iris Setosa\")\n",
    "plt.plot(X[y==1, 0], X[y==1, 1], 'x', label=\"Iris Versicolor\")\n",
    "plt.plot(X[y==2, 0], X[y==2, 1], 'o', label=\"Iris Virginica\")\n",
    "plt.grid()\n",
    "plt.legend()\n",
    "plt.xlabel('petal length', fontsize=14)\n",
    "plt.ylabel('petal width', fontsize=14)\n",
    "plt.title(\"Iris dataset\", fontsize=14)\n",
    "plt.show()"
   ]
  },
  {
   "cell_type": "markdown",
   "metadata": {},
   "source": [
    "A diferencia de los posts anteriores en los que intentábamos separar una de las tres clases del resto, ahora vamos a intentar ser capaces de clasificar las tres clases a la vez."
   ]
  },
  {
   "cell_type": "code",
   "execution_count": 6,
   "metadata": {
    "ExecuteTime": {
     "end_time": "2020-07-16T10:24:05.980108Z",
     "start_time": "2020-07-16T10:24:05.965111Z"
    }
   },
   "outputs": [
    {
     "name": "stdout",
     "output_type": "stream",
     "text": [
      "Epoch 10/50 Loss 0.3992838232798919\n",
      "Epoch 20/50 Loss 0.290313203795845\n",
      "Epoch 30/50 Loss 0.23774032243503038\n",
      "Epoch 40/50 Loss 0.20631770086056744\n",
      "Epoch 50/50 Loss 0.18530798162642056\n"
     ]
    }
   ],
   "source": [
    "np.random.seed(42)\n",
    "\n",
    "perceptron = Perceptron(3, 3)\n",
    "epochs, lr = 50, 1\n",
    "perceptron.fit(X_norm, y, epochs, lr, log_each=10)"
   ]
  },
  {
   "cell_type": "code",
   "execution_count": 7,
   "metadata": {
    "ExecuteTime": {
     "end_time": "2020-07-16T10:24:11.621651Z",
     "start_time": "2020-07-16T10:24:05.981113Z"
    },
    "code_folding": [
     4
    ]
   },
   "outputs": [
    {
     "data": {
      "text/html": [
       "<video width=\"576\" height=\"360\" controls autoplay loop>\n",
       "  <source type=\"video/mp4\" src=\"data:video/mp4;base64,AAAAIGZ0eXBNNFYgAAACAE00ViBpc29taXNvMmF2YzEAAAAIZnJlZQAA9SltZGF0AAACoQYF//+d\n",
       "3EXpvebZSLeWLNgg2SPu73gyNjQgLSBjb3JlIDE1OSAtIEguMjY0L01QRUctNCBBVkMgY29kZWMg\n",
       "LSBDb3B5bGVmdCAyMDAzLTIwMTkgLSBodHRwOi8vd3d3LnZpZGVvbGFuLm9yZy94MjY0Lmh0bWwg\n",
       "LSBvcHRpb25zOiBjYWJhYz0xIHJlZj0zIGRlYmxvY2s9MTowOjAgYW5hbHlzZT0weDM6MHgxMTMg\n",
       "bWU9aGV4IHN1Ym1lPTcgcHN5PTEgcHN5X3JkPTEuMDA6MC4wMCBtaXhlZF9yZWY9MSBtZV9yYW5n\n",
       "ZT0xNiBjaHJvbWFfbWU9MSB0cmVsbGlzPTEgOHg4ZGN0PTEgY3FtPTAgZGVhZHpvbmU9MjEsMTEg\n",
       "ZmFzdF9wc2tpcD0xIGNocm9tYV9xcF9vZmZzZXQ9LTIgdGhyZWFkcz0xMSBsb29rYWhlYWRfdGhy\n",
       "ZWFkcz0xIHNsaWNlZF90aHJlYWRzPTAgbnI9MCBkZWNpbWF0ZT0xIGludGVybGFjZWQ9MCBibHVy\n",
       "YXlfY29tcGF0PTAgY29uc3RyYWluZWRfaW50cmE9MCBiZnJhbWVzPTMgYl9weXJhbWlkPTIgYl9h\n",
       "ZGFwdD0xIGJfYmlhcz0wIGRpcmVjdD0xIHdlaWdodGI9MSBvcGVuX2dvcD0wIHdlaWdodHA9MiBr\n",
       "ZXlpbnQ9MjUwIGtleWludF9taW49MTAgc2NlbmVjdXQ9NDAgaW50cmFfcmVmcmVzaD0wIHJjX2xv\n",
       "b2thaGVhZD00MCByYz1jcmYgbWJ0cmVlPTEgY3JmPTIzLjAgcWNvbXA9MC42MCBxcG1pbj0wIHFw\n",
       "bWF4PTY5IHFwc3RlcD00IGlwX3JhdGlvPTEuNDAgYXE9MToxLjAwAIAAADX4ZYiEABH//veIHzLL\n",
       "afk613IR560urR9Q7kZxXqS9/iAAAAMAAAMADhIIszNu7bARJA38Fe/xAJKuMCSSGvxxkzkuN/rI\n",
       "UotAevruDJnwB0sb6XR7QOnzreXdttvUtWHFgyn0U5jRO0F/oSQmuuRZ3WEVKK5oOvX3G4JgWpbf\n",
       "quye9b+wFEkxtHUmhxpXEMHq3HJ8K+i1FOgY25mxeOUfQAFK8ZBt+3o6A3El16xYeYpY4ncaIoq6\n",
       "4rPIuI/b47PmrEfl6Z0phFs6x3j6SDu6gB0jTVy//qFdo8KDxGSyNnJ2JCTCEpOwj/a8SbNeMAz1\n",
       "Kc+dBxjjTo0jlZVq+iAAAAo6uBYaCZeatU+L0vfOMCxA5513F0tDxFMFlY1MhRK9Ae5A42+OHUrb\n",
       "/PgnDYtPIo/RjEzO+xTKrLbXk02iuAiehRmljhNvPqogMvpFZ6a/AUtahZAZvCQHW+LEj0mkYG+w\n",
       "l58H6cofetRrteYNx5jHG1lQUZNfdY4mSif9lNVjgUpVO0AUVch7eGdkMNKJ/ufuy9fFbhRxgUDg\n",
       "6BzdUA+UcQRftP0kp9a67FjfvmnCPCMS9c7e6AKfkgVmNX+JZeP/lo1XfkY+PnzAOmCecpAO81oC\n",
       "g6W+nZL4IoC+n4fzPLe/tUFJfehMyzm3uJg9DNpEf8FCEZTFe9hiflyOi92E/lxRudHIxq78wK4K\n",
       "MbQ3fJDMqaml9XO4L6SEiltGyvL0Wk/QrpvC+Z9UPpqv++hfjAoP1D4H8fLBYcFmg3fUC/rDJW4T\n",
       "1GEYlD1knVuLwXboj2vJlZqq8jdCTQR5dkT7l+DuywGlDhDOwiKcC+bV8DpWn+uIVWFtVoOpMDZm\n",
       "rKoI8mbhkKwQGOM0na134Dz4hEWQ+vs9oah9XV3Wmb3Iin4DKfATrQSCUHSKEhaVWH7HLWn0xlWB\n",
       "b24GooVONma0P5ycmpIjXaYXp9qxVOslS+GIPgVHeEBaFav2IhRUmlrzJmeWdSbQ/rdjDjqb5ZpZ\n",
       "HOaB3c+5tPWp/ubPKRSuSwumdoMHC60fyJzheTOO/nJ52MkNfdUC889F3Jjsi0qDULrPvsgIAYom\n",
       "+QHlq0ZX1mWjYH2QBbAxTh2VOF8iBPkm2st14qGQe3N8+Q6esdUyUpzjOdhMWo3M5LgHwMDiexSJ\n",
       "YZ8PNf/V+F5dglYFOmhQ7quyiQjzfMmB6XTvZcqVTUQuk30M6xrzGTfd3H+7WuDaTpk4biIODjaq\n",
       "rOR/AVD/TDzAC2VaVkKSBYkAc+yO1JanVb1fWo/mQ2t5+WTK+npRzpPUJHX7jK5NC+st1Z1f3Ykk\n",
       "v0F1lwJpu21qb93jMcJFbY9K55ROr9hGyccymKNhslzlOR/I16PvZ8tbH1WFoavCniExJMfochI8\n",
       "3Yf1Nf32mzzKXSyFUKSF+/LkXOykINq6YWzEbxETBl1OVatXplyLE717GTst2pFVdN/imkwk0tdr\n",
       "tED7Tw+gYVT05FnPzGbcw8++kHBLw4v0nFcOUopSylhVUOkNkUyGFEU7hBaXuk3ZIvzLH4L/4Y0f\n",
       "t2zU53PYORz+FQ0YROPY+FtAxezcAdliy6vBOpqu50NZyPmNHpYu/atUMaxCIEMEgbxMLvKwKGT8\n",
       "dpDO/qTIfr31w00iRHwUNsIKbubYAAkh7YUpeseUP3FQoqg7tKsYRlp4fo7hidtJQla0Xc5LU+Fg\n",
       "87tdm6hvQSD/SZ4yiueS2fWX3nV7OcssR1BtGw2H/y2slWvIsZEeCJGjq7pWclOENgbOtDhu9Mxa\n",
       "a9PFvvAYrT1bayYJ4tGhai9FPQltR5HBr+CIsx2E0E/kfouQOIyO3VNgU5R/ITX5bLl+YgPdDGxu\n",
       "XF8Q/F3zFhTrFBhhf6INTzp1mF1sOjMk/cw1S/FB4VQNNFeCiQu6u3rDn7H17W9vDnABJDAQcbLM\n",
       "4WK/IEMFlEGwwt4OLyj0y3SNQDKVoP1Enoj0ufpEGSMR2DrrUe/mBN3b9Yt6as0SlOhdTnbhVg4x\n",
       "tV5daMoRLSRHumXFvQnX0d/BkujcvCmHkcaC78DtO2gLC51Pah9VjOI19lbrwMbFf+B1NuDw9GkW\n",
       "2XJE8VYhXP/Y7j9k2h5Uc3HUihbeKTrCjsn1UG8bwH5ijiqIxYsx6MmhH4DTs2Bpt6fZbSbRuguA\n",
       "dVfOIV4Pq1ekTa8Y5fH4El59+KoGu6+7zX1NNdnODaotdCQBaWqZkFedtONrxgkWBGyBJlJifSSR\n",
       "8rySDudUbMT/HSTaSn/LOx/MMKHCgm1CGJmFZ3zbB8ruSYqNuBd48lu5LK8Rw7ez/Cl57olI7S/J\n",
       "BK4hWrZW4/XVu6tWT+gqy6DgowffbeKB4+/vsRD5DKnF5q7s0ZMJuhSOMlE1xPHXRlSppAzhligx\n",
       "RVEtw73HbYgL1UYnaOjP//k5346rfkL8VY+U0BcJEArnoK7Oe0wIsPxhKVLCNtOCTkUWN99nPKwh\n",
       "fqGrkhkqAcWVnpaVzMyVRFytQdu/sYXTTirJo0VDdQ2mBltRoC2usf/ZvVOHX/F9OW0JT4kor6hM\n",
       "hP54b3+7MZ5gWh0o9dK6OGZqWYoS0bzcJmWLVSXRus3QzxVD/V+pOwy42xRdmqcL5nCtGlft/icN\n",
       "MZd1cWMtmgCvrLRnma/6gcn4Rwjrwnc0gi1RoJVeyK9xTud/bShJCJ4AfIko0Uy2tKxlim/Jp66E\n",
       "Aop29BShXvOqcGv/3p0fJ0+S1Fi0IDe7Lhct4khNkEoCSNE/oP5ZKNqXhwC1und2qHhk0+hsGXDq\n",
       "Qp+XhZedYZqPDebgAIY194IEU+TMpp5CZ80OcjKU0nm1zTihV8LUrrucsLwMjv/9mQHnu1o6pqN/\n",
       "YcZPRu8FhNcTpA87Pz4n/DH1jHzCepK9cnX8HDZ5BNxg62O45K+oiPywFtvn2/FKHIeyc8ClRYXw\n",
       "j9aEILNut3yMJh8QO36ihI4mvupcKmhJiI/hbXp8YMrtNyAAAYkyT3FH6FDIRQsFWr7A0YcARUmv\n",
       "d9fHZaoxc64LG4m87BQJP/HY1ZA/32R9Gw14N7SKePYcCYERNCshOn9H48l9LsGtawAqYedi894Y\n",
       "NTItqq8nr3OV8uJR+hjSysxE1dRwy2FTlbXl8NyBJG/vQSmULPbYwaiR8+R/+yKo4zHN8BZvXkgS\n",
       "R0LHVgWN+IMhXP3oGzupIoGdHx/g+GijJAa1Knw3431qafiLkJYANElJZneVp8dA0VReVn4AbE8c\n",
       "8bmsuvpTReuI87DZu24GHqbTYnAxhTreeCO7dH964L3UParZCvZ15aBdUGC0wiC5Pf3CoOuX/Kls\n",
       "QecWtQqeJ3UmcgyM4+PCevQ1spGxkFq0Y45Zf5krKLy2v7iBpHBSXeca3N29C/5PLt/Lf6unC0Ro\n",
       "WA0YlroNnbLrO7s8OCx9wl5cVb0pNmdw4JRWM0HCDKjEpZPg11maErRJFC8OEBseJ717ubQ+KM6d\n",
       "XBIJdzabJTVgsgrljRpyvSdtIswF4w2I5ZroKHf+I4SzicN9R2RAoSI0+uUip/K6W7VfLP2X6s0t\n",
       "RyKKn3a7uUPz3CM9SFZKtdHT0+X/8Eryz0KUr4XDQ5KzwFBi6mKbGM42cjPYAYbugqRrNRFTpNjy\n",
       "/AiuFSP8LbdrwMKigoRSPX/dS8D/VW8WlxUg7qY+ybGM+r7T1AaemHAfrGIYDlQt8Sw+GUZpVxr3\n",
       "9vjrtiMSzeFKx9+aXm06OryKPANz2IgQ1+FTuGd7/HvI8fUzT7iGJrFbyynoKlS3ms8R2Bl9XgEM\n",
       "pJvaVw0oOTp+1l2tRzMf/+GUGf7UmXQfu4BwU/RWu9H5SpoWLd0Diejf6SzRml3XCIGen9St9WhS\n",
       "fuD/GmawUirzFusSkJf+pS1i0BbBQ8fXuVa7qZw4cyGvJ2QRSbeW6YDT+5xH3lQ8R/Thwb1O+o8m\n",
       "f8Kr2EKAmN4FdTPRTM6f0zCInnzktUnKlQRqjZ7L4sBmcoy3B2WXz7uS7bAxpOMf2fDENd4QLuY4\n",
       "gdhgZ9abFKjQlYZF3OX5WtAR/HvgMfyyzeucw/v3QzP8wYBAeywlrN9Id5adDXEuk8vj8lSkZcAc\n",
       "Bn8GN4TSFQwFTttio8JG9apxuhF6pzhazHSEfVI/pxfkVA36uBrALdv470pCBxYyFVKH2YHHJN7K\n",
       "zyl2s/6jNU9eMR/zBRXOqm3sPrZNPfLFiqxnrw1Ni47LWDBEqNlxAAY9fSIlVf04rFehQsL+czyJ\n",
       "Jus2TgJjWbWJWBvBou2ZM6a3eXSwOoPX51o/RTPwp/I6WhSHaL4trPp1wIKrlsAiE4a5lS3uY9zi\n",
       "xR7/0NhhOm73h/wINZ1ZJgaQwpWMkmSbk6pesVl7PS2rxbDX2vWsksUiYvHU9Rq93q3Z2Sr0ACGQ\n",
       "0VU2v2RbzLD2cMugFp9oE0wBIRWyx9aP+F6p3AuBGRYBk0+RUB5c04xxTcvbUqxj6owaV2alM2oE\n",
       "SUfh19oRNu+TyvXN8U6jWjamshg0EoEfoAxh17ANMYay/cMOP0xdtum8ZAUj/d/YLfoo7RN3YAW7\n",
       "2hjvIDDwCDyPggGD7ymjxsK3dI12uvAfzgA9o4SWOXK/Ef9kRA9f3wlRGzbc3unDaY/jpl9BvOSb\n",
       "PHBH64EWn57P2x9c7piSgaNBfJSab5ajx2iLowBHGx8gGufRH8ytrVaJ3apqz5p8SehyUvs3UVDW\n",
       "PpMsq9jOWpy8FAatTMVkBE/AoDmvg8gPE3n/pumPok5y8iXZ2GZIg10rIToBgAGDWFGvcTSgd0SX\n",
       "UVAs621N866TllS0ZBgD748+vBobziktRcvYoFi2aUYfQIM7CENMJ/ayrMDYpoHR9SDt4nXDQIDO\n",
       "+nAArqmGwAmKEjy0S0LdrN0LZ6CNDuwOORSJatkkurUluuajLkRIQi5dUuRHKkcXKMZ6fmm7oeS/\n",
       "PkMtJAzPLqM1J21UPSQCaOt1i9U9Y09KrgN9VtsIfxeE2WSkTSpOYA9+Xe/5jGuyTQsG28S4fsZJ\n",
       "Ml6yNU2O0CFzUBrQO1RG2ATqcw8W0XOKGa6G6zLHStvx4uqjKeIfmKBCHPRLI4mIu0bP/7oP8hbo\n",
       "3IXujsJc1OAhW8UfvZFb1KyI/gkBpayVmAxA+NIZdAMzku3BK+eP1SVnGzUVOG1FiCABtD9lTiyS\n",
       "dI3+l2qCeuGMCrau/vO4/jQJdr756UfVDyApQjRlILWbCrqpDd949+CM8yjRDIXYNJJ8Xdx5XFgD\n",
       "0WFRSo3D7QNgAQTf0t6c7KTK3z5EOeMynC+Q9gMpMi1IHbMGMP5JNw3jE8PWd+4ZhedisPRQWvLo\n",
       "sii219eDV9ruBujSrFWXVYeBFEcQxD8P+9Fv1dMr0dH+tyxOapw16JXZR1CV4QuK9XCkrOMxp73J\n",
       "ifyaUOTchUVGN2qsC9BnXRTOjF9tFrkn2kOZLKQU9zDb7dTuY7Bx0llwkb2bzh1Z7gBw03eAjliv\n",
       "IGPp68l53bof1EvlSMOGfJ9MvJ2oVD0T9nlU//cx2UfcPJFelAXs6gyGpmewH4+5PiYc6cXm74wY\n",
       "o3e+UyJc1F+Uc7G9ccZ6sc5ZYHkrp52Ol7mXBeLj9lyrUJUxgfXFip+j2lTZhceEbJ9rOZdLuiul\n",
       "qyNd1zARm+dpMf5Z9Sn1xTKj1uFmiIqub/RVwaL0G8R/7zKGI2YkpBUmoUQN8hZb+w1amKfHWFzv\n",
       "VFmmUZj3j+84+LPHv3KCiWoi7OoiMJoxSkyaOLB5Pp/xkJzK/yt43LKxBc0MX6ukrfWry1MBoGmk\n",
       "K82zI7lA58Yaoc/5OXT8R10Ort+MtNbQfo6ifupOVntjNPHIy865Weq1EuEnuJwsac5f36meR4p0\n",
       "E603ETio1zBoUF3WPc/CZF5MCCVg8CAyAhuDSZupzKbkLtAIqc2fX/dYZKXLGmOVd2z3JwNFKo1Y\n",
       "xTIAKZBflrmv96v8iKBL3KzpvKRmXpDHF9KRX8wa0FmZRqh21C4CrQ+188sc6eDcKNvoCibj3tNB\n",
       "07NWppHwGs/dRlHU1k/cPQVWu4youAQMgiAiphCX1G1OXu8Z+18/oC8bcHgKa8EuqLgM9lPT6Kmf\n",
       "duMdMmXU2tO2pLm+KdTEbLybbJ7Y8AI5/Av6ICVFOFjiZ4nK9FQ0DiBKruNHqZfhTQ/0X7oR7ofu\n",
       "/wMjqFAfn44Q3EGP1MPaPUS4/rwx2YQumNKsEINOUJt3atG9JjW+xEa1X//7UWWmHjLJ0nqKyAYE\n",
       "JBaDaepcBILtFSuPvawMJYgQsBd8SExVjjcizGLsNNj/++fDXyl7jpgA13krx/GRcfr7t9LhXk1k\n",
       "LaG3dgtrTr6FP2o+QfeGVXmyDC2o52VXDtf7giQ+PRr7v5l6CbR3pQJcyBc9Oi7zz/4CLtqZBTPT\n",
       "D5L1twK5EHShrExDxLnfD3va2o8KOvWh0jxCfBfHgpD3v1m7n+GI1QszgOACuRhLp8YRxSRI//Yt\n",
       "gtg5wTO+h191o2fq8e8R6RxrvRbk0sxdA0vHG9Gc8pTD/wIGz5WqZjFFkHwfaADbZQ9Sn3fwaM26\n",
       "HievUhxvhPLM9V/0fLTRY2fsImvyuC6dsMxv3VvZeC0y1T2cFDDynZpuSR7MtKkxlfrfdvflgOHc\n",
       "a1YOlK2MYelzIk9H7WpZjq3xFAH8ftP/qbBXigXjDRIUI2k9PEtSAHMdhgkvc9WfjXVPYJIKn3gw\n",
       "DNZn65jCy/wE0oHvrrMWAwJlbOjLiav6A4Q8jpkVQqDLGezSQAAo2rVULGOLoOfHcPYsyCilW+eC\n",
       "V/d7C+lR9qE7tLxleXfQZSx65n0mlUTTuLr2CAdzqu4r3ZhbXa+a5c6KmvAqyfnjNWgaNZpToJbs\n",
       "4V/ZYtot75Xfug1Xi/eHuwO6JCERYi6v6Ceb1oGi+bKs9DAg+kwr3pAXIqx4xCaLk0/W/XsVDceS\n",
       "2owifVvzaK6u12v9xZL8uiB4C8PvIWrbAH7srCtWPMDRObPLkIYwx9HJfddUtEl+tKz2bcvAfOW8\n",
       "exCUIgqnnoMaIn2ThVop196ucTkTvBYCMADHzf6uCT9XyY6yZM9pe20zArQbL2T1Blr/J9l2dAvK\n",
       "cFIpJPlU761Mc5GqEOYsUt8poPhS+WxGG00tbJ55pLFLsLKc01ra3U8CrfKxLNQqWnEHBP9H++2Q\n",
       "vy46FPlHUV3js52q+t0Jmwu+93Jys/oZnh2XVWH9IryztJQhZNu+Gw7xL8TxTkKfG9MF72clenr3\n",
       "P09l//8ftIdnzMKJgLaNca1F5kT9Q9oSuziJQtPbw+Unrww4xRVjPBNXeCW+c7Bbon5TBp/KNNB/\n",
       "VJIteeITzdsvUs7Rl/Ogo0Y7T5ri/x9cPDJJG23Z09msF7nA126bWoFPindnIacp8Kp6YXQs8Jti\n",
       "+ImuVW20YG4rbJBlvNO6fl9ZfOW6ZN3dKh7LvbCHvZRx/aQ9lnRZXq94UWUX19Ks2wo6ziPx2PQv\n",
       "OeMEddMqiLD1GEHavXxBTZaGRPjL1fS942CKYikXQW9VY/0PmewlkwJJZOYQwiZXkzfWjn67GEhY\n",
       "Tkm6LG3cORTCZHqA6Wt8kZNodLrORupzv8k2crfyI8IYyf3u9zziuixVKAiAwvNXfNV18k6Av0XI\n",
       "qrU4iWQSAwtcHXErK4r5YpKcg2L1mYGjpufsjR7kGbDh4kTWHvSF+GL59lr//yVvqD4blZ/yylwr\n",
       "DomE4yusyk/wdznDlbzVw+kY9k8nJtrOXPwgB7PDrqW56e0WTpDlnhfsJcLewL25oWmPXObY53p+\n",
       "QHl/vsF1SnreUhz62NLVOrUNFeCvKUAzf4lXrG9MQzHLbLcVoATfGFJmLO/Sc2HRRvXNz3LIsX32\n",
       "JroRAKQgrBnT6/whMUeqBv3i7icP77STthH8H0pN8qXm2w+rMHmOi/odkvlFY+J6G9gthII7nkcq\n",
       "eEiw8mUuwaNjApDeXF5KvEBJu/nHL7pAdPHMUcTUeepz/wfJCRIhInqO2rI/TQzdxDa7DvfumNeX\n",
       "Nq4ZmE4J4HqDZuJQTAtAxLsPdd+cJOCjAZqW/3PCCUYCSefhu5dOjxj/+tBL4u6qbN+FJvSM8u7W\n",
       "D072Ho/+5ve1wcN3v++FzDGLRH/x+Nibfk0MvzcTxDjSHfzVHk5CvrAJbftXZlYG2MAumD5JPY9k\n",
       "eI4TWFZsFzqlFwbopdhnYdzyR9nCyPaur6Qb6GOY0PGm60vc448XldOjuEzWo14YRaH5WmhgJT7e\n",
       "ijpT3VOj0fsJKm0yQpCqGfZbpz/XeRb14JzXnTCvEvUaOsBlCVdDfyRMxAOYWJvO3pLFGv2sYfOH\n",
       "mhv0RMwJICJxEO8unACFZPnVQnFqvuEDtOCT+XsukZ6DIztOkkT6fuou4YtSsOxf7AU/DkuhHuq/\n",
       "jr6fTAKKOrQPgRMQikneiKpJlLy6qnOAOnMRP/hbVYoP3YereWZICk/abclqgmsJfvPjQhsfnwIN\n",
       "aGV4WlUJKEgGf52/Ta8OATte1Hx8JBbr7PSzLkWyyY37bWB/hre8h+zx5UNKZH+BXUfDKqo9QWju\n",
       "as5YkCqmS5lYeQ/k7GU74FgTVxRza3BPA73TaFzqNXOy2twPKGG6m1Y1O5Tctv/FMaSRhoV7sOu1\n",
       "y1UYr5SO0ypKYeoAAz6AhtGzXvl4UZrDrh85zMA07UWOQlc80qAC7rIXdH0qahnN8wkkUlUBvkg4\n",
       "3AIdme/v4cffsdwXImegwMK5su+2SuX61JCqiq+MCKWNIXgCnaXh0E7eg2drLZxiCP9mLNKcQy9a\n",
       "bs0peROh4v1vHZnewO7r2vJJbaj8dCYLHjyaLCFROZaMdSfEtioE7DFRGXk7Cl8lQsVCymNvPQek\n",
       "oQ6kTxGaDyAI8yg9A+IFwfFJ/BsQWA/ONFWizPb6ZdF2w5PkqSzfsGRqrSdQZFwd+TjNjetg7eqE\n",
       "gDpXwOCBvd1oE3LHvv///oUkMrVo9aK45Vp93s5j8zScVq3nyJrtTG+YjCzQBAJ6AVIY652QZ4qp\n",
       "KfDEQT+AIg8a6eJHHVyyGsvYjud4RqT8PeUG1KESlr8WDqmR/C8Brl5H4QQn63UJjFMH4li6ziZg\n",
       "no7796cVk1ibgit3EqDHOjq7vMqwYEJjQzgnV0u44TGCRjCX34CsVxj0hq1ZJ8bixEl/3NfDf9re\n",
       "j0nfvtesthXAOcPIoKifRHvYJIi9c0/01ipWHtSSb+K1XhicuWYSUw5grwVe00GC5PznDMWwE9LL\n",
       "zZH+wnxXFR9WjZDvVnM8YT7fF/HnpZUC8RvzQ8VKpY68SM45neAHsHcIaokAb56cvKalb+0iGgKV\n",
       "zbeYCZ7BxWOaKLzVl4AZ5rQZbdVeE1l+kZx4LIUXlZR5Vqrn878HiKhPhBlqiIp56sG9WyJvalT+\n",
       "nA1oma5C1rgjUELXq3OKQ7Ep/yehu5usiQnNt09kAbw/hK6tHg2uCWrmk3ISV/tas/rMmRTT13QY\n",
       "RrhnD6BB8c/jxw71e/eJ5yQpnK6DB87+JBPAoWN/Oya/Zv/OtpLFblyj7JG2wjbh81U5OqW5pMqp\n",
       "RdBqfjTIZtTvt2igAQqrPStUfSKRFtvRTW7qDfnIQrevbfab73zClgSOGFzqIP+T9JVNhMFUL7DE\n",
       "BHJdkN2GKEn8U+lA0XDvbQDPxb94O3EBwiiogzVwBk7OAnlIW/zILfS0YKR2YEsEvG3jakZ/MfBq\n",
       "0M5/XYt3a0yh6+wHkCoSV3KW94AIZjABbtLm6C9XbcYF7FeESydPcMimb+QQK+WT+FgreOP/FzbV\n",
       "kbZ+atkfiaOZShxGV+FQYhZ57wHCd40JjqiLwL8Almnjaz1EQncFg0UXpVN2UxW1SNAsvO+fnZq0\n",
       "kqpS/mnh8rEW48+26lXo6brEa01wpmhpYPXBWKcNd8YMAawSykhQNdk6jf3yOV3LLQAj0lLa8i2G\n",
       "UbhiEZAJq+wvBArUvq9sz7c2dwyVygOHneUSsCq/+6B4aZkmsZdIri1ox1w0s5N+IJovLxArOkUW\n",
       "PIZevpenNGOmbalSB2TfLnjunKpLatAq34BITMtYlKJezWOftGfUWvM8CYzD+R0wYRwgV569sPAQ\n",
       "Ti6zmRaSH4tpD8JkMYV53GiUhDKVflI8k6olEzfC482+B3opgHuk1VCpaFDo+Oa+bY4mJ5yk+Q+B\n",
       "fnzxGJ+50741Nnc6zyLLlvkgrrYRsMKGXGPtMcJOcWgQ7A2x3E94/Lf89VFh9Lbwr8gichBCNZ6y\n",
       "TgZS66vJ2MBb4RO9ERhfjZXBJH4xYCumq9Zdc3VA6Den+QgsnTMa0n813t2hQXIFuEmM4n1QLUi6\n",
       "JS2trdHY3yQYFBhENiTBBAyvdC6v/WbVXcqMhePB9HG47+g21yAeo77U1l+H5YfoY0q/ZzATtBYs\n",
       "W3Sk802wHALHJ02MfHT4b7qDciSMz9sUiuF2WGtuHzSLD4cDb6Jwgg+KiJQfgjQ14nT5/shK4GmY\n",
       "Ic2fyMy23X8V6fXXdQ4vpi1U7B5WFN641Egy49vggIePJmb6lcMd4mTaEfDIawyBW4xEE9oe5OF0\n",
       "yK80Pv9651fsEpYGJ/3Z4gXI3RgG+EH1hF1MBU7PdK3bZRh/ESYV+NNujxjMOWjaI6VSmLFGJ2Tq\n",
       "m88he4iLN65fChGmBsHKsuveESQ/WshO8oevulPUFdxD8ncSvCHwPA4WYdc5UPCha6EcirjmeWo5\n",
       "rmNwEFP8mvzCiDZiYJXKgA9aF425vv36l+Bm0bViAA1AKVzcPk1WdhQhtnUHVcfyiFEhWbB83u2P\n",
       "GTDVk1X9iAKEQyUSFJx8Nzz/sn4Qirxa4+UoW1J/Y6EH6oWj3vpK8rdmBpOA4vdjeZp6y+ML+KIe\n",
       "p0lMIWGoR51WWt3mmRzI59X9L7U1BsAczD+wvoUX4efk9E5tRd1XYxqZ74hCNn6SLfn9rVYpotLB\n",
       "wcc3gR2/v4NqjSyvPEb3L67rZSvgUt8qz+FKN60O7iBzl9UxRbkJ101Hy6Z/15SUKurrwoHq+07n\n",
       "lnO/YnYi0L/MTrt1e4F89EYxnobjmzND7lT6k7UPJbc89eaWi2yRHhINQ4omI5jIXpEzGNozeBJ0\n",
       "KazH/LR17lpvM+6Q8jnc83ICeiVc6knMIZ3yysZXqGK7FiECUTxMDw1gGfaQGXmYva8B6dogD+nL\n",
       "UwM9N+Qdq4lQOIl7YfAbOTYkW+Rb6i16TIb8VnNNtFNYb2aYAWW9+XSt41OVE/Fui4fKE85xXSjf\n",
       "vBFddUvPMpCRb0qbFY6XlpyAWlvRmJ3+2MTN4QUwiILAKdQzrq2/2Eh3gmVDg29LKUI1JDGj/zoI\n",
       "L87qBVMlEeXg+mEy4gF9qn9yuV1+NC9gIaOg0EXEwgRvRLh4I/0JLGnunKYT21w89Goc/bAm47/t\n",
       "O7lRIW0ISFwmCHv2Cm6gQ9c4K7k8HZNT3b3Ap8PV0orlX1SUDd8QbdzuwI/d8pQnbwtUMTXASRcT\n",
       "ifz0/EVynlnswi5f6zfpDFEAkQ72UMRnvUDbblRMaAqYXv1cKqkpeh11p/fhkX+d1wae0UA1sRXn\n",
       "neKUKRA/PNoZWiiCIMtTKewtc7uKFtSNW7GFVqstQzwaQNQprfOZIRbpBbXkqrbp+f7KUU/cOqwn\n",
       "io0fHj0YIi4i9Nm86e5JWLHyfHFXSU3fxemfXrA5R8jpTnX14HjmLqZt1TB7vfbkYTKU+UP7CnQx\n",
       "CvxyPens2AZclvkaMdQEjqA38fuCAzPvn0UkdlCGcimS4c6czcsbPflGwbAEwtaSdDNqfdHVqC/j\n",
       "ZgEKJtbv42gtmDrycWY/564e2ogbgCEnlhZiQgv9zS7+A0ex/MplE+voHSugWhbAdcmccTJrSMfU\n",
       "S+heD/pZRDgPtoqK7sKs5sj6PUm9ayMpLc5ROBocMmCzDu97aKZVlWpmkCPtLN7FVqfJCi2e3Gax\n",
       "jR2NzVdDWNYi+kTCW2kQzZFENMwTQ26EX0BvfWQ+E3fFsOlAysCXdOi+E71tduI40/tt/X/ZeWMV\n",
       "XgUXVb2SpI2bUq+qfEe36Bd4alGnhaZyhMrHIW6QJ8/ZjGLGIPnxM67IOdd373xD+fKc6BC9nzIX\n",
       "mnfua5AZhr6/3q4YzAdTnKmEl/QClE63PB4TCaRdWoz20lzx6e54H+dv9B1FknpWa+LRzN2UnQ3A\n",
       "PmFHlpumqoQCfRntSHQ1L4eud9qOIT4PhjbMUgPSLerjdvSCiXfzXVDDCQA0+JqjfEqel8+Lh6NZ\n",
       "io+1SAgDhJG2DLo6giZNTfRzOiZXAjeno5Uk6s+U/0qsdFJzdVbAbtewpN1C/wc3GDLTHeFmluw9\n",
       "NBnQd4OmNS6g4dzksV4sWteE0hlDbUvz+lF27SSzkg0eK24PYQgaGDGhOf79EIkBjCpi3NliYqux\n",
       "R1EO81NatBZURU+xKxM6On1evWl21HN5QZMzw+oSNMfzmUWsoKAokxegrB11bxlAD1Vjp08LAMY9\n",
       "K+t9YyEEDNy0GVZkr/LXDjYoW+IURb8o2+/+tfrTfs8Y7mL2E5b3U0IB23WMVPx28UXg9Q69jugI\n",
       "0M0k4+UlyGJBm91j3c76c2f4TbaoPVKtaJoh77IB6D7Tt7FjgYyNWEMS3mzGzsFRWzRc3yJRZN4Y\n",
       "mkpsVHbAuOwvVYRoaXP+nqN1C31amueFoEiHGDQLnXqMemqV9f6xwIBAnQcHWX7Xg4VTg3nLw/yJ\n",
       "tdQb0bvRlR0z6rjESenM2RGVrIn/0Cj7DfUvLbQyxVLyIKBYPa1rbOid0e98OGqKn4cskAHLwQyj\n",
       "UzTqV/K26i075Qsy43PY3H4vbaDP/6wXMgO1SF2Bh6Ab/J2xexT7teH71FN3mBAPhey/bydDni3n\n",
       "qF5oXMJP/RrvjmheS7LRNAr9bLVFSRYKrLoTHN2wQwwIRkStySCYtQoGOZI/H/cz6vZXI2u73EC1\n",
       "9R1NEFYSWvZZ+ogXlfhqbaN1FacpCBzZEEasObvJHX+W6q0qLAeMvXrTeRNGAVyX6f4yuYC/agNT\n",
       "pOEzeWZBPUWK/0bel03H7joM51F2zTG8gDUgUcBU6wifr1FiEe5IHlAvAFS10hhYwcTnOWKgEhjT\n",
       "xizuiJXGOGmNzXcyrx693p4dekJa68VBSXKHRvYkTbyOeYYitpQdITvL+lIPYonMfNwjZ5Dc4FvZ\n",
       "wk+c7MUQdM95T540b40sVmlILFKEpONHnvxX1w1KDMmIyia2SC7dTC/2Xg3qXETmWS6CZAOUwToU\n",
       "/9sq0spf/3WUZNkyceBqtNCOuncDSsxk+ZryLZ9U2bPXUZN+ygnqjtDTojCkxo08MNJdYelOFZ/N\n",
       "gz8yQiDgeDr3Y+HkrwA7rVsKnqwuWLt/ZGPpq53VI1kTfU+ZzAH8L+Ruc3dUoq3J7XS7/0sQTzBi\n",
       "53k2u1j340NOe2+BGygIBPaEti8gND49/NxFf779ehmwhzKTvCJTLhlK52PXmLRzckkBVGsc7p53\n",
       "PPxk0p0BE+0bIS56gkYVmt15HOBSLQK0lk3AuwWEQimGi5Jza2Tz6RvaIptIprfwtF5sgfghESAz\n",
       "EoXXAfiyb2HzZc59yKESIw+T+JHHVr0mvtKxz7z2wnR93U1y8UOUVYyfjRyIv5rTp/onGv+bOrg7\n",
       "VuK/sX3yZWO5qrFke9Y6dZLipfqXpu2MyJmm9E6JBu/bn8WRhRmgFrTv8y5/TIZUNywF3MtESNSa\n",
       "ui1uAYJjZhHNlfX61SYmW8N9WeJEAXktPpJh5JfOeBNZ5YyUa9EtAhkgSbRauBDEG7GkgmTUW0sm\n",
       "4PtLRVmL5EQXTIBdsTqoTjQAXNcll5OCbF8XIYbAhAtwgfRCde8SENV5tReaF2wbZ9iDJllEmOrV\n",
       "arsjDZNoeD2lQRckeQSCVY4orU2xvTBE+Hl4qLsie9mnQX364Natnkedu44SFO8dgdFrBFRNJKYf\n",
       "EYx3mX9kAaA3qvyp5y66lwARQZbUuqtuCdrEeLd/+5/J9p/x+RBKYyr1rROI5QtuR97JCFEwTaSZ\n",
       "K4+IHjBWEl7igx6DbZR2dPXC9S8wj3LcuRz46AdqbNtBn9tBSVfnYtEWPD13fU1Eg1HzmsbFWmS/\n",
       "XK082Awi7xFZ3VkYbD5lBt5Kw8nw4mE2pwsOOQY4bEoQVzVxIR/y1SQ+qWy9dHvjZ4ANCNC4aiBn\n",
       "gP1HDvcyP8733t6/XR2/K/9tsIAWzdSKne5ZVUHlKarbidnADGj85IdhbQ7rEzHciCaXeSR8+8f5\n",
       "LSESHG0nCYuUri1sXt2j8PDM3puow0C0e3FRf38GUYO3EkyF6BsOQaXlqbQAdfKyY4OjPspvQmlM\n",
       "+OTEv9YrCX9gFc46ti5zSjYEKciVgPtqp0j/oGqpg3iXuxtAw0ygqz6GufAATkb9AOXLwbQk14Jg\n",
       "DnfKJXHA4QKSdDgco27xVwVWKKXjSVyncT66OPdJkl4rau0R/qrMZoSv5wU/uGLr+T6p+KMfB/ha\n",
       "GSfrZNKCGhjQsm2U5SkLNWEYsV88ReMcEwII2WCkzm6wrZkOLmNkYDaVHRz7GASzK5++8Lqgpkh8\n",
       "Zv7h3xKABfg5ehotrrVFXydpgAYjEqi8TOQPcMu/mKDCdtoHvti+wxLyWNEogksCRid3WJP86waW\n",
       "+i+oyBgk4NQbM1TPdgkzKem/PmvuSE7VTdBh4uBws9mERxYz00ncRupaxzkw7rfwpsHSKNkzrtIV\n",
       "n4PW+l5KVy1WLYuqh+v528QCOLFTqbY9jmGVSO0Vhukqpw1wiWfCu33KXrT9SdpAIvN0YR4ztFV3\n",
       "3rdDSXBfeY1oy2L65DkxAOljGbD7Z5IsXbY4LrNUWk+kYOSM66MiJcdyoGbh5PQxUfvCXOa7h0aE\n",
       "tme2YykX8zTzOyc/WV6ODqc9y+XoqAv4kQC2EytLlR7jLd5mJckVVwJFN7l+nyJL8YHLeRkwLIHe\n",
       "8IE/iGK7sgSHnDIe3rOsfa18+q/3lMGusxTY6Hqkl6kOZ9C1tjdceVMVkOLh7hbIQTVHN/rQ39vc\n",
       "d/4vn8/MqHzxnNCwZkyugsP/f7dpRTMlWZVKb7yuSacqj3GE+8Lrye6K3YBZMblR1elGgqyT8jDA\n",
       "N3dIG7Qgfx9yaTHaI9YrJzAW3yvliCd6pXCKmzcGXcs39q80sOsRSjv6tCrgm1wuM64ywh7eUTv9\n",
       "M2V3QgwOMlCAB3iwtghmlz7ASp5+yFgJEH9YWOLExgiKl1nUaU6lctC5h9zeXuYVe1twnKrAbDdx\n",
       "bhRlRLZFxaiqGQG14Zy+vpmt6O05P5FW/C4HIsGkpsUcuzwECU9Gh2arTqnmjx0UKWNr+67aA+y7\n",
       "iQkEqIq3u02GZRT/dUnkHFtIJykJgoYOoYAQyQJ/RzaCIHLAq0tvyrTUDBd4G97mk/+Ypk3WNUqj\n",
       "93Aw3o3uVf5MJXyxf21o1AijSUy68ZwwKwHKfdG//uS8XSqrQguRjnXx8d+w727m/b2o24kwSX84\n",
       "7ZCbtcqgJd/lL65sOdJ+Tj1hav7gwc6GfnsslJbc9lnuT+BZj5rDs7ehCjJ1d/TC76Z8tKlZu3+4\n",
       "5bmKOErotqeg9cJSO7FYD5xTlmYCeZRcjG8d5KPrnmHmExvELS0AnmXoU+aAASO/DGl56W1kCQYv\n",
       "Tyo0kAzWvTLnwmUojx4W6tbrS2NBv7Fm+osicBNMg4jxE195tqscFmobqpL9rRWyJyDWDvP86PnA\n",
       "EGTtaBjYtK89VU9I9YvNjaAyDCi2AohCGp8FGSkkEC4QeT+clDM0Ot+7X66sEqEEXqjrgqqD7hP4\n",
       "l83x1D3LyP/EoiE+jHRpcTTuTnbHGMm/FwXWiHXZkx1J5B11J0ITBi3J5JBr2AJ4bdaURX/5bC3b\n",
       "AQeEF7AHzdnk3nFHyf03+z9njFpOBw9lYHoYFaicWwkmdL8K6Jx3YaK4YwquIKFqjnJSg9RybRvd\n",
       "GbXSqtgmKQtFBx7o0BwyX+Y2fJfkPizFgyr+UF+dRHMaqTSpOHT3uzJPJLng3eAX3sD1rOWXpqEz\n",
       "Z/X/tv7xsMS9YIKxlqBjLf420nozDlM4kuyL1KM+3MaMs0mL/m146HnWfZx+Ybq0t9PHV2CuSp9W\n",
       "29MnzrbAARS33/YZLcC9hetRm2y6xG2b78+M93J6hUrFh/OVuT6YM6ENC6SSGZVBJs2MRR8Q6gs+\n",
       "8thMx1bBh5AEbgAs8co1G1U9iQHa3yd+oDp0S+Tn5MXFtlx0+CELFzTMRDZFw2igrsxBsbUe5NvQ\n",
       "SeMddjNXQgRZN1ilsMWQh9jUVaRj4v1CclOHWvJug+el1vEVx+RKmT4rxdBHu+z9wQVUXYjZwH4N\n",
       "XKTjuoCw/m3qvXqkNU/2lDc/tOF08vDgCOiEygeuT4cx15bqc8i2S9E8B8AJD6tZlwXKNNQ1AUua\n",
       "qQ08WmAS40ulnztgsNmkSZSHTyIsZ0FLfJifvbBfva6oAprU/dbaqjwOwtnb8XYU+Cb/JQifRhdB\n",
       "d/r+YFW76ohsG3P+Ox30jn/LDaYqDBVAbJ+xBgaOov1NDlo8iL+DHnvxV0U5/tSemCnI7YG2BlZb\n",
       "esg78Bh91Gwozxx6IUXkw9/Jh+PSo8HheOKcavYtL7ouED/obMvotY/xM6B/kN2DOrM8AnGK1AgG\n",
       "mn9PLf0+7EtR71PtaeaOL4rskHuW3A6DY5DfISWF/FMGgHNIxRLsIA8RhA+DbxCb1izYpx7hm1YH\n",
       "NqZs3jlzFgcbIe5EIZVVMessdTJgttUV8gG/mMox43dDzZMja9+ngwUAx1SlJSmr4Ky2GnnQxZHV\n",
       "8e9dlOJr3IkxoOtm1/1s8C9GEH0EAp3COilgo39Ntr2cGCd5BNX7DesMwFvVQiak7reii0w/KzTa\n",
       "HkqW59ffvPewdrUC8jZKck+KzsMRGuIvLZCZVrhb3f6go5eA4kvedmyZ8Zx8UinhVNzUxZxLzL+s\n",
       "14I8nVt0INwsdaPqrZ7WJjAS1smeHqEhARYnlIBZW8XrXrU8MG9XJZ91Tt05xjo8GQBx/OJ5qQ1v\n",
       "/ujjJ1SS00EahNPJJBx5+IlgGZQN6I8hMb32Vnczpg6mfLUa99pQMwcxEwovh9U4u2/O7B3hpUdA\n",
       "AC6L4fHq5PI0F1pyIf/Su2+H/UlCOPOqkxoZ+Z9KSm8TltrqRXkG9BfalluXmIwoQqBFGbWaYEHl\n",
       "/RQY4KPMwL6Cg8TacGdkhsjGhhkJXI8p5rX9sIfKOkyQMJoXxx44pmuAq7Usv8pJdawJLx2jBq/U\n",
       "IVa04RqBPoc37aVvrRhSYhJN5XaZpcrdneDBO1YHwp0fIjjp+F84pcglsQInUiMWSKz9V5jf8BWI\n",
       "aUWNwzSnFeZT26G1vZbd8pqVZuqZG7MgMSTRlain0HAyYv6fut9SvF0V9AGek3KiCtRsUKIMbmFv\n",
       "yxiF4FNnPLIazkzku+0/BI1sGaXIDHT+2F/Z470gRD4XFynbTO4dGhr3lNxWwms8gRXeeFDfeV7H\n",
       "5/ikIzzK/Vu6zzgb9LXjWKEaT7jlQIGOg1j/YCgMWXReqlUnP7cwilZQMGeaTvUs3t3nm4gNPWfN\n",
       "l3Q0Ir2qmbwW/bZgY69NYDBt62SRTPI1SZegkKdx87NUaTsCyYLLmr6+FOUJ0KZyLe8+5d7eCHs8\n",
       "vN5SNzXxzVCXWK+Tcc8g3szbHkLT+FcBnUNIj02oHQSqNex6yRNuwQ3jbhREfNiv4koTKlLSx//9\n",
       "W4BvNOpTwpWGfIov2rKNn7/fF80esu67mlIpK6cK2Lkmidg9UI4puU4M7hk8hD9uVqNxCibaLH57\n",
       "Ic/j6ICU/EnTvbJ9VOInC/rKyzoVHS6ZkIZ3dCjs4pcYBEZSY0uwV7fNsrIjVumRj7//J/dh4av7\n",
       "UQA1r4GHZBHAntJLG2IbZ/Rhc2b5yze6sfCXi6EDhArN9xfpfEfF/V6KYpjkvpOzNloQSLhZzMrY\n",
       "mdBO7cwhrQ/j07HP+d2OmZMNgoiM85WaT/vFiWgLAOih5zNiOHHryTNJPcWa9i8g7uhgvuoI7Xu/\n",
       "38aulWZJbHVOoLaowQDTpngOOLuWgvSLV1631Cp5qUuWXTWrnM6YPPWnOWmC5r8BH+2z7cW0eT2o\n",
       "8zrl7P+/4rBtyT71WyXYp+SrYeA0bnQHoIHgyjOCC/M248o+k6lKMql5Ypzby3BDJeNCMEKwXzBf\n",
       "QYKppTYMDr4ettxa0IcGTkvxeb94NAoi440cJ3Juk5ndHzT8ychb4RAV0eFmvleJALM00gQl/txz\n",
       "knE4xOjgZNKiDvwrWX6v8uLeKdllaoG2kMmA3ZYse6CCZnxQZpjFqGZUEu4dcv64x5P4ABsh3upp\n",
       "ipHY41l+2dxugz5FBCqVJpyObnPOyHgk7yNkGyKF9RfOD562DE5Id6eMTmZNS1wUVhrF1IAiwbXJ\n",
       "5cvn5Ttej3r6GeJkpvMABqFYLUWZQnJolGzMrqHhxNh5M36pWp621tAeT6ErvA3R/lgvbsOuYA2n\n",
       "xKLOUS9Q0uKKXwLJ+eONfigESwgT+wQp56Ai1HFeqbxch+d+fm31HSj2ikmu8S3pLpNY+sB+Vixn\n",
       "IyDcDw1vc2Hcsx1AmnlTUx+moZCAwTd0IuE8WQs/74kkd581lfLIIs6INgu04bKGzkAFd8Ve+FO/\n",
       "0flQAAEgRLBhQQAADz5BmiRsQR/+tSqAK7Z1IATX5OnFzLV5TFCOv+1aQ5FbvYbRR2TUAiIDMkWf\n",
       "WnqohlRJb6U1J44LkTnddXSMGgvwbYNl+An0XCOIDHv+P9SpHMauav1qeS5nb2I1cviher/tx1NP\n",
       "q0ajaUT2lEUPYh6+Q3rT86JgQEEr3Tbwk+Dj5gQ1yZPvBPJpPMf87FJzml/2XGag5jeIoQB+vWX3\n",
       "GzLbB6xcYMmbdhoJ4Drf+n2DE1ZK+AwrxLNiPLAxvXy1s4D6GrgdtUigC253nxFqE3qwhYOC5ag+\n",
       "szD4xqGUvpgnIbj5EI86G94UvJIm08pyPWg4eF5KUCe6boU60yUpvsIHiI1GGokkeu0YLOdWF8Xi\n",
       "gCx3JmNuOQuHJtPN3Fe5nZcn1wasS5WUzCDa/lySrSPGD8IUwVd8dmtQnrMx75wVufIvLMknVIBt\n",
       "gCbSAbY0P2RcSFsxAgdNQ4ttfSNVoiOOAko0z/uO9tJqiXl2L36nonJqTNYsjFqPO3RRIHkgE1E9\n",
       "USngxQHkQYE0As78mJ4nfcvkQvv2WHPDgt1KvAveEaL1O0qby54s/pCvUeiZLoOvx7HmHweUqVex\n",
       "h8FbSwh8SIZ2f+w+l7W9RiGLjXRpmhYRxIMCQClPqGKwWOZ8AJO5AI+A5f2UQt6+atKEVBG47f+T\n",
       "4Lws96/cCv+SOyBMRJDpf5//iStfTQmWsXPv5sZw+uWcoQzRFo+jhWaR4njYxCmYVASZDOq3p6nA\n",
       "USRBa9YjSr0/xoR088SF+FPPSaKdllt8IQWV46/CnykjQzLLNbD7NYFsDlN2UzV86wnxk1FR9rYp\n",
       "O5noT2slixQdhwNZ6asc/RX5NQ8Dq6Btqafn8Y1xyRb+RWlIf5m98j1pRj9BZigQF5KxQraStUIl\n",
       "zoiafY9mABjctDKEr7tes19zY/eND8SC7InRB/uteIlD5dlf8T6S71e5BcS9ZcIXzdrCLx5TqGfo\n",
       "XeWM0IY2DYFl3wFCoZEaxDPjrbvL21/yD/KN1tA/i/NYdu5BU7526GlJUoYKhOO6z1mVyjpk9YWz\n",
       "OfRjkGAoAD0iIOMvafovKlZt/gshOpACql7u8M4WPeQpE3BEIJLoizO0VyjKqZQDFws8ziDLmtiW\n",
       "u36W4/OQuBy8KzWN2Tw15nU+Ou+EEbM/SYpybhBB5SPJIgYAEEp1DYAJuEKjXWNWmJK3G7FiLTkc\n",
       "1U9HorcG7F7VoovaqVE/i9CoYU1h2ymdJqEvcaGGDCSkLdEZqaTf0IXlumZ+Zgb7i6f2UtQztLLy\n",
       "Xk66XVXlzSmr9zRKWvDAZdf08jRmv4XYCaCfx08B8MftjHUdfubz9cT2HrWTfN1XGI91ATzgCPOa\n",
       "raNtJZlTJ+tUBQqbrWPA1JZPouXdEX1LMO7zx9Sf2N+sbQqvxL+lluZIUQFvAJNLsdTfkg9F/etC\n",
       "0WQlObdjYSaOIiFp5nLf8qwp7fyrjAmgFYd9nryUn8oCO6cPu2TCvg388hTCikSeTOLxdW1bgG2h\n",
       "oz1hn9MZTXfrwAyg4IZH55nBENvvIEWNLF68FI7t2ovUYtmxD4IvTes5fvni3RP1JuE+5QYL0+yi\n",
       "whD7ubmqXP4YOt3ifgsGtZRcehM2UM+p61VfurUPJLvwiSPUic9GxXAuTwpPpyZhDNOhiLU/tqyY\n",
       "w9cgxwVQ4va40IAKq/a3XfGuE6tdoXEqZhdOGQ1iu69Ds2K9tFph78vvzJeBmWXqUzp/PEwawOnO\n",
       "STT1zEpLlj2UAITtzZHycliTrw/eZmNb/GCJ91bw9HG1Cg3FyJSDM/uuad3uz2xyUkHyaCAxDTbk\n",
       "T530etT2QeHZ6DQAd7q2HujZa6jDIkLSyEMZs+sx5fZSLm4yCGdIJT5mPeD5dsvwXcZAdWvzUiAF\n",
       "bAegRz6m4qAm78hY6CfvLJL8SDfrKSDkR6N/IkIj4r982R+Uyzu3AfeW59jGoPz0aL0WJvMOMMG2\n",
       "IsfXBt6HV3uO7Pu81rh9JQR+NSimjnP1AQ1zoxfdd/037x6MCiOGP5/+0rn4/EET4J/9ksQNUsII\n",
       "glIWNxYPmM1lSlWMVM58m1doed7t1dawQxFuCFsHKP46QRquaOjuheUFwt+J14BHhHMn9HzlwSNS\n",
       "mAT3YsgnMd+ACM9hjAnXMQSot1twSNLjQaH9HHKmIu3iV8EGtH1CFhF5UBjOmfLHvVHRMqKCJNuk\n",
       "wNE7bjEUWZ73BWuOMqNg/eCU1+rjisf7SXk4q0BswRVhzVtFAVpD2eCwJgtKqqNvYK17O83dXY0Z\n",
       "pA8qBpD0Dr/bNF1AlFjRPgDvr9fxjdTRZI+YG6OfekNLYjc+huqY6nSwZ1eYtUA+UNdRx31//wnP\n",
       "nsVP9s3nhqYEhzY6i3PHuCn0JIIQl57aNCWokVD0LakjRUkww/65GiE1aVDSFgS6ZCcVS6Q7PQK2\n",
       "AhQhKXNaMVvBya0MKu5Pvb+Ahu2vhjXvKEbuF8p215NVtJe6lcKu66ZlRf5Xj2Qt9AQ9BMqRkpib\n",
       "uRh7ew7dSl8oe6i0N1CJ0sAofnqNYVw8jMXZbiVH5ulqb/T2tpHzdtedEJZ4PzqPE5n7MLcP01hx\n",
       "6HR6ADxEmNnBdKIfdMM0XXVYzJaNsFuISAjdIXZyuCyo+mavFELEwsRDS49ZqZyD3wj1Y5uZ0jXk\n",
       "OWiY9XgH7xQaxozhQQuUGrfMoYYM4RB2oElM8W9iFM1dLjbFx7FGzkQ7cpBs842xOn5JDtJBrr2b\n",
       "53vYRBKArLwDPF00OxC8uQpauVL1u4fF0C8Kzw9kUCCelICd9VWjFEQYzrZbTE+caovcAHrO8s0S\n",
       "OQlWBanU1u5R10sAxoFj9sl/x3XCMmcR3BiqpMOjAtV88LuS7aZDyuZjawcuiAhTwUpu9YyUZoUq\n",
       "ZwpJBUYvxSCUbQv8GuQjQFyaCUmmokb+mN1Fuf41IgHi4PgbY9VPwmdPWMJZqecc+YU28uz+8Xxe\n",
       "oxTlzFljNdSZPczZflK1FdyfzJZnHpNNzEMTpPQDlQZ6E8OdeyVItNIpX7E3k/b3Da0vnBVXf0ck\n",
       "PeOM1bpvri5C43L8MK0wmoDCnAKD4IMeLgwzMNWF0w18OvmeGqm+2hrW+QCYEen1UHS4QpXGFnS4\n",
       "KHIvufjVP8qkDjQQKqKC9Oo2jO1gjWeemUwvBT2nAqvq05dAS5FEX8K85h52fz0s2jJVGbp65bZ4\n",
       "hy1VXzBZPfGdWFPKaJjJiwj+E4YJ5Abq0vFDOzszt1sXP1hnmKvnyDOyHwnJir5ObHZmKGMFLv7c\n",
       "yjZMhhfXllKIiEKev2BLcvUP+mve676/VbtmZ2K+qHmJj00ZaDP7DzxJdJWnPMwrJO7KxXRZiMQ0\n",
       "qpkTVPVXamQREpszHsCXmdCXJ4EnHr3kV2nhXdSFfe/ZI42r3XXTN0MdOuQtnEVtkMl6gZNt2rwH\n",
       "9u4AwsboGRvzCIzmgkl8hX8GspObJ26wSIn/uwu8fJyvXAv4ozRiHsFBsTkrk0Zuh/NoN86xJZTM\n",
       "auHYb6JWeTiHHdc1TNQtS/yg41BWAxUbyKypDm0ZnlYbG9CH4AfvNh935dFxjQPlxM0/Bpu9+Ukj\n",
       "I2qzsr5Ni+wfU97wISQXioqz5x3vmVUz0WdxEiGmcT6jeG5NBcA3AzuJ5GUsoO1o547YHv9xj0Vc\n",
       "wm3QAlonZn35j8T2j1dnqohuW1GvyH1rPKihq9kYxbvMzVOOllcsJbZY26Wi9CFauNUUTtsSg8l3\n",
       "sbRMXZdlcge7PcEwqQZKhuEVl2I2W6fbqn0+fsnissS8e5hLvZ6yeh+stuFgf5fO7dFmbgfesBJ9\n",
       "IbadTpGepelqcl6WOCk0/2cTI0IqwFhSjVmzEieqENRpbimRSgDOYMq5pwqwYRU0SsbUd7ZZhM5T\n",
       "05pUKmqfkkLN7QtgcBZCNz9OShcUUnt/ZUJXVys1frqZV9iotpuSQxZxWpV0sVzCx3M3Xifg3AIa\n",
       "GKz/xjB3jvrUOKxUhCDYxzud2oEbS2XkF4RBxVmhgvnr44Lxn9I+zwltkLytN0+uIZLeMvPtQUgP\n",
       "MaOhRkcMjUrjdB5VRokcFNWXSNbzOV1kYr9TNoa8A9dlFilZsr46tkuQugrPrBqV9ZwpNKdxNizn\n",
       "KY+Ih9z9rn4ceVa/Rc0YSmSg5JSOxt3vcmyfvwKv9W1fSV5dWU9yTcLG5cTB76sm4m6me2DOcHFa\n",
       "Nhz2jbgG+boe1Tba0rjvyC02uWqX+80at37SxPT9gwdowhWYNtMUpD/OFS3VcAEZsZ+GfFJ8TGTj\n",
       "6WmM8/C0WlvnAfbVB52hAwlYdjj9OOL6nsyRdEgqqp1xzda2NSkcfHNR0+kPKmsXh066MILxpFZI\n",
       "xkxnES4mxnk82aKJPcYFrsbmvTriUMOedSiXLewikWsZ62wBv3nFaPsOMAR6fT4cNK7bapQ5P6ol\n",
       "X6TVSq66EXqn8Ny84v3gAbSHtTXde7CCRlTugDuWt298WRiCY+kLBfGyH31B21xGXm5+C8CHbpTV\n",
       "bT+98heJerwrSHoXo32p3QsPoKIGIanGr2jHn/OrciAl7L9CXwt1zFWT+6tVkaGe9RSjSO/UNumx\n",
       "j4wUhKDegF/IlF/G6DvtxgeAx/ysdBPTWl1CjkbwNV8DG4VS7eidWZMYOfUH1+vH8/h0US/lAexi\n",
       "oGF0i4E3BkTMVVApbWYgGfhQBao+TVZXgTc/YTh8dODfdN9d2AwCE1HO6yxImOS8HXYk9YAgI8bZ\n",
       "yMlNDcTWJiTzF5JHPs6d3TRFVJ3c/8u058VnmsHD+2KrtNW9mDIYfZRcIXc+1r10Rva9pQtC9d7o\n",
       "r+yUp9HWDCrLaBLn3ICrmxJdz4XPdDIYaKMO0sASZiq0hRDNP1cfyR7sxtxEWQ44nGr1bK+AJd4s\n",
       "PWOkvOCkiZgK+8S60INqhiJKtdamjrbgnsxStFfR6K38XDqnAOMRyaDNibVschdvRSpCUsZWzb2p\n",
       "uQvhUf2rgwGU7+0bk9yJq8Ek6jS7hOLLbdapttNzF6h3jQ+x0Nnf8a4SQnrtUEfaUAehHRLt+Jby\n",
       "fNrM8wY8GrR2iPAF6XbngrSK5hyB4bUZ2xA3afUnQlbT/ERWtTMxEfLlcizxKr7MCpIuefjno8BR\n",
       "ci3hKfhUw1ObYlFVsq5S4MDO1lfLqZRSDSo1afW6Un+9ChTejuRq//9e6K33Wq94E6m5VFydYiD0\n",
       "h5qBylUWiG/IyLAptPhpuOM3dmggdwhAnnO2k5T1AH3n+yiYPfR0kAAABolBnkJ4h38AejQ6cHwA\n",
       "lkW/zSPj0bA3T5Ktld2sAOF6wZtLvkCKqGykKBkYwHKyEbTsJJDslWeV2AcL+vO1Kl9ACv5xAuKR\n",
       "cSBw8Czq0FeCBdf7lc1TDnCYcZNPVcMdbfuaLYOMXg44Ve642DX7ObgozbWMuk8e77fp52KfZ41w\n",
       "liyh5gsmFUYsBuoRevpwti+fXvVFAVOZm+8vyPhtufiUQq3DourOJJ/ky0EKoiGGooMvrENLOZLs\n",
       "cTwzUgGv1WHipuV5+1aX4/+mKd/cHrTEx+RCPLoJaae9WfjZPgCtdqhVfEfLzCUKfXkc9PLqwzOR\n",
       "O2rfzIjpM+c5t5jEfdLYlsSBSD4i+1vOaiCtbkzW4bQ7yZt1ioVFxiwafu6A6F7gkrSk7glaB3cF\n",
       "V2kpaBq86a5BCoqT8ChxFJI739NDagKDAUKFX8B1l8N+Y8+CPfAWML19sRi5NNgQ6S5kL1JJs13h\n",
       "1UU4Pz55zz42cdGZYqdmNurxSI7Rl1MqdfTDZnsu5oNikpySwoORNMkrMWOtIjZYRfekeGBWhFI8\n",
       "57bhaR1eTvjwb1z5k6fvQlPb6ggg/qyHBo7Hm4NotA3Y8VZOIMlNLUT5rPq7WrVbRqTJw1In4Shj\n",
       "vZa70p8qmtPcyxR7DBMqGNYwl+2+2u+xhakz70ceyS/Y9O0lhwRfQJnuhrX46/AW8bWSa83hMxpH\n",
       "W8ls85KyCc/0MK/W/ejznSlkjtCYpeQGm+NylN45LcICRaWYjUBMGdF+uNMhCPXNinfQsDpWF0gt\n",
       "gF3CY7Nm2gM/UVLHDzxcseDJnNI7yoYuF9ryoyGaF/YHm2eB2/JEMyXa9a1zExWvMEV6kbuEsuUt\n",
       "uC/vN+oqL0EB8tIGrzMTeJVKiwGQ41gRjFETim1peVU65bqwVrzn3bgNN0FAzSi1N9FCgpFJu/2W\n",
       "BhvSlCd17I12V6xqF0qVaUqHQnAzwID6gzvbUv8+jtPBTpGdLH/gVXyL0RDr204GjGK5ki5hSZM8\n",
       "6a38bvnXm03y1GZ0klCSUDG0u5wYMFpNX8Zc8Gj5EAMUwZQAODMPjqK4sAZuxCDVehVr71qP7B0n\n",
       "PsK529nCcljTeSILR8JSmL2TARHPlbr/OnEfjIoTxdQa/WvKlG2n/QE54EcYEtag/x8xzMycdU6X\n",
       "BoRkeIKmUrW89y9bfD1KYiWZLwhLrZdlI9ca3zG7szJqpaVF5n9CvFCvkVmNmbCJz6bbKH4gSKlG\n",
       "JoFi9yc3YFmah57O128h1s/PIyiIfHm6IESxX1mgTk1WfgWWPnXivJgJBfAH7T9vGJr7nKoTjTDH\n",
       "ZNwR+Ee1e0mrEiMk7mreR3T5TBKzBlg5S7Y2Qyvn5l4wsb8MviaYjL80PIVEJmqAtI3952MnUh0W\n",
       "k///irwBQgiwCr6gKWOQrigYTxZbQ2igGG9/m4VoJUWC2RDbNOlVmVyji/YCBfsIMsg5YlTC81pr\n",
       "0W+OsmbzmVdTwxb5OWAT+PDwqf5jDwP6uG5XAZOH7HjnQzB4KtWTK0dVwR77Z7ebOy43UMbRWIwv\n",
       "4fnkjtkngiSUJc7rd51FVQMbmrzZMqsCaQ/ycZIXXyBnMOepmg9BTdPZMa95IRI3hiG6aHMmf62g\n",
       "o9I6gboe6ezjx04Anvl5ce6BoeOhvZE2tfd9t9J+fihCmelUuiihoDDU/qElgaUDWwoL3WJKcgpW\n",
       "cD4BcCTX1Dxqhqrqk2QAHYOBEKCUieFF8v9i1iWJYT+dSO0FtWAVZFuFuq4ScZ4q+VAc8Bdm7W52\n",
       "nD3UZ22bdfI5O2uylFe87Cn6KzxUNMl0VMSFagZWMee37KZt+jKOOElbiUxjeHWF2qio68N5diIw\n",
       "wv42p4g0ilVzWwK5V8i9eaEhsuERViWAy9e11btg5xsg0vHTLv0+BGHBoSg9P003Tv13KOPKzovL\n",
       "QeQlpaY28wpW0yJN2IhhWzsovCcgLLyzTHUTCh3TLvHaWJxOdYMwhv4lytpnumjEMtwztzYsPWUn\n",
       "l9CyTvsmfvpFnnptKi6mI0TiZZbrJ4m8HVFBjlF7t38ijP/1kqIUBcbn0bCPPZCjJtO2q312dNnU\n",
       "ysPuWYNZ/IlBOf/WDCPcf+vTkgaLhunTwmzuDcS/LwlOC+lDrnO5LcEOxTdXqXZP4oD0RLST1lid\n",
       "X3cru/5m5XDmxBLKnv7G5FxWVJhnWdI+9oAKPzKjUTp8NCV7nacyrZExfY6o+rDXxRvjG39oGYTs\n",
       "XewEEWwa0QAABD4BnmF0Q38AsZ4QCvrAB/B76Krto2/Xo5cYyUPLghyQAo1VU0Wjx+jsQPQYfH/t\n",
       "crsIWflf8nOnTLnekcorVZ0SGxZsaBppvWE3p+Gw7vckEP5mmxhDFeonh+7A56YVaMOWPwX5ihd5\n",
       "TamF6wt3eNOfBhdQZ5P3L9URjs9ynaxUFzc4penhwJLtmoTxoCWEDL9PSjr9FUzLJdCEZS0QZiKo\n",
       "YrO3XCzUrjQlbz1jQl5q8B2vmzZrdauQQN0wsETdlCfgaY8+FHTA/ZofRrun5G23MPZ3zE3+NnIS\n",
       "VaDC66mQQF2nEMkznDIo7GrrMS1h2th7uAD8LTmxPNSk+HIgVhH3wkM6H19bYy9vmWsb3c3qjXt+\n",
       "Kg3jhAYIDWvJXSn6USDL7x7gJQ/H44DZrkbTT6eYI5SDYXFugnVl7W7jHETnbWhGyXcw00ObZ1G9\n",
       "EuLOz4/fOH9U3U2cJeUJkeomOhbaCecEwVQ/lEQJPbBZcdNRMvOkUTOVKLeMnauk2R9xqFEZvBki\n",
       "iAfs2jR1xR/zQzR+uB+WVWYwMte3gzRPzX5+8NDVG5fAy6pbIyyYvFpYmnw6JMm572IP6GB7Bw/n\n",
       "La+0tU+c8kfdfmsHLUOLOpokCQE4oVHVX2PYoF33scEFxaZoZ4mxvRL1cjFNL9RvIyv9dxofnS9u\n",
       "tVg/AMPlCLcVufuH9pyuF/DpQx1RIEFbncU0vA75h/pReGnOWHZtU45D7PWmfZ2sBCf5igiwW8fh\n",
       "LhTn846NDSq+LGILh5rYzplbAuvHd06tFX+bBW12QD46ceY592hPiWQimPRd7pNWBRKQA/OjqJg4\n",
       "aHuvIy6MU+BXWV8mwAnXA61KDgwMBgsLpNT7pvVQCAA43udh2hUkSqW1bsn0/OOjNXQejyIGsZ53\n",
       "9OJk+OkwWERY840VCAwuVYV8boQwXCdhglqe/vtnPGD6nSf/BdHiPsRJObDkVDQB99whe6FnATqS\n",
       "X4ZNr3+3ydUuQFydsbwj22h98RaqGQQ6uVIyFaH9spw9NNakiUAQDP7WpUuDgGp/bH7pM4Z0ZfZH\n",
       "nbieW8gLRChme7Wv3gLX0cHlaDsNJMkOIWo+IgoF2WWHlsOUlDoKH4FD5AGV9fzyRT5O02Xqkcb5\n",
       "XybxV/CHg/1cvk3LadDel5EKl0L2byVgpyncvHhBgkzKJXKO1245XR3fGj8pPNHKgL4H3jwbHqBZ\n",
       "00/GlEfdVrVK0kycZRMlddcHWT4PzTGGGf0Td9w0i50YVnr7Mq9P92hSbT37CKeGMkaFtifAZCFF\n",
       "0AlPt3y5xHVEl7Po89e6q8zmqzaPsYmjNjs+giY+LvnHsfAJJoDNV8erSE+WVmFhwnsDcrcWl5tI\n",
       "ZGqM8ky9wd8VZbNHq3veaMQ8lyRHJlGvtDI/wBebWA1aGeSAp1XqyX85JEu+vuIxp0U2+bRwH07V\n",
       "a2ZgHfAKG3kE2UovLYAAAAPEAZ5jakN/AKhpjt0QAJ1rPtC3KMDIFeuKpkjV2eQYLGZpTJ9kKe11\n",
       "ApIq9WCZNnHX5zdxZUASft7seOh6U6ht1mGCtv/29hwG+87zzKBQicL3OwcLreA+THAySzK5cROq\n",
       "bfWtYKxXzIPtBi0gzRylV4WCUmlijVgTVrwCYhl6DqwMf9hfDrhpIDeqHe1DmI8XYahvH69iHdp1\n",
       "m9qodLf1yYD1FDcRL+5KIzsNwQS+ne5Wh0VnB9Dk6iaPRR773HkeoVjyF2Pa9CYpNa/4b72T3bD4\n",
       "deA1vvAeAVw49lgsiV1TKR5pbfuF3PF1JdAaEbUK15/BWlJuBBJEbdaBxXpL0m3fOwZkMXRFRXIz\n",
       "Q3i40rDWJKdWGRmlCPTGE1NkQmur8zS4nYlBNxW0bMukTTbmnnsus4LSCcWPjDgX2rE3MWXt/Smn\n",
       "1ocOToD20UfUuj3IpoVH2Ch45aK/tQci6TNX1dLnH5Svqil7b8NnDDSwKkMOAbNq79lNQ7FInsQw\n",
       "w0cr3E0yjeSSSn6wZA64AV1tzDsYDSrZB0GxHr68QL4ZpQ8EypnGIE/h2Dd31tUCGAD3/SGPmsc9\n",
       "ynd4ikoJsWTbntz7czG8Fkdhb4ApKEcIz2c3JSIXzTu4jEDT/bM27JMGBjIkg8jRyX2lceNwt5HO\n",
       "e8hHsXOiqLEjlauvrceiAZH8EILFzrg5ztDJANHY2FqfTpo1D/c42EzvUk8S598KsrXqUml0/rf8\n",
       "z5WZKgQQQmYOWsz5whwjOUqDvjFe6jZX0dptvBy8eCkliC9aChyfNTAT93PuB9T8HbHXYSjQyIgD\n",
       "LplWdboEpRrNdEVLg1AoMGTJxzuwWeWKjlVuWy/SO4NObhW9c64tqSOyr3Ig+cP63QzFbCRtSLNw\n",
       "jglV0ztI3YESyKPfJDGElVUbXXmnmT5UCs5CCs0oQ+bIetEDAKJ4908cH/J6Mxe247q+rpuYn8Ki\n",
       "A/znNnG7JzcCRDk56ksmpxV9DluQYJAP0/78VxYQMAzzWvwYwwcMJP3NBYS5JFXcqfZYzxHbDR1n\n",
       "SxCm7+UgosaGO5CFOj7g0nHJphYhI0Ww+7i/4aPDvlkeVpCtWqB9xrI/yjiI3p4ceItM6ijlrqdp\n",
       "l4/M6xcJ1cUarTFfnx5YDIyP3xwLzoN3l5fKwSFVhglmVvD1ki/rLWknM/E/sTjLs9z5VAof2gam\n",
       "05FHk7uE5dxgburwP0QakMJXla4haW4L+Fg6ptQ6Y23eeyi6FUJfyhtCgKvxcA/HrHVlEcoMqvTP\n",
       "bQK8eypYjJaHj+E/QQAAD0ZBmmhJqEFomUwII//+tSqAJsfsPu4Arqy6VmLF2Oiu89diAksiLJy8\n",
       "d0hlIyPNA3Bov5eTCht9YPNGndGhZEQvo5wdhb24yv68k+1wmTU2jX9qWlQuM0vS2OPOp6jKdfF6\n",
       "Lo4X08gp05ncsGe11qr0XdupwJRoTj1Wg+BoC84C8wu9x1HQsvArSUG4RJP/Yp1CLnXQQ1x7KDwF\n",
       "D6vJBfe8xGedfBslHEyNWu76dl0uvIM9+SIiF/t2APVejBtd+QIt5AQoPq0T8G0yQ65/fUqAqUpI\n",
       "AzeOLsoMyoLZ/nv3HlhZR7chDemZt09gGvV5ByV/oa9Ffrc3qB5JFYe5HbyaAIafGr7tTR+S+Oua\n",
       "zLudIbi4+Y497JuxXPb66zxTirmoQnhA5MTsizvr2Oc69WrUzja4aYTb+yq3lwoqo87PqJOygeGJ\n",
       "Y5kLYA37CZ3FTzh7hkCBidVwNxtYH+FK0ikeYPEUiVt8H54ZK6FPVWa8uGfMU5Ph5H09YZjjpeEG\n",
       "2mRmF21AfiuGkiG/X2U1RtSMPgOxHtSIGiyqmu+cI3eLRpDwQOSbMoJNahlPLULNkBUtqEnVYvha\n",
       "tzM0VliyBDaGzLiVnorKbJ92hCrj+QZHmOk1+EaWeABSqmGdpT89C8T2zJkqMMVhx5mbwiASnhXC\n",
       "tqgzsmYqY4+8Agc8bI8Vm47pIAniH6YELwVEu6Xk748A5oWI0rYzC3oz0ftywOC6OQ+Zuh0vr1A5\n",
       "Tu/IMFhtS/zQZaOezrSV5t9LforPIYkfnJVx2WwsBu/qiZAB/+L0Wpk2swagRzlwcKc2sk+KbZvN\n",
       "o3KOx+j1CAjk2IcU0nxYJTXkRgdD8jmjApSRAWnBqufmXmRW8XPK/GCwS2qy8+804vCh3d4loPEd\n",
       "DYV6++QxwbJf4ULCxLZ3yG1oAr/hp2MZjlgugDAcD5WIQRXj4VWKE2KYQ+AaQuB1SiXz53vOqljA\n",
       "vnWde+ePSean+WuRgO4aHf6CZU0ojjJrxX/4ebXmDvGTfYsmRwv6m9iEdk+BzZ7gaNnCVjaMI5kv\n",
       "nNVD2YSTr2SKzETELYnO16y7EnOie1tbr/ZRnALvU8cgGRe8rKSHdUyBncBKsOmA3M80Ua9KqFgl\n",
       "ic1bVjv3gxSPOm8xRyqaADpDW8+51Sj/fErlIOjCiQ/Fu4P7YPWNHS/Lx9CrjFNOshqxuvtupgiI\n",
       "dOhfjLY3Avrg489ZREENBazmwVKgjPGyQeSpAZZnxh3alNANcHIsc3/Kb/pItMJlhWQeCXSkhFgr\n",
       "xv/eRLVcTKCXtMGEqu0zBBoSOg5lhpoOyEpoQ0d0d2iExODzofrCj4jTaecvQHvt6vpQAjG5LGJ3\n",
       "5j+qUdd89c7MfBc0Y2Z/nmkjSnf1T+vj9384dTaco4HVNnHtYkL0P1glauhbBALoHiK/NEmyL6GS\n",
       "Flp4V0EKTF0+Lf8CwC9KFOXxkaVcSi9ysBjXBBDsJOswT2VYOiV8k/XPOCokqEpq2ZDqnz+mFIpp\n",
       "nqQvNyfozw3ZMWkK5qt4S/fxhJLR9MDj8D8LHB5YTC7egY7QsPtvlGPFEfqsz2Ev7tg7FeFhxwgc\n",
       "y9S/m7qY1ApR8oWQrfKF1fVsXDD168K2NoyjAL43P/GbonnfGSWaMT34rcpkKWnjcl/MvT+DTwOG\n",
       "5appQaB61zwZFK87GD8uwROjEqHFBoHzaJ1BlbDnH8+2fmCBl5Xn96HsK8yUzc1M05nNCZEEQ1GZ\n",
       "iHM0gDNHLzuR3Q+3JhculqLZR7AtnJO4lPm3pZCR3otMszwbc0MTDhqxnIPbByqKpQ3RanhLgGcf\n",
       "CpNaxwFiyNedrkqO1n7gZNyAZj/IKAT/kwbPwoZP5mwOs3gsUPEb3d6JtUZuUoK8SZhgwhqmQ4PO\n",
       "bSVG9ysUmw6e3ofdHbu+FRj03HBRHrKpkaK/ZvcC2CBYH9IM9ne4SNHpLpCiz4jE4GmzWPa+qJp7\n",
       "sKlqZm2d8+hcH1bafNXCz4CTBgOjWImke4pxW3XpMTWvDVdwJ9kXia3JO4E2gV+dfxfzuMgBU2L6\n",
       "7qrfD4uRms2wKCGqCtCD8z+7tzCfyuyr+k7GTg+N11/etTxqSUJxhFArNpTzMAhS89dfClMCt6V8\n",
       "RKJUy5BicZzvqcsYZyuoOQXYBHdjRvBlBcth+PsNsTJmXs7GCAgRCCfAvrzsREntUM8z3lZDAU3R\n",
       "Pjvt7rPGtZRyHMqkfzbQ1cdhFF8Fr7b28jf1VhvqIBenWANZzrr9zAiohzoajZxAuLjgxCzcHUz/\n",
       "zAn34wXyuyVuOW9APzpmk20Jhs7uRf9hBeNDW6pdbAHMmIuwfmQZ+t6Xmni+J61LHoEdC1SrC7jd\n",
       "2mELfC5zqsgjf0uEOp13J7n1ZpiHt14H0ST5/EEMvCQa1sppmUD299VeHluYU4nbXwWYozMDXwIJ\n",
       "nTbWkCRL9JS5DhwiNDhj7aji3YcM+vkJbQvpRq3J5A0LOMACTJWfPD872DUKPkohO4eijg44oWx4\n",
       "774pjk42Yzq10ApaWDnUkK4Tl/ypn6mTsCBBnY/cEsONF09eciwZLEEh94ftq9LGlttlRumT7UNl\n",
       "YGgknoCn7nc/uGMCG3W2k3MDBw9fdsLYHLDsK91/qJoeKop3zDftgCiL6mmfKkvK2AhSLHrCTtvj\n",
       "FOKameBRlCv+wWK7IAIRewcynwwz3gIbUJlZceXvU2r+E61BC/Zt6zih1WRWWsqxtox0w8AzgGYB\n",
       "IJqiUCEJU+IxSxCRXR8CLUAQKDnf4e7h9+VGew2dOhtdwQe4b5KqQ2G/pTC5GNRyjKEykjin/6hJ\n",
       "e76VkJ9//Kh5LrzVCkiXZnHcCs62100KaB8jvUmR5vk6/7LBZhuIeik6EpL1GlfDPjZkx9STMS4o\n",
       "usYlF1qymWD+eGKpa0kID8Uzw8wMzhblwrj3MpzDCj4OJQpXpz3/Z3RyE/GCUjwZ5tOze6pUuEIB\n",
       "91p3rvO844eK+yyfHTKz2k52AXsS9Wnqbt1fDkMGjYiA0gBGy0ZitjrajZ8XZm5dFXBjyn1Plzjd\n",
       "z/u4D93lGcLPG7flQCxzoDBeBTtks1MOnbm+1YiIk+Pqml2abAw3F5MrWFw9pZuCV0w+wlIXUlqm\n",
       "iqQ5mF7e3GPu5wMNKyD10I6/aP71vhhAAmNc9toN8XxlMJ+/dF1Iy0Wt3+aIaBux2Sk7pSIreh4M\n",
       "cCkZ9dhWlUcMEFeOw5u+dAD6wuwgn5mejv32DAPe9sqNb9PMYTeQ9dGrV2deU5IzDNA/cNguXz8O\n",
       "ziS47L17NeAri6attDXma6R2LGpXD0J+9ft8f21IHdBQkGzT/6JyTMpUlOR+JIF7lRGftdVMZk5O\n",
       "mF9pMchp1S9YJya7wXpsN8dvv07RHQk/fauzyQ+8ECYqcjJdalsyA3EU7dYX9GRGyKjrfpFkKXHT\n",
       "KYnMqOGaRFYm6KyuhVaDSUDDNlhBLL8ZZO21WRntYQnvs66QbsTg+xnaGByX6hXBF/41gqnJE5pv\n",
       "n/utNjiLr6xbZmaYf/ThFAfaLHVr6k5P/wGST8jJKrBML7QenW14qflrcIQFTPn6TfxY2SMMhzUX\n",
       "UWCjaw3hohgQANY3KCUhZrxm7fY600Ehqph0+a87SoY+/muNo5tgSA7JpN7Ux7HhSL/REVhGxRPh\n",
       "3QrLfr1gPt8zFXRxI6ikVeF0x5iEF+EeVshx+5SwWryM0MkholTsqhFyp5k4f+gTFoF/XlvosP2u\n",
       "wQYkN6Kq0SLw4kKqNGfWmP1qz6VQ6hljiNQG7pwbSCWVcSf1wlYeaEv2IQUGsYpswN8OvmPyY5ne\n",
       "UU5m3NtLq7eL1dwmgx2eX/p/iDtpWuKt7FmxSDzTajQ3GZyCoZpL2zXhSr0B42L4ZGoZYMmrFdzT\n",
       "XTOoXc6XYPKfUbv7Fx0cieVe6/8cOYrJS1ZKOxIxHOFM8FHD+4xxdvPSq7ibWf0ToJO0VXWpR6vs\n",
       "OTfGBC3ho731M0qKewiEVJ0qLz3zc65mWf1BrpAZ8qFmpM0Z9ySAdQqIf99fAgoaempNzyP/ErPB\n",
       "lGNQEoBgjKN/dm7YBd+olF62rmJnlZcsDZ+cx/q0Y65kBQnzPezWTKWWfSWIQvtLxOdYQ+9Lcf05\n",
       "GKHP4hof0AP9WTBg9qKKNBdK/KWmKBy+AnwH4zIiUN3NNlaGTK6dTftliwsS20a+gqWuAIPt+tIU\n",
       "dBsv4S85/fFn5USeABM/o6HG68iHMbEVND5fuTljjDpkm3zjzvMbcIuHzA+LvorLCrM+o+oimKBn\n",
       "j7XaqgPYWiWg2T055ftQOdESYtjllkeaEoPlKUad6iwUTKkX7Ew5jb5uN2zKNqMOfZsJQpTjoR58\n",
       "4LGNhPp0UpWhkbKo7nysQb4YZhclzfuEUvI0r8NsCHuAJLOb7MsHICJrP2s3pTd84UTk5iUawuxM\n",
       "jXsbENXn2J7ElEi+mfjj0laJ8/8cxiDE5GSbIbdR/IjeWKXfzwNn7CtbzqzFX5wI2zVJ3G5hKq1/\n",
       "wMR7z3pw7GjJDVnSQkpQQCLeeDTukAWbEM07mJN7/0PLQKaY+JO2RIkB4VJw1ssgFIg1Vxde0yNn\n",
       "c98UV+rzpnlm+Mn8rWNHRoLs4poH2XWSBClnkO3Zq6oAkpVTggTiJd0H4ZR/RL5BzWDo1TbQRr3x\n",
       "nhJApZFQrOcaDxbboPL5FkorBbVt1P4D0CD2wx8edbyTHtvHPNNugnsd4nZHZrZeGRhuPOW6Onfk\n",
       "/UeigSpMJw9HZLoS5pij7NU1uyf8Hd2rdLc2hrO5oR07Tt3ZT+r2NHLFMYDa5PuJso1IBg6nMcuk\n",
       "EO7+kRGl0D20ed+/XbRMlUXPO5fWqGXkBp8W8wnkipijg1w6TcSURspuh/79zgDwB436IqRnrVyh\n",
       "WUhvQHkzuVLXxf+0dlJ6/8VbV6186hm23lqXFsSbPa8H8yqHVcYKVsA7UYGJQAzTYGHaVaU9L9dF\n",
       "r9ZgSAnzUfxM+JKzP8K5syP6TTPRppHUJDSkWeuvETQTBasXnFubFE+tEDEMxDUWYVm/bZKiVgXo\n",
       "lT+dyGnWJpMV9LRyvZ2qX4DX2NfDIA1gXiL86EoT41UtlP7lw1bZERN14yOpsKkc21t5rY8kwOwb\n",
       "aX9D1i9tCdu49vWq6M6YyuSqnCr/VVZr6wT4jgE+Lt4FC9OcBe6GtrAU6ckRnNZavVCLSQ2P//ms\n",
       "Z/54/7jm6zkvBBILvggEnrLkDvMMTf8CEsUuM8Uf0nxe6UVGbafCdHJWpFreja3RwHjBAAAFp0Ge\n",
       "hkURLDv/AHTI6agAmixK25mQPUoNEKR1sUSycAMrvaW1sRXTGU/TKsXfIf3mmwA1NV7ZerHNLORX\n",
       "52FB2WhZZT6N+f87lvWk6cxltyooEAtHEK0auZr4PyR2nMG5aGvAZk4Xg5gWRmwytPjx2vA06mGy\n",
       "3peldzlP+xYxxfEeD6kgLsyJwH/pBaclH96vfM9SmOywVHr3Mf19v1g4kuiGFcchKMajNiKann/t\n",
       "+7odXaTOPn/7pPigaQQ6DM37QKwn26NsWTUn+KZk2wOZfz9ie3W+o5JvKF5StiBNuochNAIWiVgg\n",
       "YVcidNS86/s5rKj4YUIjb65fQrk6oD1YZSfdu54dfTq0B/ZwilfLoe+/qToFX7JFq9hUotx5TGHp\n",
       "WQpAxt99DyUHH+3V0OW0P9ohvdFFZB87sEgiSO/xq1R4fZpazqq5BgUGAhz80Pc7T2aGXO0QKcU0\n",
       "v0Qx/XuqmjxJc/FsH1qUW/rzISKALUKcSuD5b+49QN6zeZQD8BAH+KZGmoyd1zfP1El6nQiwhnSf\n",
       "MXtqECD9IWLgx2Xoa6oElbh0ZDIU287bQlzClL+REm6vs85UEBnZdhquUxV07qTSFvQEDVwImvAg\n",
       "rHj6QknOAbQQDGyl2a4ljsBvudcZsNNliWtk3IYAVNzL91uHgyGvylPTJEvAXf4SSuuYEGekz7At\n",
       "z8IZMYMKQ6Cp4ACM2SqV2dos9DteozyIKn0blSUmYsS2QpVMLoUuMABMY5HrDtgb8a9KWgWa9Gjh\n",
       "+ds42zqJoap6BEW1Q046sRkJYusCwGCu/fhiqmQXrGthkppK/K5AQRuWld0IRdMTcfmJKgp/fL/1\n",
       "SKPDgHNakHgMmOv94scldS6qMGw2bRsE7Boh3MTZ18BTOsHn/m+tMWb4crTJD0SbpxexEpxvuwsR\n",
       "GPzwcBmOEPAe8qYesRU3WrDfk2AQkiznW7pQrWNsolAIKDKu2PfXYfTQao2CknjZwZOsgeTbLkSn\n",
       "L4eTBG057XPQgpP3klIhdamve2GpCaa8waXlhF/S0MFZrH+sVzWXJiyeu34+5ktHB+6epTHsNGv6\n",
       "VMcONRd408hb6ODYt1P1bMvVO+xSO00lWtLSc84sgT5y941SAVc6JczPwjh3n/tW6CbwQKDDqasV\n",
       "OIQzv3iFbGgpe9D9OZ9ffOa2iS/slQmqmo9E4TvYPzrqV3Sxv0erQgarSU2O7yxHIrnpdTgwjPe8\n",
       "XsDmXaiP6kexYUqWUyf0bOx6CIO2FksIzwTAoaO9thHtIIflpWEdagzKdhUAi7S6Fv4jSEEp94Jz\n",
       "WloMGSndsdnUOZ3Wl46zE0ChNuFgnMvr9hptf6H4kv4aB4rDo8CcV/JrlVkgU/gWlwWYE3G6lRMv\n",
       "iq+fajShy1MEgvckzNMOdGrF7lNzVm+rbY+Q11ydjwgoVlSM1AZNkxIBMXcIzcPUIyoTSYD981M1\n",
       "W/G5ehZUVcF7aUcRAix5cNvHCdgAI8l9d8BGOxxNb1pjlIjqfvJujcmTUKYnmIkDd/AbU9lYxEgZ\n",
       "6wE9LnG8tLPyqNP1VTZ91+HZ8cCDY01jtJkmxdlaX6o1xLQjq0FebnQIM4hyzb05fqoVtpab8C5d\n",
       "GX7N2gwX7J5AJJWbeGRpwxcdNgRiLSMYbq7dzz0iLd6suXPef8vUG/eTm120RvR9unSOH9TZAYnK\n",
       "KhdgoY+hiStkXlNupAw148k4T+X7aO0amB0DEwjO9zWzso5nNwzvXyvQ49o0yhSsgVndjlmNpRIR\n",
       "NbQdPrcCDUm0ub1v/2mobjGauA2QzgoX10qSLWxafbh51ngb3D0ReGQXerWvTpohxplNKH2xg/at\n",
       "I+lCjsRjgtkCczQP0Dn11wsJae6mQWEVfyp8/Fh+XdWrKlD7O51Oo2J2wUyzkbR89F6UrzLiYehn\n",
       "43puKJ3+3JHPWt8gxgBLQgNQD/EAAAQmAZ6ldEN/AKggfOT0gBMSfIBvyC88l2tXRWwHPg5LYtq6\n",
       "sc1lpb6tiNpm/CLWTSd+4MxlPHoLeZQCRRge/xqM4UMYmPPRoBa7Zrhm1gz0O0gyX54YWXg6JT8h\n",
       "5fpH/7SID2c052iBnFaaPssizOAvsVstKXI9RoRVv/uscsZA/ZNmU1dyIUk3HkR3uh4dEVtd5axx\n",
       "LHDkQ01u19w/sZGe39Qm5UkxV8bIJhsctr6NYCkTNmF2tUCpqaz3ASxhoVycxWcP3WAN1owSot2y\n",
       "AKhyJvMrL2NPCXbA90GdSsUGashOd+2z2BZJqKxSjARscFz950AF+Hvqp4Ah1gEiZAZxz3f1t5F7\n",
       "+C0paJyxyxeq7G9+aPwWDpqfjF2PJVWEiR4tiMePU4xjAj37N+SmEtgPxH/BF/p0JveIQeNJC/xS\n",
       "nRyq6knlMTRvPG9RWnxrIvY025i07lQLdoaT5o6mSRlEuJcdvtwo/mPIZWFt70tgnZ1qOelJXBpO\n",
       "yhPiBtR0aNeVYN0An3Y4l3PLe0t/PTFQQYXqe7fSRrg4afFa3e2yEu+LnsC/ha3yxj1WVpGXvAOk\n",
       "ijee+SQiyWdFTKzGpPCR27zXZn6+oexCnF+ku+o+ey+XpcX8stUq7lFuUwzNd5xss0FTjue7+hO8\n",
       "IpBYDotw+qDdcZ1usfy99l/ftyLIUFimIdxG3mo1gUzWOopNzPD7JMNiVWnqDxdFBd/3PxdQkeYN\n",
       "WNh1vuwyEmPP+/7LaWb4dvLKUngqoWAJ7j1W+DUfLOG19QzY9hjNNbuF9OyVOLJg54BsTof9DrpZ\n",
       "oFpEKxUO1/OYSHo7n5XUho1WX7CJFNCCxHumQimj5JzxSLvES8ZnXazLeIdm+JRYSFonFpB/DX6S\n",
       "Sihmz4jYB1hEbBvb5liiVXANG4BCoLYFTsn8gxV3IjBhZowmNYUnBYmXWDkQJlGa0yQJEkjwhhYY\n",
       "GwfbWi4IVKTv//EZQrCluqcuiX3W4pXmsueWF4SRiaf8eb4SPan+9Cc6kX1voEETGQ7evRtubxpr\n",
       "3yFIEjMb5X+gmWM/GYbiHL7AxJRIerHSvBald4LQ2PeDXN70i6ssnOmkaBzNG51e36w8H7efYwkA\n",
       "zRQqS6vNvXZrwuo1b/7WfwTvCur8hIWLKqazEq4T+p2YyhdkcqBsf6A/H3mPo/Tgm5IdIiCR+hhL\n",
       "awIHX3UZZ2yoVa09QAwJWl2979JUR8sgRVwSIj9KhNi+55VLNPRdziLTzGsneNXJXbyvUBTzIWbv\n",
       "C/UBiVxZCj5tURG87R40p9099yvPmuJ1ph8bVwAh5eSDnCH/pdp42WkXd9cKYLVhfsk9uyy2lQOg\n",
       "0QQIroFJ6pGOsSxPf/P0MYf14LEqsljjbbYWWMPczGsRN5LN0yYQiOuquGYeeriKsR5d9c4+0VoV\n",
       "8A6ZAAAD0gGep2pDfwCn77peSjgBMi1+ejRyI7WidVJ3Au7D+Z+ybNXhGBQrAY3Am03Wemv4DCBD\n",
       "+b65Gx/+wgN/LkTIcEtdexGEYnSJ5fayt+w+NGb7knl/gbYnjq8m+ZRjMN4snlIsKbzCuetdia+s\n",
       "D/v2poFjKMzJ2duRBLwvvWkD/PaWpU8AS+B26j67EK6Qaez4gLo2T3/8D5GMRrrimufPstZc1h99\n",
       "NAhU+KFGg4q5Q7Ze2i39HyN9mTijNBnU8umIHTwCGHQnDZqFNF/q41HDNrxiHI2DL4U5E0/McFHK\n",
       "QSfYkPerdSyyJZ8JiYa5tdUum59Ve+JHKb2QocteI9nHDempLmFlvPcmhRODLWG4OtUg3R1Jv9pL\n",
       "PLeWBbUlHyeGD2r/XFSf/I8BtDUU1ns9iEL6s4zbqO35vypKLXOptn5MJYUb1nQt7tbZiBLaZ9hV\n",
       "6nijNWmMloaO5LOLJ4ofnFdxOqu147kFQXiZKBS7tz8of68C6iwW3ZnyhzagQyT54pK42+osEviN\n",
       "MJeUr8VGIUhzww10n+7DIT3WsRnJM4agKrS285Oc2KvZz8G2gY+++3OMzZMlYpLj3TESB9aTvpPX\n",
       "K4633hTv1LSQmgUSJmq3JbpwJ9DPrmGGfYkeco/4Ka7pYv7szN883XyrnyUeof1nYZQPHyIoj/JS\n",
       "qG5/hJQUNXlvhVdaGTOlrxZsJOfTkAh3DEPqFvFjkNzCFziFXSFfRluKye8wTjdzikZ21mnlTpik\n",
       "8/RN2WhdwhrLUZmOTbKtmd3OA6fKer+bMKRF/c9tPkJCQ7fFLyQnQBDmE5yEBRfkdGBJSa5vE0DO\n",
       "0yAzXeauI76lF/kLYtShLwMYrR2aZ5qySiD64QaFNbD2rBmKOP7gre1E9i6J8/HEDiQNukE2eUD8\n",
       "uTK1AXM1F3nTlmzXSUDPtsF8Panf57b21kYyGnD4ReaDX2034DqG7d0uycmFhaivn1E1E3n/iuah\n",
       "vPtt0ifHekNkh9rgU01EEcwby9yqEnetkUDH18KlXchZp3JC6ZmReYszpJyzareqhnroq0V5pV7J\n",
       "4sdHOzNKkHm1iY+h0xmVGmw5Ry5NgUQJcTUI2EmMeSVNOcJdfzn+OX7JEi0D1q1e7lgpTvMYhibJ\n",
       "cEWcUP2cfTH552Ekdha09EwVfr36XS4XGXP6OPDsMpc3hTCXqiO1BtqzpCI4e9BSpwRXCDoklPy4\n",
       "mXBKHUQ8JN3ma44xTdVe0dMxw1rlYDBGj9B3fjquCALa7jMdbY6uLUC/mg9r9GuuWwH5Xnz8mJYC\n",
       "zjVocfMZvbPlQ/A4mmj5UwAAC8NBmqxJqEFsmUwII//+tSqALsQlEAshjyd2z/Ip2y58AOEcyZZI\n",
       "huhfUPkiIE/hbtSrJiV+ESAQSXOSee95tGxhQ30kF+5kCmX6hf4HHHlZ27h3HoleG9RhZGQxZrHm\n",
       "teZMEiYOsTuBMDAbTXJ41Dtxm5asdnPeNOQDEt91BFjYblPImIN7YbH0bH95j8QD5E883dJFOxtw\n",
       "oGZtBTHKw4i8iViUXiPoSfk58N3+vxilr4kgVMjP3H4I55gF/0Xa/xg5ZQyUEbDPNzWbLwzzwN+L\n",
       "cDSh4w+nKYuFZkX0jXE0+pybsuv4tBUwqYj3Re/7Ol3KBd6OFBRJJRiz8pYeAxCZ2x6ZowkeIudv\n",
       "R0MHSu/2VHHAnVmkod4IxRqSKFdJXwXCztvad9auzumDq4hC7nP43cdgPTodCZGOc79AFXVUlCm8\n",
       "iunZ5uBLQOfsB3kbkMBE0FcS0V7+tPYjExiRrehqz8h2SybA2jMluDD9pu4G+N7aidBZgdXSAeLN\n",
       "OQEj5xWxoU8S6P2XxXEDUyPV8hmG3gnpTNFlgvWTK9WzdoYWEOr9W5IU/5ijOQ7BXVRaSPq50uAz\n",
       "SJO5zxM9gDCB/KugdxpbUTIiUybRECAlU4s+z7TBNWPDZjDfJjJHPKOJhHkcWyXKEylrR36iTAot\n",
       "GitpuM/fw5rQBDpYza7bH0wcrTOkqJ2Tx+OeDAU5nxKoLW5pLTpTwMkAzHLs1kTZGIq1x7je/hy6\n",
       "eeSlgBq8D9j5m1Hg8E0LaJMByKiH+3cGOM5+uVj5Zp14Ge3FLf/3V4CZ18vfCA+NpROFZZ9ZdYpT\n",
       "Emd/GsrxNzGwvW7dxupiWp2qzkFxbRfTQYZgKSPuvvZRFYfnqYxhcFdC8c9p5LkBiupavrjFHEKE\n",
       "x/yCZW02VGhgAzERRBlOlqeYufuNaJqJLkp9s1V3Vi/o19/gAX2y7iWIPePAQgLTnzYqaGUuGe53\n",
       "hcOTMCJDXMr0SHO18+Hpf8fnU4FvvS+/N58Od1fVUm58/4qehqLqzjE+Dz5tbTH2JRf3HIVegrtJ\n",
       "zblgmBlGsZJB+QcRwbTtfa0QCgW6UW8/hO1T1W/XpsfkK9c6DIHmmbqd/diIuAiq0b1OHpc0/y6l\n",
       "9xVk5C76gVedzYyPaYagYvwM+bMBZA8qiyKR/9lBJbshZ1nFxCFNNOMbMEtzxNDX/M4G2Yi8Ybwu\n",
       "nOvXz7u+NbXeg1Cf+LRRQa8ag4BFU2Y+EgrM3yVsXF1H+ipLsoUZ48KdEtiTOzLtppsjTfXPR9a4\n",
       "agaOuprHwgp4MR7ZjBMhz6OWIoCk9PZvB3FSjlKYSvAf2Ta58Zf3ZLJSh4gzcGHOn9bsw1qKHW/W\n",
       "+O3qinFZImCobwb9i8lsQRHnepj1gGzmZcLYUVsuU6Dir2Yy6BvGdLpqW+gnk7NJqfB5U4FQh937\n",
       "wjjKPxX7fcE4s9kmWX8XwdbQ+ZBisq1UlAL8LN8gPo6lrCe8zs+KSi77cvqsY+X/zBK7Bh12+cux\n",
       "Q2x6cbSopsm3OiIBtW0kPyYrzdgljccbh6IiotiVCphVCDJ+VMJ3FB+kKd7ldT+LuOFltauqlWGx\n",
       "TpMlhbNJoBFQVRl1UOyX4ajRSdEkZkbwA8JVoWpMAXZzx8VniuFnQ0IB/LH9AUGv93CRTH8hVDBU\n",
       "lkC5oFvDsFamhwlLwy11psdcUqMa2ynYGbwabS66KAfewNrxYdqlGG2EDbDlCEpjMrLLUPQFCUXV\n",
       "G2RWmNmc7J33JXHdOWJLipsbng/dHC6s643GNbJGpxCzsXEAL7OdaapQs8y/ohg2Or3Eu0T16mf7\n",
       "6J9GeF2tTVvf8zgzT3klGrUlfyAYDZRMhywVpkF6cCS2+sbCukeIf70RazZvN2vISBSNI5bnWc9n\n",
       "kNLb6MDb/wpZC5Ao9BgM/GhNCD7py0b5MbAPQfRYj6oSYTlm/4OT39yb6N+ZOQe6NoIEnh709SH4\n",
       "CWgGBq+D3EGb3jvGDh1hj99wK42i1LRgv2TVZCYhkFzK45khc6Izlw/PmeBH6f4EboHkTCXkHYxC\n",
       "fgw5xRnph6NsadO7xYsaIuYdRPyR7akIkfc+rBm0qPxVUTKJjl3LLm+kMoYtD4gvVYhigDTcYCI/\n",
       "tFNbFo0BnCUV+2ZswK0RrJ1E2TwvzZyrlNju30ZHls/tAOZixqszStSTPOx5Mgdteadq0BssECKW\n",
       "UoLfwbnIegpzNR2oNWd5y0FfSix9F6Qn0GVyuRB2Jmw8si2dbiA4ettOaTikFdCnGl+cF8aUEcaz\n",
       "I6MBXX2Yx52PwU8o6ew2JuNTSgltyTTP5mA+lahYoZ6EdADFkiYpiMzlGE2Kqod5DMxOQ5KbQMxZ\n",
       "k8132BI0HeJHJdVHtTh9GRwDYrEg4ak/DUrcT70oqbtj1qZ6+IV8mLlCWtKUlqAjLKOsuSm0Wh2+\n",
       "WC40gXObpNvIjyyLI8tEbqGUMA/I9CiK6KNJIAWUdUOfbhe/kq9nKvwbg9CFy/xe3yc8Na+n81r/\n",
       "0JhClkXiVona5lIuIf7egj3i956HRdq2PaJn3xoGCQOk8SBHvTsU9GezekvO23IhHeypPDNxp23w\n",
       "AUCaEF54JKYKrn4LeVkmWwLk8Hkw4qrKHYpg7WejutmQ72WDt5pgxJGY2sSZXQ8l/1mJ7mehlrA0\n",
       "8/GXQ9l+UiX28yfvCIQCeWr0JgUyztJBy/VZlBhRq2+h6ZmLE25ntQUWfFUTmb+wAoaP9SzYfj9J\n",
       "1YQHGrO9ypVCVmptj45QOCgWHwOVHQl30qZSSBce2i25jC95N3bAuptFvl6ELG6N+uI41tArXTvv\n",
       "de9ZsRn4CGgSclEh9m9EgR+NfiKPOo5ZOkqRkphOi3Dg9Mc3FJKqalw/IjA70V8FHXAzlLsRLIEX\n",
       "Tqn8sHwaE6VEe6dT4m8ozK7CLEvqiM4Cssmds3W4xXcHFvq7Vz3rUN6bO8+kMxeJeAyX82SaGlzu\n",
       "ta1l2Hf8wWzphy/3K/OfBXjSF7oO3sSaoF76G84amEESkQNyImFc5XVEb/+DzT3rV/HERtyWwMXc\n",
       "hDynxsVvAIY9WW0KnnLspZGdf0aTdj0VZZz5HbwJFQz2BfWjvLAm4bsFL0jxPI9QcgoGjU8m9fWx\n",
       "BK6BwHUPBzJ58OY5K2xk6r0dCHfAtyQG8/HnAlfiOWXRK6GEbf7fD/bC+y0Qr9kugEl/8AZqDMAj\n",
       "e0tZUH5Vj33Wo1GvOJViXL3/nir25C1n98z/2LVgEVr8FRUbu4mcpBt0aSN7XMe5Jr9OP9pFGFdq\n",
       "BFSu7Ff9pTRtEDZ0pzllyMf+kcrmUxMVjJc88zf4V6cRFrl6LWGcPKJ660/fyH28Fz4wNmbLvGyy\n",
       "NbNegbxke1XwTyNJSt8OUv++MxJJAUfXvXNwwU8RXffu4txkL9pngIfZqgT1gMHfWv6C5imkq6Fj\n",
       "W1EvcUQJS+vIvNtR7a6NKg478lRJmj8bjHmM0TkNL0isWI0OX7GrRA0FHiV+bO2JXlmFeNkccvZl\n",
       "DNa6+N+L3CXOmy3u9qcKC7pun6r/f0VLI9BQtO7Zg68jSknRVlXDq45BVGArs2wAyVlCNMoEUbl5\n",
       "dpvehgrLjHtYwr949pkg8Gj275lJ5g2rg8up4JIQpzeV0bAAswnMfOa2ME1QYxNjGBumI05soo9l\n",
       "mH+JISch3O/Kx3YF0J34jQ151pB4G2cmt1d75QoliSrxn+/oZSxDd0LWM+fC08FyO14uk/fv0/PE\n",
       "IErYsyRgxiBKSFDx+KFjcC3/Pl9jhVy7B+BMsdoOBfcABrmDWvuWOg9G1TnaJmHbT8p4WuFVOEn3\n",
       "BB2+3DUhYgnRHxAGGMPJyrwpLlngUA4F5lcULTnMQIvu10QGDHX2EoDyqRowtksi8CDSxlg/lMv1\n",
       "gY+ttEV2kOjO4bp+Kcks0C2Sy2sUDhq1Smubt/2JpgaxlwIAvTdELUPF6sIxziJatAPp2W/LcXkB\n",
       "3ylv23e/3COW7e8w3ok0BGb5uxa3nBXSeaXn1bY6L6TqKwWSeIKW5tTV6kyyZAD90W8OJydh/H5y\n",
       "6tvrUHNzqVhLwAAABR9BnspFFSw7/wB89AbLv/162LkALRBSU0hkcnIpQ2mzru2lEjUHcYKbabgJ\n",
       "MT0P5RGUoRUdTjFfHZjmFGCaSPQgbIIX9H/Ol3lUp97pdmUUYd7v4VCfajdf8EUNRKnk/hB9GRhm\n",
       "gDnn8rr53CGtOHXjL2dC8/1OVjU7ppux2hAP9/tPyh/L8F8keZe57G7iWQUjUJwyuRh4mXh/B5ZA\n",
       "2XUcymWb0qXGHii5FDU0Y+bmWIVVg4w8XD50ao3Dmqtgpw5BnsBWJdB0aRfSmt6jcfpGtl1+mBl7\n",
       "EUVo7r7D53vtdCOwp8vSPVjcTqby4WrEEWU3WLYnpjaVB/XWfN+TSC2lOVKO6isCxOc7ZXar8SjY\n",
       "3O9P8/EJcJBUupubHW6G5PBRDDpdu4ScS9MliwzyGTJvPmqKec4ji4GFoUQ9nQBalggsi0ectLGg\n",
       "yorgNJhbbyAtyFf7xya+D6as29ZsGpvC7hyA7q4DfFRFH5v4yq0HOQIx05+Nd2LD2p0Yx7vunzmg\n",
       "uLgE6pgsjMXIyXNn5oBozv6s4zeKIKhTmwq21UFB5w5CC6vEyoca0hgWt4M4I3kXBkjAOe0sBokv\n",
       "cwoSwP9dFQHqWLa/x+tPg+jCm8MDYOohssIASfWM2buIa3p0T9Gg61nO6/5T4xLlolwsGdsvUHxt\n",
       "xVBgQCLvSKVtRbAh/XjKOwC0RMcVZDfr0VPM9od0VGSaWhxICL/bLmo5haXPdUEtYS2WqFfJZZti\n",
       "zmWAc+bvMU4j7wIku2LzltBuJrZNX2N+muepZTe2NyMg69FZm0dcY2gFeW0TlhpCFE6LtpmAhAWp\n",
       "d1kVdgUoQCjVZvLHHhaTFu0MW8D9JehzOmb7rLOCzbhKl00guRsJLv3fjlj6//y+/Cc1A//ZPLrF\n",
       "4ugsShHS9B/SgCDKbDB97Ffv7Rvh4/UgJfYjyZuRxIB55lfnaqIck2mrgaNhe3Hy0kWZqlJ1C5ex\n",
       "9tdatkkMJN7jtGcjkw+K+9BqMdBtggqTQAp0RD8fOMe4jSFyLzc/Zd+e20IZtOaTrB0Mwup7f5a8\n",
       "vRjzDFY8QQyCsXT8cIeSFG6AKVFI+b6frIqxrO3kZ9sK1cc0FqAHAU87gFw9VFAFvJbnfYtQGN3k\n",
       "PMekkM2LzTx7YUpcSH8EYrc4DzhkSP1zX19Ky5stznhls1mop3qSYwO6wsUNjFlSYDsCUZErvTRV\n",
       "4RwLivdjuJDefAaf8qoA1VBMBKZKA4jfQlJ+/pbAsX40RlClzd1XQw3c/V/c3zD6bpvCMFxWcKbQ\n",
       "RxUdCaAv+EdPXxLc/wl9Jxg6ntdEaWbwDuhAK8WGKcrC1smMo1fwDL+8ohZVfow8TCF2bsV1SE4R\n",
       "It14YQ3ct6FX1iCGqhv2D3LyBX7JXAUfo9CBz96kld8XsmBDulpX9vCk0cc4ySnOACZpKkhr45Ic\n",
       "BD2ewzevY97zMFsZODhhEOWUaY9llyTL09qGB0Hz6aPrTCtKvdChhFFHN9SfZtNdC8H9WAuhq56y\n",
       "eKIj4LU/xgGyiD79ltg+KC3p3AL3/FMcucn+m768bGFWThah10oZER6uFa0CgCh4X/8kSMVq/3/P\n",
       "smpatOgbJGxn5S+hG9GdV2VuLk2jd8HLhiBZIVLOz+/WUMl2gKnLfpmjrHFoJ1aOl1jfyzvjqLYH\n",
       "h4udrPylgBD7QnLlPP3zH2mpGzvoJotGdM2h5waw68N4D9RkZqzjmUHTPAPc5jQHkr54ILQCRAmN\n",
       "xwpF4ZdCK5Y15K4Ad0EAAAMKAZ7pdEN/ALYd0Z2gm6VamYATSpVQKiTxhWUE/xXpVNFfJNFCOkZP\n",
       "IC6kUmdGXOoN7vWZVCH0jQoC+Pymj0SAnVQGAN4RPSHum0/8q3CsZ9QNDj5KXo1Pc74VVv7LcVhb\n",
       "R3zcBy2CUQLJi1MVobL5GQiYt0bXlNiksBJ00lBsswGLfJaKpt/wSPSfeJm/Qx989G+WGnwQWzQm\n",
       "ym7Wg9Tu9uOS8NdHm+d3mwhCMDuc6YfplocgqvCTeYyqDXVzIMIXlZOAIcK0zAmvEe+YdJ1RKzCa\n",
       "Wlkzrc0Ytc+Y+UpeaOTiojqV1quErkIK0GVkfL0+yVgnpdxsRMkXjg9ob26E6mEGXI2UJ2E8VSj5\n",
       "wo2CbylcjjlB476R9Zq1A6p2g19CjoO8CZLbg/AYeaIccgRdrE91JYYCue9aChuqQlYnagbCBI01\n",
       "+fbf0hODmZVIf6/aBfmI/YdBENQqJdjs/02Dp+HR7GInMqvrJcv/zFMZxnTBlI07XU43gtV9O/y2\n",
       "7xvnPFiCVRy9XNVp+Al+QIFbdnc4UrSReeam2zURAEqLfIDnwtzidftbkqKaXIgNB85rPfgi9ldL\n",
       "ytHiyf7Tb5uMiet7zTGHQrKDkf6jfQRv5A81JA9oKRNF3qgrYxBWtMc/CXIkwOx3a31nYuWqXGOg\n",
       "WzCq4ZPvekRwPDCFwcbjA5F2hIeeXmcqdBGmC9d/X7rrypXxYGInYXp/XsnNWku2VnJntszMxjPu\n",
       "0tj0kAFZo1tp39iJV62o5MCc9gttEvERfxJteYwTucM5DvOTp1FMOFSaOURMflhVdRb4yZwW8Qv2\n",
       "9oigJpGp6tjNRwFmCFgHjcITuwnR7OYRFfSBkGTjFejKdW9iKVtsgTgPaBjHZYSBYZOdgN6fccC8\n",
       "24+DvM6pahY0jSmCcJ4uH0dWO6EaF6oBLShRlgN4eeMvRQjB8CwUaJb/7k0a4h59umw+SZywTO9B\n",
       "+sgUPoaMBARouLleK2JnAVhMoN1g7OYwLcmkjReSGJjMMQ1QRWiMX1mkdyAfeutET1j+ScA5oAAA\n",
       "AvoBnutqQ38Aou/VXJ1cALGS2kb0a+3vRjns848CDhwenA/c0RSYL84Xo/OZzBoVTj1JhRp4N9r/\n",
       "hSKamD9x9G/RQiLurtufzEbCUNuulxTRhQ6kceXBWkKAapqIjeBq/zWBUzxDVZoXPqrUegQWSezW\n",
       "Y6YgPemvoD998nx6mUyMxW1gPkdE37MIb9OuniOosJ8r3PXuAAdswUSMebPfGk9pGsuEdFM/0yhg\n",
       "98OOGovXUkHOa3AMDeHa1RlKep1SZlX579Qgh7+AlHaUIjxYtdFjoWyJv5dWbhDBBhoxCNSuyxDc\n",
       "hfekrjrx8PMJxAx27yW9BL44wMAsteaCOAaDHf2bAF0vWPDLQcMilYmDe+8TlphYY0IGBK+7e12D\n",
       "3jW7mFwpYaf6vesWsaMoRLJEgtQDvztNNpGDwkle7denmsvxGBlREXqNenDyCfNhMh1NlICwp+kk\n",
       "G9NeixBCaimc3VZZ6vsQssGiBNYup9xC/5TZrz+zHJ7inzK0pnGuwS+q97lUPe6k/5XYY6rE4tXB\n",
       "p9z7+mHk0uqVyifKCSO0drJ7whHBDwv9q37sq6yP7sYmyoo3buabDnYCabmQl463w6KnennSb/dG\n",
       "EsmPxKrw0gDxMKYuEasM7f1qlyZFgrsvS3G5ycxj9bDbs4kQhUnl8nT5PN01ot8zYYC7n7nyV6nE\n",
       "cUnUH8VJiyBWm29ePOvD/JzDZTBydqw4Rfvy3rtS6JiLlecejfgP/H1tsKzWG6aue9BiO0Dz5q7M\n",
       "sUeTofKAqjVKwC+jKGiN8B4gCItxlJY0UW0HY0TLcyftzWuKc0r0ibWE00nPsXbEMl0i7vNgFjNr\n",
       "JHDSa5jNNq7ReKdWzt/G/zjJECNxg+TvupdgsHSg+sdWTva8baFyJwThtGecaJhejTZXhPTh7ljr\n",
       "oB8LUgB+8mwKK7Aa0EnzIIW6ho3Ey5UewhtNWZT2KNj5El8kuEiSZiUv+XKPTaXGxUu6s/WiDHP5\n",
       "SjCpeY/Zi4XmH3XO27Y+10IPhDkAl4AAAAlKQZrwSahBbJlMCCP//rUqgCSEV19QAWlV5gqLwBfW\n",
       "rBoRi9tS5gqJJS8s5D9chvRx+A3w2Tjg9MgTB1evg+6qIhf7dkWq6T/4HWJBPsKvA4SrANoAJ275\n",
       "E6Z/vvff0me6X3ux2redxKffvDlCFLb4zjzNWymVMdyF8Pa7SD6y1aXF2YUz0p+JZdglBPHs3o25\n",
       "571vP5HuKrVbyH5Z1qgoTqA3bkIW/CXwM0Nn4XHJQZ74165gAE9GRlzkeFzw+ZmPyLBwzsYKw2JC\n",
       "kPS+zkE3fWcPQWWBlG9GA86eET/3EcnYWr2SZTQtMN2y0VioC31fsHtiR1VVnI5VV6ZsG85zAFQ/\n",
       "QxcslzENuBIfn4CkmmRJar85A3oQRKHgSj5ZQAeSlL++Xmpv+0mKsXGhaAaepjfxPupY5B+9CahO\n",
       "Esqo6SDHzhtuno+C6wuHWiy8UYk84AyqrAAtI1efUTkTWFypBJZgSNIz42g7aiymi9FJ4OcleMah\n",
       "P5Ourqj+GA3GvuAP7psDflL3rqVcVnDv8BQfvu5ngPkMkMig/STSI8lOy1vjb54kiOC0FlxRQa5n\n",
       "VEJDnvjIoE8tNkyGZqYjt4bBBDABs5r/qbyQr3vB10U+ZIxei5FFilz2cN2YeAefAot9N3vVnm7Q\n",
       "eO7x2VdEk636ZNw3KXTyxuWHyoRb6Bch400uIzARxdkVsMXCDQ95TgV4s/Qrsi2G7/KyqKvEtMAh\n",
       "8KzOEk8OmsbFBb7hgkvsXS6gCG1KXWofvEs7nRm8bg57d1l9ImPHQfJe3fUM1MeQDZaZQFHZpjsg\n",
       "kEoxp4GaXsvh/ACp3Zgvdrc2xFYX/FmzLBxa75pClnvfsFQjOvngncolfHl0LtkrIXvD3JE/XwQu\n",
       "v+UVskc8ggiYW0C2gqqB0dFuZ+cBb7VtIN2M/Dvn6LhuSN05w6Ss4vEaOIEstkR66ZWOSa3XnmgT\n",
       "sIGh5RGLrf9/2FC+4pLpmAZK53RCbX/woK2+Kik20IXfvaKpGLvB0VDQUGIUZvyUw5fJ2jP13xhj\n",
       "4IcOG6gHHqNW7nXrGPjld5nj5CCyhzLylouQwXQjBOE+hIW+VGbfQsuhDJjMatjAJ3t6OQeRTkNo\n",
       "+nSixQp++RSdO1zu8XwsDTqmN9EolDaFo2OHDYu7rHiGHqdKEknbY/Rsj/9U5Nhi7yL5pE4sbr+A\n",
       "pQHXObbznSXumuUYkm7jqPrtViBx+rF+1oCtGGKRIDAbUWmvI6Yqx0sP51MWbrvtfPBMVLi56A9W\n",
       "W+UUswqPZaoWIj0YMA0Rz1XuYIx0CP2VFwf7sBucsZkQePIf/hQ0AZmpFO7trqF+cBQeVHTh5ilF\n",
       "2PjvGDFS5OJsTJwn31dpebgGlwLOPEWMvNFlqwWBtda3AZLGn5A9+4DxhN+bSziC3aINpIjg7Hw5\n",
       "wCDVL7w8LEVL3EBljBC959X02aTezaC2WmkRRvUTI09isjkkO9NEsw++9LcaBn5uij2/fKqqHtB/\n",
       "iOaq3gqzkubyWBdo8pve1XhX8P/4RIFFbcc+z9OKCyvDsXHuhk9uWMnX8yOc4Evow0Nq8K5eU7zz\n",
       "wl3JyyKUQpggnxeUaT7jGBQ3MsBgE0vpUGghjo+i3GZ0MEG6W0YaUNM9ZPPxDJ1Uyh1Uxs4ebpqD\n",
       "d23MDrXI2Fayqq85JTI2R+oyd6VwbW6A/BOHdLqmz3PfbX3sJecYnTIdm5zSvsrn4+B7kgLicsoz\n",
       "bduBPTIyI5VlQqCcjtdItunTiMLaZwwL8C/THYsoj9O7gxs9J2qhYSlXDC3feyBXsKGxC5pdb4tR\n",
       "O/SMkScqCFS8lUw3K8AXgT7kvQs/cFbyOchTMiTJd2K0b0oJlhtDUYLftD7HsCE8W24PV/HxCZ0e\n",
       "9ufAuckXXybaItGd9FlW5ZRcXFwsmsMWgjarsedADEyG8phPeNvY3gNAAPPIqS7sFAE0/gbtg11m\n",
       "pqpEOwfUW6zJ9wVZJdzkysojwMtPaKIHeb0efjhh57t2o/HpV8DtnLoeEWFQVzAcPsYcaw6erKO6\n",
       "bH9jry/keroUYegjWD5hRgRBHPeox57e7UAYnb5q+60QYVYXaGQp2saNVIflRMjAi73D2bjctIPY\n",
       "8wgvmMjJyavYdWifJQHPA+tV1lKPb9uaFnJ1g3Yrs2TZ5EOUe54UwgvCwf61U7rkVfdkURHokHG2\n",
       "+0NL45Ek+N3I4aYq8Au2pC9lh4tlfvAzANZhDDeR5ZaRAsoV46+hhsC7xC0z94orRXDY5Nj2nXGC\n",
       "W9/3hdcOsafrpOYrpnPX/YX5nMxU/lmlGsnHrnGoERMyTNxn70WxwafRJwiGFtyAkgQYIuissMi6\n",
       "lt9PJA0in8E+mt6uk04FuBV8ZSluvnZb9A+/Cfht/0Sn1szkuw4TLcHJfRWXyqWls8SRwdccnQKY\n",
       "2XTyAqTXdXKAsBPdXkKiXImyLQJ5Mlwu8H9cvxw+ozd+wCrGfzss4JJ5KAKwpyVkGttLTxwcJuw6\n",
       "8Er8pDMzXauYE6+J1AgGtibPTZAziVCixbEgFZACJAo6vrtlwaP1YWE1Qr0liiIeG1ZR9ilddFkB\n",
       "52qzVQOKyQatjTzqWS6LpGqXtwGUTQ7LNq6kQAOvHVL0PUZY/3uTkGucDTxA+ahtiRZm2egRJiBn\n",
       "bn8bgrIXOKWeKnvzFKavQvgkbaX9rkt0Yx8mCmUXJfeVcK2g8w2ch8j9YXeoeNBOliPsvTopjqFo\n",
       "0kzQgiEH59F97d8t0APQTrZWIllUqeEd0LRwzEu4A4RtQU8Ke/p6/ZZzunMzlaL1B6RXsXk6djl6\n",
       "K/2Sq/gGutexdI4F0pCy/J+zcgH7pGh+OTbUo3srV7DvQypE4tsZmALxwf1O2RQnrQEeVlBG5Z0+\n",
       "bypJRBJCHxHdIf9621caNn/vGBEe5s6/5RrNXdBGo+4EWZt5R7gVvyaeAhSFbGliT53NgjAe5Lk+\n",
       "6811FohBBt+HVu0ivOgNmsqVrIcx7Nj9GAJhKSKijUcvSy1yxrdc94MoxV95WET/vGY6lv5HXoRg\n",
       "/q+RVB7wegdRXRQtDFkurDv3+ZE71b1dne4DpuqcwA/TlWeah6KazL5r1cJdKS42NDJM2tIHr8i4\n",
       "OlBOX/t/fF1fEkdaoHi/Kx2/yR9K1/hyTZBQjvQgxhMoHF/29Q4cfGw6penmu8AL837CDY5um/pP\n",
       "ts/h5hZP+EoYzOEAAAOyQZ8ORRUsO/8AceQEJWlsAKsstnxqsiAPzEtw9/Wppoy/xcBbTNbKxhmw\n",
       "YqY44zhiKrMonFOzJhAxRCHEeRsdrxBqM0vAOPULEf8HpIbs9eiGCm36VHrXMiAIAIqiwEG535gf\n",
       "vQvU/yQNJJ3l1MJhxgusUnroiy0Nf4oZX0L2t9G7xgV2X8r+QdcOngVtpcXwZEgihshczsoK5AUH\n",
       "Rk16CiGpmIyfbIPXuP1uyoy+Hnr2s+p2n9IxI/FkFZo9QEiCGTLD/6WaCgUSiyhgHPEQXNrdtnC7\n",
       "wJ0GeNrXujZYKnwdv80jCS8htaDPDNuKFYymBCAg+6J0UdxQ7ZytL/av+oG6OF/QjK6XPFwyh/8M\n",
       "EX7JCP8a64dhBUMvGB1APuUh3caxEyqt0qigBa+HuS8vT8ELpXoTiBnZCx4JpsYbF8vHgCjs+g9e\n",
       "Rdzn4hWW9LzQgc9k5qPeVu5oGgmhnDlz9MuD2G/gzXuCX9ej+rHNiTZeZfJuA1mdEizwed8b06ai\n",
       "yUgc/ZQAeCoz6PX4NTxWpUXbGlglkv84EGKt66bUGuu7dt/0N3GKPm4TEuwriwahWw234uWkyawG\n",
       "DiYoox0aYlVIBvbxUG9CEvXx+8Vj1Xpqbw6rBV63YK3lD8KKK7O42j0l+ZHrIw26XXwR/KIhZC5l\n",
       "lpallUthYCKXE1pq4ewXVcLrq0UjP0211Qgb42og/eV5N97mjjjzbl46b0bsYLnEngK1h7AzHkJb\n",
       "GSn2WRp3aKgNdbVqVd6tYC8a5FWvyu+TP7V2PVqGneCGSvPsf8LZNBrNvw7WJ72/7/k0YejJ67Yr\n",
       "QgvVFov/pzkaqD/4+di9LBOIzWZQ8HMXiNDv23bc1I0WYR9nxLDTlC/+6BM/FeWalZc4lmNWYStK\n",
       "wy4csBUgSZSYq/IlQag66erssurdn30GHQXISVdgkd7z5qqtJYRiVfAhv/M48bvVhuvyX0c044tJ\n",
       "3NU2sPgghvTIBrNoQVZjzkVjEsjBeGbR7BAm5ECrm9u24zc9kwJU6WsdAxy4yCXCkrg2FhHnCCjW\n",
       "MvnYxU0nzP2WpGgdNgxH/1Ozek8QtCyEDtjOC2N0U7TaG4b+dUGjh0T489GENgUmfha+ZsQ3aEh7\n",
       "Kvx1fsMunGtxh4LKH5fA1Xbw1ElO99mHoIqJJLEo7pUSoK7U31npHdOawsK6BKYNMhVapGNZdIej\n",
       "8bxYV2PhB+OymgSmlNFO/oiyU2tKrH3z3uv5LQ9DC5oTw3aYNl6zXm1NtrD91PwBnQAAAtkBny10\n",
       "Q38Aon9/4gKPdgAFrcu6WobJTuGgJRRfcoDLr8kUV6aV2UQ0a2dfcb7qHmhzS6FR+rl5SacP0mko\n",
       "q5ahlpjZweiMIaNOuJc9/dZZIlwuGBYrTS8Uuxtq41yspWIhLwgYjXS7zjOMOKnt/ngOeRFLLBZ0\n",
       "LHVFN39R/gnOu8MjIHmCcjJEop/9BqEMErB/sisFlMNn7zPb6araPVCeHleCji8OSIddA5ktqTmr\n",
       "gtMFUXVT/NgiZZ8keJrpNCIdMexcQ9HlXlYQHCb29Q9s1YTKHDah460bALIZcrofB6uhe9sPdgEO\n",
       "CYTd2bdbyXTODjPbKcezGJUrkDdvY4G7y0r7BUuv3ZzcMUrbVuAgUskoeqQFPiFOWw5G4KJu59xv\n",
       "P0F8Du+9HzNWlmSOKjtDvlMj0j3wJ403qHKPgyB3UAHkZrs4tPX8ev1wRhP4enZ9kQbstrr7J9E7\n",
       "xWLu7ypJ7ras6gpUk2rSWoC+Qy7XfsVdrbQ8Shfavygru8ZaAlswsbHgl7sQgHlyCot2fRgYChk9\n",
       "LizvaLES2JFj8269yTTHneScV7ChsJhKY7k6X3WT2xSZhrLw9tG2BdSDn0YQM1tNW1EHyVlzLRk4\n",
       "3sExtIey4UEORmHZSjUMxCgHccXvGxVVhCrKENf5Wj/YXPuj47BHJcYZ25vG36SJ+tLvo4R1RKtq\n",
       "febMc3LOqXX1GSNLx9ydV+CwkGlG2SSKDmMp3lxz2Nr3FGqmr0AjCAdvvifJ0nZGW1Go3VBDqXgV\n",
       "SwAGvmVKdUNAnN9ylk+voiw/tHOB9CkP6Oq1qyKdSxvRaqtPO6zC1gTalDLFzkzfbjKfAZjV/Ne9\n",
       "pb7rushFwpV4hFYUSZ0mViTqQHaaCNLUguX8sL+K4gLRrudLiOx6sBk6gWgmMfn048Uw2hpP9wU1\n",
       "bH41AiMT/iPlApcYJVhGmb3OWy93PK7iSSc30agE0OD1VVN2dgxMBoUAAAKZAZ8vakN/AKPPBWvU\n",
       "AHq/N9d7yJOyMGvL2zwj7l6itZbWlKymGj1XnDIn73yZ+FRYErVauj/8C2KGv7JG2GKEpNDq7kFJ\n",
       "IgLET6oE2cOWTFh3uQupuGMr+NKtfJyEm/6OCTSvxPh84782pEBvnNjc16uqmuKa61/UNk2KkDeB\n",
       "c5IV82Z7d3qgW6S6hcpYjm1EP/BqtzQDeoKY1+WEM4gCxkpaEt6P0VmpeBUbzSmg252/9Ambkm1k\n",
       "e6l39aGD0XxHVq2GaMhTvFw18Zk4H62yLAmoBQUVSFAXZvEI3EOB0BbItuxZ2DsIxIrSIxrs3EJA\n",
       "8scAiDYrJxnySB7yfXNz8qubc6Br8lyeMKj558pe4sZyrLJWJX0oCu07iqoudhYppcpW4FdPDiDG\n",
       "FoJ/++B1m7NyLfwBuj3C9qqP7QzfshtJM3BsqCTtHXvvtNtrP+vN8B024KMey/B0/2irFspQoHFk\n",
       "x9ctDLFVEE3lqh0mGOb+8ss+OBCZgEinqwr4qIAnxNB5vFM+ibwn8e6Uw+hs079WGxgGDKdDQx7v\n",
       "XcnVVoR5DnnmvQy5VbC5uczxZ9xlKH+h4QWeH9P8d8hqZFxZDrpJdk3hjxCevPBbK4vL86vOxx5t\n",
       "nf46bnBn4QYkF4R0935dqsHYLzWUg1dJqsHEdcDrIf4GSN4ebAeL3u0ii08MhYCkXZoMvkzCC4f7\n",
       "4KNQY+mO8u8o9bSI1MPwKBkx3rtu4XP6HXXSlrHPWOmJm6cBYLQoRvYKmbDTLSGk7E+1eHNvbmX2\n",
       "WwzIqAEiGiCENKQcqsiVPEo3D75ohjL/szuPNSXzIq7K0zFIBS7oKFgnrvYYXJPrEnZJjg06tEbd\n",
       "gl0gOqc8abp4iJbnH5XLBjmfkzX4ggJhYEAAAAebQZs0SahBbJlMCCP//rUqgCatwei2wBwbPN9Q\n",
       "8x4B62lWf7/aUDrPx3lqucaiOe/Ozg4757AeTGVls97X4cecfTZoaXOItHJSAMRwr3aywOv16kwD\n",
       "kKiAweavSkcaLbSQ3e6DD+Dt3ronUoz5N8yUfBJM8f7iWLEHeoK9cACRCU+N5koIfT7c26xfPyuJ\n",
       "LAeGmMTmmxkyzF/zG3mneNB253UYJPh3lZnYyhuABrzNoYV3fDvb8lNBUpuN84VWfu9T2bAgA7Aj\n",
       "iw+7/9d3T7aA20yhLbNom0loKv8FGrigRE5Xa7jXkZi9D720VWbcqiDf/8TJeuZL2sBOLsgCF1qZ\n",
       "4LL4IqvJZZsAf2NF7hevezVcZSQ40EwBcaagIMEQf9aAaDoMd80P2E/dgo+OMJpGEaW3yEwO+dnt\n",
       "eEqJd2dWD2TWJCVt0lK+D6YkBPcS/itI+JjHDkiIilX74DfqwayAhH9p6cij9W0RD3CmSHx7C04h\n",
       "ZsE53wtcrqSUlsH2MCidl0iuXf7leHXdKyXY45joMewz0pcmiGeeAi4xSXLXu/eJEP1lz7FHjs6Q\n",
       "OZqJqZkGGc0IeIjmW8LTXscOnzlEotdtAbLpmmgxCL13wvv9daWD0J1PVrqPPuZERh2XtKFIhMH/\n",
       "vRmffidg5B63b+KvePIOo01yyDxNARtebWpn5hNV9aOSijGZ1Mr82wP0oHT3coayemvD0c8hoEnN\n",
       "Q+uEJWPAl3Of2a4EgZ04pU6srLGkFsbzzdQ6qloBEmZfHvqDoj0SA5QDz4Ey6qC0oWepjkY9IrUJ\n",
       "1toVZTTTg0uvtUYXM+LZSTlagBJEdkXXN1DeTtHh9Q+3h+xMAqwIhErQZRBmJQUL6j0dQ12hjpIH\n",
       "nPrxDJDT9JRA+OJOG4ISv/gc7AQziu3LifppitDLPhmde/uO7VBINLkAReGtz9ejfX4h+5y+5MTt\n",
       "e+F8ccOKoaL79R3sXKpidizmu9zAU2H6IWti1CcPgk5CIwMLSv9pytge2oYQPI7FMSOJAh5ep5dZ\n",
       "5uPap6qnx8NWTvV+QJTyTEEGy0JO2XVVCV9mrKNxx6Q48RcBxcCBghrAatmPomBuY7P0rjmAm7Bc\n",
       "PbX0NvZh+GomEVjI+u+PV4co0Jr6vpKNST14skx8RQDW0LlXA0v6J1QeV7YhMcRCHMFofclANPsM\n",
       "TjSoOOJ3R8kYt80dpZsmNw6TNERfaGRoL5kgKLGzSRzfpMitzFl51ea9iAplwbe6dlCf3va4PZ39\n",
       "KsdHBHNFR8S2yWop0y1dJV8nSSnrGWxO+EML07PU6pqlG1vaisy40UOCqwKsNKcfXyum6kmuz4iK\n",
       "XtEOgDBz85QOItpRpjrWq7QjpH/KgrfyfRMLE3NLWKuT6miehHtSaMDNv3aufxtwj6ZJ3CaUphjm\n",
       "tao0vbCGbD+pTw8mfnSw8zpnCniPSRZZ8SHi/WCFWCbhWoEqFJhRJxpZ/j4dOH2la/0M2Kkbi38S\n",
       "9iX3Aen0OCJcSrp1u5IRrreHIie9RGr+43f3vNS37S1L1VwJa4XWZbEGrlIjGUm0fYP5AOnvUqLZ\n",
       "xE9wEXzSBYnbqrnlt4mqrC5gJzrbLdbA+SDaAdN921Bf8gvQSkrV+YFUCalZQ5lEYbbTNj9pj7sv\n",
       "sA3I9ani76ZGklF2OTpQEGOozq8SDce8ow6C3G/3dnrphqZoqJuY4sCkLVc9kfMMXADAHZTLGT13\n",
       "VXtdwew6ENh4DV4KinMgCRmINaudRR3WfwwgEcvQKtPzm5inUm/d3ETtyOXDBUin+0bMbjxSWLJt\n",
       "I8SYpUim07I8zrVHw1XvnUf23Z+7QyDokkiMqU9HPPPtg4HUBFuBvqot0gjiUNBhAFvTFZQNVQ6X\n",
       "PmCj+eFLrExkpaRdb2TOHgKWD7EhaRQGeRmudvtqR5H7L0mJnsgE2uAsqNhE9YGPRuN9f4m0upSa\n",
       "3wx47zjnv6fT+QL+pxxcRd/0RhV7B+f8GxE89lnchoyovXEUqEO0Rh8LSbYql3c8F6IsV2exNcDb\n",
       "RzSXN1H4b6KsSM6i+zVqFAGILc55fetaOqLA9ShZxy/897D6XctJP2rPNL08qsVLOnxhRDr/qvzv\n",
       "+3evEx+gNSYnPBC6Fip6lJza1U4DcXTVWajcZyyCY9RsdAkXZCvbg200c1W7Ruw83yLXAtvasjLv\n",
       "NpO1AkPXG3tZ95ucT/jKJqqK5a5WGvk3Luerqyc6eaWtJmBSon/yQmByUbhfLIMiKyeLAavgHQaP\n",
       "XhR2Cm6N6J0H5WErN66AFjlRDKzPrcn0pKuY07IR39q5gfK39QrhNthXszIx0wUA2UCN8fp5goVS\n",
       "Li9UhsZcoJrkH1xZqRmJ07gC9D6lmeZI15zPjEbsxUI9lMSRsl2YLPDzUD56zH4FCHMGndhWx+kv\n",
       "uzufkkFXASfH634J9SIrwZB35A2Wpkny6n3SJZaNFsf0+T53ZBVGcCZnuFotYtEl4WqRurvt+2k4\n",
       "GCghXHhxxNxYS5rxgFDV3/9CGlxodcd+o79phLAwXUp790BsS6cENYPAsQe7r9FJXDA4pO0i7SVh\n",
       "QE+Ea3n5Po7aCe5SlwHh4U/pzSWT/8TSvHODnyIZPHp9xqvjDINMAAADAEGfUkUVLDv/AHS/vDln\n",
       "9ABayCku7PWaPTtftMA32P+YpTHRn31uNqVARNZMUOxNlHUgrDd6OCjHigseNa3vXlyrB9eFqABR\n",
       "+knCxuIDWM+BFHFHIZG/3FkXv6+KhpoCLX/lp2tyRPj3UydjmaWUtTpYrN0bkxq536wBKCt/NpM+\n",
       "M2GShuAzOXGi7fQG8lwGDOqvVuRiWzp5FcTuU1mkf6ah17SJrXBfAQSU5MdLKjxrajGIqLgHjWVw\n",
       "xZVYWM6lBLqQ2/+oAIUBejeN+zATEZFwYso4fLP3UkSF9npADWvsO5/5xW0yA/zhKDIJiiLKOoG2\n",
       "tU07x+LUb1MEMffOxoH5iXopLZt/fPUFGc7qtPw8BEFGI7HcQ0rAmMVJwQCZtU3Du66A1WQIikvc\n",
       "32kyIdC2SPlAgIe/gt9fD17WYGRpU0zSNts8wOzHfe9ArZgemg2Rh6/OosgXIgSqS404DFppWUUg\n",
       "qUtockwSC9yWYGoJcY/8ibeXL72HpJhEZdR/fOKE2ANw3zzpsoiNM79A0xbgccVa1ODJD5wYuWSS\n",
       "ZvRUk4b8f7tijn3GwE6IdHISA2l5r9+TDtq6GdoH+PgXZRcFhQCvPgzHL3rucV+TOriasSqiFPEO\n",
       "tliB/eNiFiYyaFldeFdM3t7u6ryUu9cU2biMbaY6iEZQDYx9o1kSIoEtF7FQiRdBKfjZ8OSBWYSY\n",
       "ZpsBOASIYceSnx/QJqdhlCFQkfZI5CIn3OEJ+06FfnhjGQBaXclj/MY48aiFqpMxnM7Vk5RQZG22\n",
       "qbWuHNeOHy7wQnMZUPab56Go0jPkXn/aIN52ZX0fs6MVlilA68zLqYohDEg7YtDCBvNghOMdQkYc\n",
       "xfoCFi62ATmhMgcUXHcC3PTxjvm9C870B64kvNkOLNtEJPwJxFbeNojCUxQJhSVOFffdvhTkRu25\n",
       "Lrk0upUVPJsViL/dHBjTCxwilbIVt+cTApV5RDXXThe3I1/wyvC8SvVvr6dO4bEaV5HiaY7DykUX\n",
       "RLnM4Vo1Bp0Nq92E3QAAAdUBn3F0Q38AofBSSYJIAS4H8fXWa1ac4OmXznV369FV66+6A5wr9z+v\n",
       "MwEQtiHj2rJr5oMN0uspDkQ9T8yXud/S39JPzII3SofNb9at7z/zVEbrD3h28Ve4TX/btg5sAjMk\n",
       "DZNHL0tFhQQqAs/KYoS7/QN0FPQr5FhA7sFuQvNZaMX+32LQVuRCNuAlEeyItW33gE8XPU0ruxLI\n",
       "jpbNiFujjnvBq39Hs/y9TJFazuC2yBlwtgtAx6zJr2zANQ4EHprE0rtf0V6XMvGG4QOKLP9mb0+f\n",
       "o1TMFOTdGL70Huxvglco6bAsORDNbeb2KuSbORom/8M7cV7ew3dJgr3Ejp8F57yMN2u/rg8pVTNG\n",
       "fjbwwFzIlta3BPGFa+fAZuOOiFqNCM7B30nIVTqGB5X6CikjHyu+Rbcp5Yr6U80XL9Z8omE9P1bW\n",
       "YRNGwBwR2WitKEG4PhtuzAY+bfFnjYRZxgo4s74stl1mqtmaGtARXIW6LZ8FBEdC/TD7D1P+im9G\n",
       "45HjOFaSGECm9nfHwN9vouo4xtFwb+yDviFHULVRKN8QjK3beLgpCaxosSOy3jwIgAbkvatOcoCp\n",
       "3FZsNYYWkZPwFcCxecLvUeWXpzv4PS35RV/0L0O6AAABpQGfc2pDfwCop1QXaABOj5kguCJCdCQT\n",
       "lIM75thWuPT6WMzUaGcbL/nRsNcojSo2JmoBlSkBDcryFbzj9p3udSOa59pBxKkYs+0CN9e/sRFG\n",
       "ieMBxJahAshL/Pw701ccwgw0ui1hnJRnTx8bd8pQ46/kHUUVztZUZEUczwaOr2/pHGmrTTFe1T7z\n",
       "2SgX+dtqWWT7p0ldSVNGYcKd2lsytmB+/VrdqeOy3R3jxp/zk/C4ucrklwk8EgjByQrhvon/0MSc\n",
       "x9tvjmcg0TGBu0IMkvgAsJFlhzLqu5GCNEY2bguVO1JGYCv3fSKVU67YXZ+JZqt6HGBTi98g41PQ\n",
       "dJlKU5Zm/blYYC7WV5HLlN+JYAx/Wcwt+zDLhCdzX9TQi+kJ3IH+/rd2Y3Aplld9kL3S6aucQfe6\n",
       "l++x0rreU7WwnQy+kdwEfJVfqmWjL28wJfDTmXB0l5u8aR/pgdeFx4v6OtIz9CdQiXcJiC/TE77x\n",
       "s92YbZNO1cPTQr7eNULc1FLdbnCOYQJX8vF667Yu9zUsFmmvVjBxCtkwGpKC6TPXpPoSFT8joREA\n",
       "AAYuQZt4SahBbJlMCCP//rUqgCR88jYMAEJgYuI6/29AO9ankulWa+vlxaHB/h9ST6mOc7msmTw5\n",
       "BVX0TpzzBopWH9nlK0p/p4Eft9auWyMQ2mhfmHymR60uVlNEzOAXBFiEUxdVELYww3NjS0K2a8Rt\n",
       "su94CjjbV/ctX7G+I9UaBdXZMQc9TgM3RrbW1VrlkSpl85MfiCrFNwJAC18VXSlLnGWOnJ34uEjv\n",
       "hcP+nPBVqyuwQP+gSyXPo4iQYbxff3P7kPAzWb9XrXB1zmqjDxUXwqErq348/n90CxgMhXtVUSXa\n",
       "j/2azS1VssfVmnJ83g3OLwolxTNiPBN4S1YZMrNb4QbvFpKB6/Ut64kAL6A+F25N6IWvKJMhE0PK\n",
       "ewCMH9+xEndxYzPQBBJJkZse80HV1vJeQG8lGVGvTeXePh92An93fj+kErdGmuz3L/PK0qCDcXhN\n",
       "H/S9x+VzGKWFymui1SEv+ecrp5CEHUNFe1P/qV2MHNmT4qDc/LB9faEE410Lhj0W/vEajLjve5cN\n",
       "y2inWfNZiy8FjEdCh74wf019BGxPJumDDUacnbc04PuQzDX3r8Ld2ZInzI5BTXf9NTWuMj9k2kM0\n",
       "lvV47KZwACgRSJZhhpCMEXQGNzSACEUvvz+70fNIPyyCR/NAscK5+q9yNg+mPpr8Qvrs9KlM8dUA\n",
       "N/uSMdlA7YCIw2jTADHfwUHfN93+GqJlFapNgtNriGomPa8aILK2jmchqxexlRXOWyjEeN7katlR\n",
       "FH74aLU3IH2y8TmqeES2Uy9yDo62adItsnlgxZnGUBa4yiZiMHaoH6yoOjh0jZHpE/drbcqJNfSi\n",
       "lcdUCUrHIh7yNDVH4WqkeebUU6xxWuJrUCLQAmioyRktNsSq0scO//RpbHPEtywXg1C8i2AcRQGY\n",
       "8J4OES4+Q8WuYDPrLQlSwXUuk5hCJxZ+1P7JwrNNp7+d5KDI0dFmC007e0292u5mcHIl2jXUSlSB\n",
       "zx91SL2Bw01TJaHolXaFMx0am5r+AZHPJMcZXiF9zr47oMHVizWTVHDkEupXHoy0zv52uu4OsiOh\n",
       "qQwaPmMJHwn2ZEcyYz8SVWOhvPXEv+QNgpS5geA6PrnBWPnUeYFmBfz9SoCtaOZsX/L+Whfrbuko\n",
       "HEHAp/uhf716VajHYhA/UtSp5kIstXWiBJPpC/wdNY2kWjCovl1UjB/+I/rD4NxvLdoqY3rGE1hn\n",
       "KBaqCVEg/rxSQtOMBEEpCkfNs/nNX0FPzp3SxOZRfDAcp1PdIKOPdaZ7jBZ9GpQkwHEJzlgthSsG\n",
       "pZvqsoGqMaZucpr1FvfO9Z2PBGoPXt0Qvoehj4EG+vjnD30hTLXSvUNE9W0FkIjRHuyMDGUCNoPa\n",
       "NUSB8HIw25cvQOGDdqmZ7Oqp4F65xUZ/Y/2ebQI/RdAZPSRJ7wNWXW98lCKuuWGBlA1hR6cPQSh7\n",
       "Tvq/6HGcHul9sBBtBRIkeZUvlLBVLkjrGvOkSOW7jWNy3T+obrHxW5ztNbk8mWReHvito+tw8jFl\n",
       "ft77TL+U9A+yVqcC38p4Kn8z0l4eM5t8lOTKZQXDQxyK2HBgJ0I12vvd699t7A8+6rhOSwTZpqvf\n",
       "sob3tAggEZvTQZDAUawOAdZcY8fKkoPPbALUDCJKGqKN1r34yKMjuA2wB/mJ6vQrf5pv0S2Doasn\n",
       "+hYH/X0Sfx2i+MEgSd198ocyMoLW0QIZDoPHQ2mIILma0c76aawiM7WWHSqlY0kaKzX/NnsyZGC8\n",
       "4sAkWjhDJzELLd6gTfQ7j6wYds29hip6qz7IPdikbYs26Rkwefg8EjyrOyktdsgl9KdfG1jtPvVz\n",
       "dZ/2Wx7ZANKUNHKGMP1NjN2+IBAXuQqw+DsjuY9gTLkAdF0mRB9TcDsqP3Sl5wlm6j7ua54sDU7L\n",
       "sZ43n+jqrue9Zgr7dyTZcH4nQA2RnMPG0dmTCf4hsuhHId7CHMs8GRMC4TntpPBdP1Ub1WRoEdce\n",
       "S/A0jlJcy46MF8ZjCugutXoVg7phsIQOwJj7aB04NW3m9P4fjKvHfTw3kWgCKy1HcF6Lltb/FAOi\n",
       "Q4J9E3mW20Wk40pcxs1SZzjTxoYbfzDrKm6tJAsSPFqVDsOyXFeizjVZJtUtIwAAAmZBn5ZFFSw7\n",
       "/wByQD0AFsuFUQxTk2jbO+Q9Pmv5eFWBXUeXxsgCQjSqlSm7kqoh6YlcvLPmuOJU/+KvqgnJNxsU\n",
       "MNOq7eB277A/Nbf/Vip1YH/yRv/uyO8NAOLH+2kvJs7flTkp/TC2RNU9n42Qys2hicwDjzMf00S3\n",
       "vpqFkoLN9FzrsRKH4hYO9OVz8QYny5vlE4k9TRKQJhrh2clE+LItow45r4QDvyJPrm7AECymSi2e\n",
       "RlnwEzE3zoA6NFuZVyugx8FSeZVUH1lRd4s6ryMR6mKctJ2loKHq49jQnGvUoWbaFjir5dxTPcf+\n",
       "4Y2yV+jA5/kxnh4b4BMlol2sZj5a6j/pwDYboXpqQaOrdjZ5u6ihjLokjoBrBeZKK2vQABE480BC\n",
       "0yu7c8KESCZSuGSQA1fczoOYxZSgDo9hDbLJO1x/i6Mnf4vkTR6+jKmFsfR6nqJMNtojpBEhWi9V\n",
       "BZFuGpe7vXwXL5HBmrG6ZH4lGXXC+7nOVDn2A4eOI8PeHwKFQABapX0FbxYlYlQxiyIItjgfLBE2\n",
       "hi6/hIBKhattmAeu30YUoi/mIPmr5M5DoUubPlqLAEIiVgm7axa7ErSdu8efgx8xh3zyq5dqSZY1\n",
       "3hDpvh41HL/02qL4EvZ/OiDFMj4QzHsIu/Czk2ksantmKRT/BRa/DFEqWAxQcIKq3bpnU7M9c5++\n",
       "osv3yaLo0WguXMbfhDsyFYYL04n97NVYkFpCTjKNeman4RkILnKjAmIXfRrtnSIhGA2VpZrUiyIU\n",
       "M7v+fOerLgudmlx1FZQBvtgXoWr/AHBpHCDs+yb0FMDmtYtqgAAAARoBn7V0Q38ApCLs0gBI1Bsx\n",
       "j4pwiod1GAKWREBXpA5BSNWIR7nw3ie9vDYGIXmmC7h7nDZd5Cw1SqsOBjbQCOiI9gM/SoWamVy6\n",
       "/3OZaIy03KFvYtKmZSOso2el7k1Cfy0hu+0kH5+3BriwYapzcbnm0aFCdzJ26MyBef75tfpHdb7z\n",
       "pRIllzUhg5gDz4RDmfQgBIxVd+bWc9fqbqQ9OhFAHZnV+mokHv/jyZtG7qTSHWeokBl6ObKqdgZF\n",
       "CvH8B/MIhPkPU/yfM36d+jBWngMHb0IDzBtdCBE5hlIrIXHSfQmIg64SI9dUAYV7W3v1EzYR/72m\n",
       "4L0aBNj6CzLIcpe/nkRA+u4L+moxqAt5sWu4CFCzrVAWmThDxGUAAAFNAZ+3akN/AKJ/ftICj3YA\n",
       "Ba3LulqGyPGeBs+anvQkdXNPe5u1hBIxcjwdz6OZsbyI7nYoOvcGztPtXJGJqSVrDIBDl1JF4w5E\n",
       "dXeDmMLoikmKz0Q60RRTo5LZkPZKpmpq67qBIB5NM94SHMAML18l/KE+EqMTNWBzp6ZSRe2sRhGx\n",
       "fc6N9pe/Mkgfm6bMwn+hdKO09L7yGP8hRac7SQ2zTo8SkDqyCn7zG8EmBKQc8obrH3t+356FCgO9\n",
       "7RolQDvHZAxNWLNSq4BIfKrQZ8G8objyNzMkEaG74npl4vNDhWQmFAZ3bFsyc+ptRQSrutUjYNTE\n",
       "CLhmkmD+Xfy3K83cFg1i0H5QALIY/Eltbtk2IdwmnUQBy+a1aYV1oR2+HW8RCQZ3Pzdeq2xzBVO0\n",
       "IXyUx9BcPuotIKlbN1A7X2hQbi6X7ylabZJFXglvIfXFAAAGnkGbvEmoQWyZTAgj//61KoAkl95U\n",
       "lwAmjmzkF9utMMZJWbHMDqcRKhAGRWvrirCxH5BNNSFh4BrQaSZQh5htOalV8T5MwfsmcnzaGUkd\n",
       "ojTyb0UitL718r8W9kGZ35W3Ce4LpLGvEHC9VXVshfoBkzR9+B2dJyTrnx5ZJEbwMNpnLb8JFm+y\n",
       "mufB1NIqrk3W8GVG2fc1KQxXQUAvKKbC1FTCtyjhUIaEpfCWvkwztTXqJYiE2TJKT7IwpQpGR3RH\n",
       "6/uwjluiE0B4B4uZvRDAoqS3WOs0vECmkSzDBnpv9Qnp4T3wPR823HAmmIBbY17ujaveGIbH4tbc\n",
       "l9KZQ9J8jvpzKdC6TY8yVza3+Knrlwy09ceAT5ZrDzZX3skuwujpdSzm/LX9sQI45hIRSwghCaNH\n",
       "+cCeio6PlDsjDcwo0CWWniSr1OuK4yJXd1svflQpAQUmANiVJs/x6pnzBqZAMXNuJjVkiV+fXx8h\n",
       "64jPjG7uGPr+zEUdC+7y50ICqWkaKjtBQaVtIXJLB9LuNopu23ITdTRiKs0V0wzuHD63lNgmK4mK\n",
       "5d51m3xdXZ/K90ZtKfLTFyAsvbKDWxw35tBEpz9XRWC0tTlAXQU29okh1c3ZBbIjW51i2EKVazbG\n",
       "eS30V+2NRxzHdmzrJGeRkO0niYI8wDWRJKmdpbR87bEPY9/K2UmNPSz08ErwMaddL0H42RQQgkq0\n",
       "zYud1FDFYJa9zXl7nx96if8jG3Cr721Wve46Urtqmre9Y0tW2DKolUqZyKiCtJEvYEO4cGADvr5M\n",
       "REI31qwnnZKcPeRAlwRfLWpdXu9ofxjWiO70vMx+UGxfFdf2OeEl8q304Y8vZ1CY60A8I6EaRx+k\n",
       "2RLgch5bh9XQhvIPllQ5L0oiQhKxVTGPOf+PSku2D3R9K89RUjHf0PeuphLT6Xy16dY2h7aJhU/m\n",
       "eymsaw+hIuKnKkXv2fmfOtGOFD2gLMuVkeX347FYuxv/9Ma5R+FGCHLflKlcB12nN7kYJ1uiICeK\n",
       "x24+pkk4by4Yrbm4XgIYClcvEKZK4fuufG8x1Gt/UOYjcEMhGb5nfhq5dwiumf/383FaXo36lePv\n",
       "vyhmFaTepedDMcpAJIrOffD2FKvikZD4rDwHG7R79y1Gb3cNAeKVb+/yj0QpO/gwjnslC91n/Yy9\n",
       "2amOpdABDgfTQep6AhfLUI97JZsSt4Hoj6oVODlTaJzGWjpaZrvbR/XyfNY7PKe4ha7xbXJQ7y/k\n",
       "/vT33h4bdoZNyF1r0fjIOqKM9mlfnlh+VxivnQl7BMeTDdB7MalcfsG3JzQDUWTalR/p+Wek2EY7\n",
       "XfIGDYqob/zJXRwDEtfTmpNxeAigvYJjki+fswrjWvH7WlPOISZupKh4ZUt5qOqq2bDf+cP9NC9T\n",
       "tSB8NWQ+xX5oZRrnC0i9k3TNl1rsvUFWgqZxbZ4YAOkEmMuPZw5ejiZDkRf6AfaIlBj1fJ3X3gzH\n",
       "cgClADEgYAEbxbevE/etYjOc0lnKTfL7Z9yweA6u7XZsDujR7l0bpkdAU5k7EHk1qvU1wOG62kC8\n",
       "j0z/cuUtFAvAunu1AeLaK3E5rpP4/cqfyl/LmEj4jSxOWQ2krVsBYVA085R6ZKTOBuRv0vfr6ADa\n",
       "b1FF0xyNTtrimaoijnwsdC4fkrKINMrW+t/vBKiR7oGB8QmjV+2NdUrTsjw8KTgr46YJpbgIIg4T\n",
       "zXDJOIk1IVlPjY7p+0d5/Mc3XWAWaIqS4LghMltiU6NhkcSt2n7J0yE/3QqzK1S+apNaqIQQ2/s6\n",
       "aGCR0EsNJUxQuXhXzmMcDJEAxiP3yvhVGBcu7+uXFXANmp78gxtKH/yjfXb2xNPnJxe1V8BXfFN6\n",
       "QRZX/QrDeonLByQbJ5KHnHiMTEtU+YYs36DgEZ8pF+wyBPVg8J16PlniSjxLag8n3l/0HQT79KrR\n",
       "hgWELfaGFTdHL0uyUXkySekzAoLFLYy3bLbSGptarR5sLNNFOgaYyZ5AiW+Ks6BI/J4AqD7h+or3\n",
       "dRGEQv4bfKg6FZcfD+7leiynTIqOILusT+OwT2PgOSPKPUkf0e2prmgvODDpPdRQnqbVMIgK/b5U\n",
       "DE/OGlY5Ae8SBqSwzpOlN8qs2NjCHusz+EtjAxQIe3uaFOISr4CMNEaifx5NQckL0tdS2nYcqCBZ\n",
       "vnKSBjQszeXR16JA7nIfEHap9+uUncB0a6offfFZEkdGQIcYUmcxqxqo+/Q1G13ctjsGLQHwSEtq\n",
       "r9vJ2UsZ2Wd6nL+UKQ2exI7Oj2b0AAAB+UGf2kUVLDv/AHIHSbtgA/pzsqP+AS9CnaVMCEcq+XfX\n",
       "I23InGm7fict5VSsKMV3hZ3Y8OYFaD2S3yfgp0gIAWJ9aSvFhLDYMKeVYPwXCKNBZv862lZLK2ex\n",
       "4Dn6t6p5I3RNrwLTrnDufaxBY4sNTH+0MBpbbO+Bo6Uq3fX8K9plAdh1MDZqvRXfAjWeecFy6PZ1\n",
       "tlVpTQE753EFQIZsYhLsQtk49pYiYWq8z9xCfNCN+1bS2NsXhQPxpRf9utL8iV3bE9MwvFHDfGFC\n",
       "RGal1bYEuMeFV4fX7awRA2b7COXLjKOi6z7a8LIWC4oXUnPI1nob6Z+OBvFJBdZpXlZhXeAnNeAP\n",
       "0mqxZPw7SfLxvw7vB6c3oXJQgVEpzGpHk4XQUNTQoSE9ZpnjWJuzpqg6YMMwJbCui0tUpUpOs+V7\n",
       "jONNN/EmKnclt1gZm+dcHMWPfm9Wg/Li+vlGRSSEj9yMgdPCAMYTMJL8Teab+M/nq9ioyD5u0LFF\n",
       "fjqUl7pHIp3TJx6itAiWX6fuNIBNHF97gJy9kqtY5ygUCnhcNXxHB21GYd0PP03qtb+yIMtDBdCK\n",
       "zVSbz2ANYAq47aXEn6rS5GebrW+dipIk4/+NgAvvzKe5NJW86EYpWQM/gTOpIQDH1cINjEgtyJny\n",
       "soUbPxrYDatFpIGkGyaH100AAAFTAZ/5dEN/AKHyznjVwAlyfoJrttW76I2YVkVpgq4eQfU1Oraa\n",
       "XYV2SZb7tVlaNUA3FYOTe8G8EMnOd44v5Qd14sZGZI+utp+sgA+jxJdi7b/ZxZEdxv/+b7FJ3MmZ\n",
       "8n5JvIRcgbbV5DpeC6WeTZqIjw6L2mrzcaaGHlgIfF3eGxJGy9P+Jh8QHne394Dh+xOjGMRtme04\n",
       "sAMhiLiaMf+W6GA2mWSIgV2i+RWLMkVOXNAdu/vatcbJa5GiNQC0HPZwfPip+6YiLqtST1SBb8MU\n",
       "zzL8PAZTVQUVcpsj3e1RX9pwEdHyXlGRmttK4WwNd5/LNA1KDTWPRX21AaZUikHtFwIgK7hP5nhn\n",
       "h0kX/2ik9MD1EHD6INAj/s0PjS9gh0q3WgwMaIG4LUCL4JNEZJlSCEDwweUSljt5d1OmQ8+bRBLU\n",
       "NQ9cf6aYf41e3Kn92/nYPWSAAAABVQGf+2pDfwCjirsaGuAEnseBTgomtouk1TOvgxP3J9ZUqKIq\n",
       "3U0E82l3bvWzknbSLLn7KwrwpCxJ1uUD7nMtNZBjvbVFR91t2gBF0NF9X8iV6Fy7a6x3qIPuYX1w\n",
       "PAltMzQ3n0XquI9WrcWs+Ef4i8j/JwgJA0l70v26bRLOL8iiUybQrDLpsE/MjJj5XSEoVv4qyYX8\n",
       "KumQeXTfI1MQTVt9drZ2v/Ki4uC9QyFy68JcuiTMkX/kJ/knY2BjED4hlDg5Kcvss05Lbey27uUW\n",
       "7EDitY7dPIoBu3507WiPj6R/ydqqh80UwVdn9/F3TFChIif7q5fF2kg7Im2b3jncy72F+w/X8+Hi\n",
       "RtZ7Re4PK7NexnutVFoFOAB1TjHKJsOVMd5Be4mB5qMBCaiXnEhfGZga+80cbShT4NU4pflC2826\n",
       "/O2ULrJ1nSNCI0ROvBrcL7ctOcHZAAAGqkGb4EmoQWyZTAgj//61KoAmt/nrAEZXpkzzdPPjsIGR\n",
       "Yqo220kcKuxeOzgFVrUbDfD/vMlw6naMw2muu+eHy1AMfeiRbnRNz+HcWduJ9AM6BkEUKaYRm3S2\n",
       "paIoTq5suPnDUNy1Y0Vp+VjDto0xiFYd1Uk5BtJzAuwj7xmB/Mfo5XXPi85cfqsjRpbZnr1/IC+8\n",
       "ODhkQtH//kZfXQxyyqKyMzru7QlTfF+/7WRs8RYt3328nO8K08hoyPC+daHaE3dPSPDbnUkrsWtC\n",
       "LPDESWdoZ8vzWvV7Ehdi/rUryroW9m2dLERlBouJlQimlOwMKlJVJndau6MTXEspdW3PdtlHI7ax\n",
       "/5AlBfRZfRQlIaU/4WXR04tL2mT87sj95uNW1xPdJ7GbK2l9b5YY67MdJkoRh9/RFduRTV6DoFT1\n",
       "v5ERzK+INZXYqhkEhQcaw/uCowO2FqndQxc5HBBMNULPkfgQqi3xc6oGvjC5GmJ3TB/N5USaftmY\n",
       "7OpJdBGcgiumHLPzhlfAhRCJBBo2t2VqNVFjmqjkw6WDZ/opq6YPCjT28nlxXzESIgjEYCdwFzgr\n",
       "ZPCSaFsPRVQlpt/ZEotjKJcgjSWMllUs73KvawdGfNZJEN3Gl6sidm19kdksIEvI5z6lYXrHQpBn\n",
       "3E8l/IMI/mVmaqOds3GPwg5pE3oYR3kCoMSDzSpY4pmrgQp45LnafunbxDVDULrHXFCA9SqnHy5V\n",
       "8lZy8jAKn5RrEIguNPsLehNQO8dafPmV/T1IZBRCM1qsx42NeC5q9j2PrX5d40Bm+CUt40wdstaM\n",
       "KjgI42HoOuf9I6Re0zzLlTcGSL6EfgVUsRRXg1qsaMdYdH0YXZQL9hT0yT8rkqbQvve618lG34NX\n",
       "8FQNoOMO+kO9So1fxVeYKHrZa1DVtGU0BO+nLzeDBVzJp9BRziT2z4pRAshc94NIfw2lBb7WljpV\n",
       "MAPFvIyBWtora4dyU0PAumqoC9MtNKjid8/1yZtXpSaCbpEj8K9oZWZeDsp9BYzlOq7fwSE4VHkY\n",
       "k9vtXr6dmSNNDFWGsOv+XQeL9jiTpUDa4v+rh6OiH9LWvcoeXBsmRgJP6ydOwhYVr5omEYJujUlf\n",
       "YoI+DZgI1w/+C2zcS2/1XFEWKruMZRk3ZzdVxXGo9a4oN1I2ZkFpKSnMBXAbvyWjimYxlmQ+HARs\n",
       "iEaf62EvX8sjSurJC+y7iEEdCokMJs4MMRtzQnv+VQ3rQaIDdqyuD+LUvORWK1bKSE0gAfhynsCv\n",
       "uFtNx8rkvx0LLh7LNBMsR30DBnYMiyZBYcE/brTRGyoqN6+oPWlMPohcbgB2L+RneVHQDxon/dek\n",
       "wUVcMMXeiJZpkaAjgsjo5ESudZ9bVVKeeGAM78x5cJzyqmNGJPEL4sGT7AvCjwmFlqBBTUeIZItN\n",
       "GB/j626eNvbKXXs7h1QEoUXYBy0UuhE0DBRrP8Vzbf04mFB3TKirwc1lF12goZnXKtqz5CQFtUrm\n",
       "0KQ7Wvrz9LFQqRaARs/PqWQNM5QHasdHZ4R7u4OOEbZydUQpdW/fQH1oWe/+onzqn+Oj5lzFzuN+\n",
       "z55p+q/0u7USXKfQto/6uv2zz9eXGMgU8rdgyVk4YhZoX2TxxlCIr7FVEj7V+ZmjfDzDS7J3Lv2o\n",
       "8sOx1URrjQANgqooVqdmg0mb6yBP36zbd7KYp0Q+e/P0yQlMYzjVLmGRN+e01xJEI0Ry71u6utP8\n",
       "6mPH25ar+FWPpjkKYQqr6hL2qqtvJGqx81BymGytAKTQ54g6jN19tt+zn5mxl4le52zIJCQHMq7l\n",
       "nWxZrbKk93m08GYK4thCWKO3vc4B1s1wA51nEI0kFnD8tqekYJzSPLbcZfvM04TfQuIHC13Kn1+x\n",
       "Q1mZwBqRr7Q0Uc+kNhEEWQb+QneniDHYr2U++nmBSrisObgDCNmtsNGiTdpkp+oQceJD44I/QXM5\n",
       "a1IJRmtsP341Ukv21WNzArPw7EDYLLqZLkErLtYqe799X/ppd79IWgm1CXYGdZX3zpu5n5QVZLCQ\n",
       "HdW6qRsmAkmmLCw4qHWgiUbbKHcAT/NaVUDmSVKSvONiTN8anrYzUpKBZF48jGpALf0alig0/NLJ\n",
       "BCCrex+9zEGus5Wq/yBF1po0KMbzjjG0SlXJu/ol8l5Y8qM6kSAF5RWcprr/QgSr3ESY7lLF6lgf\n",
       "TdXyLszWPHdbsM2W2fXM3WEl/nQ0Jzz+Fy/zGomxYl01F76gXDom0M+AeZ1OLlybm4kVfg8dhA7E\n",
       "s/BDd2v5bQ2ebmiow+EwSI57QK8RAAACdkGeHkUVLDv/AHS0FeDgAtkBJNfB/G/F8zxJRgyZfoJY\n",
       "IISDnx9eTenA/Ou6FkHQMRJrEzdat7k7u7vDd6JVJet50NSmtX5Nx7ITWJG+ZCtscP78ZRDqAxr6\n",
       "M8oTYbfPmJuj3AS3BDlttEqQ626aY+gjPwAVeSoPlLhHgqHlGFavTV4q8Nzmx1EHxMHJX2HKELC0\n",
       "d434bTqRbSNWkX/XOVx38fd45wazqQyfKUDjKfQeLhepKLY62kATF6CR4VNtBXwKtVMmwhu2/0SJ\n",
       "LWJJhRQ3lbUWESbzWK7lGrMJQC+V8lu+Cvm1CcRV2aBK5qFRQczT3kqn7sWhOXXUTM4NbQEMbURU\n",
       "xoNd5934RqgcDgBOhUtBfLELK4aoHspCkav81rP8nrdNBzvQAKBgwQ0AB3qbMqxXQIG7GQXQ/luQ\n",
       "uhqLYOMrU1Vi+exqJsBOjbRgup9bYOy5wdbcTnq4y0b/r2407zz0u/zw1LwaAXlNfbxNKDULhFe3\n",
       "/57jctuz6dz7RXkWbyL+eGo5taPumzlB1EPB7OPeFHFDVtI9pa4h+uQBE3Is4UEfXIGfeR553LAa\n",
       "CbZaL74n/74R03+J6vNnW09MBMHPNeaExaAsPKQNrEvFxHfdctfwqIX8yd66UXSph1rnk5ymZTsp\n",
       "a+42UMa1atFXZXrwBoHs2aBnjxN4Qfzlni85cRFeA39V66XBUiSdV2UQI0ALA0TZrfp8T4tMNzmO\n",
       "8e/L9YxyFiyg/4Li+EY1aY2rGJkXnm2q9LPBK8PBuDpy++L0R0ghWLoTM5HmzruYhFfTyocJe0SO\n",
       "eVKIrmffXFXnAuf4WT5ktl+ydac/PxASBW1vrgAAAUMBnj10Q38AqLGtGgkAH8HvdCxWvEFVQch6\n",
       "LF3zs3fNQxVY7iZjcWpIyP5ydV88My1Mq3S0DlkJbCaL1N6+SEn1q1iSzg71D6Gj4YQDItF4plom\n",
       "j5OzTZ5rNQkW5KfUuZriEjseGrC4UZF2rfG6Z56VP3ONbtiBziR0wgGFGEUBQqXZwA82AWPXeE/N\n",
       "IHbn826e3O/8VKRHbNKUjrJYjFUzn0Ce6HQ8uGtGAyetJbPLalxTluI2hOIqxoM+I9konJiwomwF\n",
       "uBNNez62PudYHnVzLbLg9mvomRfglz8ebVE/xImMH+V6wcQSateLa7AQ0E9pjVncnNvsg7Tq/LFb\n",
       "FQTew/x15GgFFPcIZXBkJeLHMZj2YYCtwaLk3jqPtBVzyGkyM5sEe54zd30C6omFdB8C+ptu/DCn\n",
       "L3oHZ6ZA0OEXkbWNngAAAVsBnj9qQ38ApBBF5SQAsZMDhii+8vpaGNlOime/XtYewQvPSHcUEJxL\n",
       "O1+h1qNl6QZUQmw1ao/gqiLCP/4B9p4Mz8X2Mo+LACiLse2y/97QLjRc7OBuWGD6o+zTyIPGow6Z\n",
       "HuWxqD8I7D+Nu2AvOko6SNX5u60pfO6T1ZArSiGaIUGPX04j10hyTNjsUfjDjqbZMwlDRvbbcTlT\n",
       "YUh56NyTnZDN6OGWzfodyiIXVffI41mHYZniNyid+pYEAJw7cbdWhnoH2Crlj5LrHKekKQJysrs1\n",
       "IXfWYLeyTa8BSVW0Nu7oCG889jE9SJx6z4YATvgUoe/3H5Ub+Q0mSzi/E/oLuo/sir/bUU3ITO50\n",
       "/qF+fdI0Wpc1Uw2DkceeDu60mjVtJBSxH2hijP1xuMK6svryyOE6LW17Q37tzYoskFaLOq3+WbH6\n",
       "sbYghjKbeQyJXcMiukswm+p5CE4ibwAABZZBmiRJqEFsmUwII//+tSqAJIRXSQAHErrV/dzGv04w\n",
       "VA2N9yU+KhoJyI7QkUBiYKdawEbdDk7lyaMY0dX2BAeG9VZ9TaTEtsHJOy7IFGkhm0YUjWlSNOB7\n",
       "q72v2GvcBfHh3FOCmGxIJ6Z0spF7/eznkZfyMLhxoIuNEStn74tfgU+TwCA//a5tnz0AE1uDPr2p\n",
       "DOyt5e7XrJgDmE9Tnpv5htLl+sk4dLSsvWcNEoV+DHjqOcSMJMXeoEY6DHE/MUq4eGVSatqhudn1\n",
       "3QFNIW1nT2Ihv3RDYK9wz72vRmrG9+DkvO7P0mDwAYYsvbekyEqT3APi8k3yDR53ug7GRxTHugDz\n",
       "xKKkzFUenwnDd5nuvruMZe5KiJld260BqNnRoVPd6lCmIfLNKY9C1j9AKcbaf5yVD58mlWD8kPOr\n",
       "RExjTdYG6ag8WUusmVF+pQ2TOt366LG6harHZCBAQDw6AWL9WO+oZZmr1S26IGIn/FtUu3haFEi1\n",
       "eFuvf2AUU3elgSmuo6Qxqb8eihJfNqa+/V+k3x1Zc6unLMHUhA5aBh7px+L3UuzqjCiw7CFqAkcb\n",
       "x3aRKpsEDBVrEJhjE5DV2lHHJz2cGIF/6DHt5OqmoQMZweqMK4qS94IMallE1Ve5G9txWrToqcWk\n",
       "kcNodONiAHaccwdyTYC7jjA23LwLu2UD+A/dZFD0zRpf/Z4thuRk/b1L2ZYCTFV9eljkiB6NbfbL\n",
       "1w3oiNV1ShWHQ1IKafCsgAsJm3EC9FDVgMuTJcAN+KVOibBnz+MjbETyenBxvHv3xes1bYsnAzC6\n",
       "4c4awXHGS10PBf0i8eiu7TD/JgMBywiDD03Xo9p3HLgGAT93CkgceL39F6f+bGFJPJA+VTPIGPAW\n",
       "vd6XY1k7jw2PBTQWmc1URwdu4R8LoYF8RW+bslL5qQ80wfm1LdNuxh69mvkzFW+92C6sPaKzOAOC\n",
       "gs1dufP7JYe1b8mYQQ+grQIYNOCRn2DTwbT3KcQBYNcd+AAJneULaBg9qvuAcpTVEFrz9NKYFY31\n",
       "/TYFYH3EDK9VC69o1qkJT+OEpCfKEoTOHhB6qLt/aBxS7AD12qJ3UJZwLd2zrfc6NsWJGM+c/jWj\n",
       "7FkzjK/WaaRH084E0uVhKqXbTRiH31Zmh0ExkMBUkbU760bSqNP0oMALnF1iXncXcU2aUt4Q/jcA\n",
       "PKT71SxVjQSRne5NabZblJGhW/fp9ALtFf60ghqtfdg0iVD1FedW+l2uS7kYnWJ3Wl4RdI1v7BSX\n",
       "60WmmjO8o37sL4kDBWyCcLQ018q0qqnv/mxs829zmHlLJ/fs17Ub6jepJHftek8CPCT/tvN3EOsk\n",
       "In/6h9Ku+bSFaTcnE1/mPtScVyUB7bA8fxfItxIuvAGpaNBmaymodaVCGiIgvfWJdIu8eVyfp+WJ\n",
       "pfLlsAndVllbTaeA1pSXryjPWapAPFjyI8TRfEVEivPykI4v7EwIJobO5ug2ziEKjYYbWDEyqmVw\n",
       "sq5NSDM9uFFO17VdjYxkmvWPSJJqeaghhz5Dcnmb8DCf4+KBG6RPQOK5CZQ29Kt52WRTkpEqFg1k\n",
       "Bbw2DH3kmfcoTIVVBi8kvQAxiDSovIefmqenIXS921sFzgutCxYbwbo8GWDRj2hNBQfmq1zpzrIl\n",
       "UYcAlZK2N0brwjoV+5TN/UjxIOSHbkwKqGz2lf21rwkGo4YHfIIJD6xsXmhxs49R8wFVWjfXAdgV\n",
       "py2kmkZkAoW85ubMKiYYgXOMNNgSfFNP7zfXi3+PNeXfuOfb3ELb+Bvaf8dUX4oi/YS27x6kTMTb\n",
       "Fd1jA0UVynquGGXwETVmynDvC9ixjd5aJLAFvQyoCQYfSME16sxXDlOF6z//WwOgAC8fCgLzoE7/\n",
       "U70L0o+fWOg6A65wy/IpW8YlTdw1G6uF/dYWbBx+YAAAAmFBnkJFFSw7/wBx5AQtX+gAriy+Te70\n",
       "+6nMs1DDzqiS+7Ji3I5phnnd7GVO5FhL5Kf7vrYi2YgHpFh28/J6yPW/f48jii+cKEK1t21ay3Tk\n",
       "cBg/zKa7CYZOV+7fvskHxsdLincH6TV/GfM5riSYyLjy5n/meBUiOtGo0wcP5/8a49JVuw3sAO/4\n",
       "DzOxjwWcXbtR52oM5QVJWajLZDNAmAtRE0d2aj23iVqY58PySkq10Z/uSJ9pkOBKZfEE6XH3SN0P\n",
       "n61arQgOwmQUrbHWkTUVL58AzDJhHEKvgOMRltBrjvpSAq9AsInazbCnFU12vtGNs/QrLnjqkqNl\n",
       "3L5g55VxD/osEK/0AgUMyrnfVlgHQIo/YzAqvk7gKYm1XDPek425yE7dJwpyLV+Ejs7nSPagmpPz\n",
       "QOqFbrLxkmzb5S9NMg4Jb9q0qhQ6J/AaTQYYRYVCtPGHakRdoX9abf9gn9eGIjsgRyPDnCAgcJRH\n",
       "jfBfkXhF8r5k2Qmelb6hrfu3JCrMXQ17y41C4XTmlabm5gBV+ZUPnXVKdDTO3J0SrIr/X5h3RFbv\n",
       "TgpNkmEWGLV3jP+WRex5GAuNxQz+bO82RtMDCyRkoov19SW2wHr+BPB6WyLvgVnVqbK1RWFNNGoi\n",
       "GDjU6buaaXWF77mvb7yvNUMjY7vcibZMqBEp20VhOpVZZ0wA2XTxGjjZ4qcpEWX9vj1RoTLIY7cq\n",
       "DwNV+sJ1MIbortfWAXrANsbJ2p82PhJ49VPEB/N/sO2GVUGeZ6BuHzygBkH9mcFXZBZurbQPTcOH\n",
       "6VSvKCHSrzgad6A0znMTH+EAAAGFAZ5hdEN/AKJ/f+ICj3YABa3LulqGyU7hoCUUX3KAy6/JFFem\n",
       "ldlENGtnX2BzNjeDZ4LzztobOje1cxPhTtRYVISOleX5SGqKLR8yeSgFOD9bq2umM0VZ1Oi/LC6O\n",
       "YKy0F6KREiD1x1VJ45XSqdQ7gFSeP54cYBkOdL5iHsBjWwLbioV6YfGB2gCUy10tMJ+oYAbmjcU2\n",
       "GtzJMm5No2fzHYhpbqAZG49aOZgCQO1YuTuzFUq1cxbPd81Z4GzDLvV+BPhprP0o4OrHwM4/jBc9\n",
       "hYX3RkajTJ+cOOq56mIWzPtLib7ids+XCXu0KzCenZAB8q44BKpIL7KwlXIPUQw2Xm5dzOpdZuAL\n",
       "xaJpXQSUb3jXJ2GSp+Z0S1jSMHDXy/LtpA0EPpJ6Lx0j9s8vChkqjl0bfTm1EqIXq1pnEsimUBhR\n",
       "vt/np+HzeBakCmFkp5enxPFT2QYe7D1WyRrn5maf16At0J2NFjuYYk4CyqonP5oDfkcd3PQ7xP89\n",
       "si11wnjYLvRzyYcAAAFgAZ5jakN/AKQ8CM0gA+KQjQqRVBsiNGRZxQ1Z3eIRHXyxmA+NbMFNmTHv\n",
       "2hFJe0j8yalFvPM6oVXU+Z+LowLcHZTjGALLHGWqf9X8Ldh2PAS5nJjiNjt5Udil/w/evpznKgOa\n",
       "4aO+1RaIx0DVvwiLdVF1EhYPar2rrMQam7aX7Y73/uk5x69lYhYIB7tapA0r8TxdjRsZBGIz0517\n",
       "VIvZWrhUxZGnt5JSO1WIe3nZdn/Jxes6KcvJ2yIxXoRibuK0E51DBT1PNmQsT7a0/qFtUdM9IExf\n",
       "vo8S37Dbb+/gZwyNN7+xqX9n1X7m/Syz1Pw/bUwsyuQcrfUfrieNrdQWeeXL5JNlYYza7Yk5uSVN\n",
       "YzUu579moaN+0bMb/c52KellzYWKHG/CetnGnWV0gTCQWN0rvBk5w3FEmDYjHMoEZIUf34TvKZeQ\n",
       "dBNh/Hsn2KeIyhbfOQg04v53WOYoEPJ5mwAABXpBmmhJqEFsmUwII//+tSqAJviP/KVIQHqAImvT\n",
       "JnhpsH19pgIT2FAYyxAlnIYcoKaQDciTW3f7fRw9IMlMzwt7ltEFd6dyFQFmcpcT6CmmmHhx5ijI\n",
       "z7j2NlFNsvAKq79n5iE1tFxVPBtcnqKFGA/y0JS16Aqndi7LL7Btk8YiYuhsbBeYsDiqKtq3nDyl\n",
       "n0wiFfrxUiU9wOT2AwGsKIbroG5n+zFNfDAhu6IyWjMqsHRJiQka4eZJ2yzHVoXnmHaoO1LaXRQg\n",
       "QIzBZzaqNkKRqx/aJtsnbakNpQu6FfBaynlyZQ3Xm8LqqRwsoj9qKGh8cW5eFwycAXGLCuDTRo/V\n",
       "5yBpijO4NSwk20Tu4wgq7K7B8yu4UNQ1O3FT76Z4A0NKiR4euVWe+pEgKkCMV9uHUsqlPORBcgJg\n",
       "d9Iejg/sgSS+qyN87TSn/lz3zv00bbpSriJmcsyQvuyHSujqk3UvqOhWZNOmUh98OkQ3CI7KMIG8\n",
       "aELEp5+q60DuHwJRJmMDUDVbVxfb9DxKTul88Fiy+z5Kyww6tcAB0tCCJVdu5faAX2uhyLJi9lUL\n",
       "JtUGPcnLS3pIu5qMpySpcB8gHB3kFQLjTabc4BbY1P03Ycqt80i5UQj9Tb3FM5wBNvnIOnSpONC7\n",
       "i3NNFWFrPBLt+b+kH7nudsd3BnNJKT1ch4ixueqouM/LhFx5aaPlsdaKHlBFNDZoJOcxQkDSfYBA\n",
       "T5QTWakbm1kXoDjOJs4Ai0uelHD68nhr+jU8MobK26m7NsKsoYoP+8Bq9hy6LP62nWd8hZd9bTz7\n",
       "0X/uZkLtOVtZ6r+4ny4lqppyas9taS9J7iNH7cEmLIubD98SxQ+OcN/VoE58iigTTDsSOe0OlgDK\n",
       "ArAUi8rb5XnmlgE18XPq3JV0Ti41Yz+JspIBMbtMK1cjgIu4N+DO0cizoHPweaRLsMHF/xLenxUO\n",
       "1Dk36E9JULxt+91/0jr0bcfcEPF2pc0N8uc7Zbvqa98S03dMu5Bniwadr7PkoPqolQah9RDJPSik\n",
       "afMZVG9Bx6o4XOAkpAH+JavaL+6tbrLSdqyX9Yt8MSwliQNrdPI+pjUsSw17cctTcWhGT1N8nwWu\n",
       "cRDCsFKljHNoSYTKmzZ8lYoJGmtJ/lqL0wwxRiL+ju9MZGFzF04A7IZMliXwcJpoKJNexzPg003b\n",
       "+nOKwS3+r1hGs7HNc5VlVi+Pe/I4HN3XDW4fZ6AyZNihy82NbZziXqxtOOcn+QT0Yk0qUN9GkP8n\n",
       "GfOxDw2JFYyxxN03x1xntVcO+Pw/yHkeqABlbkDc/o5Bh95rkwZRELJOpCGqsoV7NZc7R4NuESiP\n",
       "l5getbODeq7rn7PRFfLrt+Ps2REw7uMS9VubQGwQ0TTri5JgiHzFRujxy+BAZGOC0K5ztXvAN9+R\n",
       "HnQTndbY0JMBYHf3GFRcYc/3QWeSCVmhrAagZkZxa2cZ/H7TRXCCIlbcWVp9icnY9bxYZgA984sL\n",
       "N5Mu2CRtnRrzb4okCMsFd2ccH0+xb2UaDjlbRciLzlrKQ8gRTFBhXOLIYhLGxOsdCgdF2trkmqzd\n",
       "unwKs6mINCr5MKvU0Nwn5LyDVOEprO+C9wxHz17jo2BZizSfX7e21iASHu2PeUJAiRCk80TUHvld\n",
       "IJP9twBenrJvAp711GjQaPPLNi2WivMqI0uE1PEbvhnBcuh1+6LgW5UVh+9CQ23CHPtldSiBIThe\n",
       "cYb+/PX6LJZLmHzWR8MiaxlltUUsO2HZ/4xy/G4/giXs07oytLYXT3c9lZBxnicVcpjZACx1bk8k\n",
       "ypsh+l5gmITg0SjribYhDAQpO7N4LUEcVoEeV9h2hvhVbXrMbeHfT7tRlIXxWmFWblUxPrcBnrOj\n",
       "Ao0eVQllAAACIUGehkUVLDv/AHS/vExwPQAWt9SckV7qq7cwOS5lp5mwYrG8I04Foo2440yGyoLE\n",
       "Ah6yZoNUmgqg5LeEKMG/Y+ykKEM8TmeIYHjwpH/5hIFjv3MLo0K/emTfFiSCavfyZHuyfyFukbqA\n",
       "dxGWoZ3Aicu767jbFENJD2Fs5uBtrmezOcIzl6dY1YNPhD7S3Pzb4fwGUVpU4oMn4XFNgG/rxu8U\n",
       "6nZEuJiMxFmRPaIp+hfeU9f8RO+PAINDWogQe74NOu7egG419xAmsQqhXf9GmdoczVYd9qIIV7V3\n",
       "RBXlIOvsC7ZtSzX+x8K/ncw+S7T1dUk7Jox4FSQr8XMtqNcns4SM16hJhbQWBXmYAWVXcgnfN+es\n",
       "aOQMx1ZYHmZthCTVmppOXIhpcWlH6gfzDqa2tBGgRpP91wC6zyC87e0tbi7OxDtv9I3Iduztyp5e\n",
       "euCSqmPJbf+hro/yv8xQMudhafhqGLbznelvW5T94A1SCfH5NEkArSz3f1dV6y3kZOysGdp+Q/SC\n",
       "lTxzOM/ejnL2S49NoUJoFaEJCRAyNg3Kb64r0qFESd0qdyWyWoOcpvF8cizb//1GNqnu8NI0E9WS\n",
       "tQIucx37rmO1UhCw2+WEVl0tBUGnJzxA1VFI2Ja1KozFQK3mFOvOxDbrX1zDoC6rwFFyFqSJD1ST\n",
       "e4zFAd6wdOHe7mTrTvbFmxr+Zp0+EZyELRYx1KlBJktmO45JN2WhlVKJAAABSAGepXRDfwCh8Gr2\n",
       "JSAD4ZBLomMc44/+7MzPfAGo4KHBIpLfGwjsGVR17dos4bhDOZOjpH4rxjCgLZmJIdeh32jZFaIJ\n",
       "j4GXFzT+jXRbSadb5fvsCGh435sJHYmTykFgD1zFwiMKRyOU4GDQKK+8OvZsLYL7w7zO9X5UmzTp\n",
       "10vWAaJeZHOEtLKbdpGxJud/+Ej9v/nfHqo1ObYHevPBfehjOlVUwcFHVMteI1eut7KXpW5I/vfm\n",
       "QPBXvM8Mi+h0Y/GhBmtzuXPCLF3/B5Eo/Ax2mEx6eD7Kj+xC8C5aJfKvyGftuDLbuOTk+exdj9IW\n",
       "IEOAMY09Sn5SFIyG3ZHHLQVmyhFx6t3KDWOQI3nvygxGUlLnMGHqj0CpHDoBHqpKw3BMVHg2efVZ\n",
       "ET65eKQeoqnkp1QzIXaO3xxVzM6QvahVGp435+P8DSMAAAGrAZ6nakN/AKiojkAJq6exOD0s1RnU\n",
       "/zGl1g6yxf4NZIXFdgbkNLiKO0XF9bU2+Qbq1JwUWhPDKCob1puPlejPrE0KkEVtGixqqcET+sGV\n",
       "bq4b5rYpfDalIMr3HudqtjJGgjhf4LpP8nFVEM/tT3sm4ppoIXYuvH2ZtFu1xdKG0+eTSQPkxQo0\n",
       "h9ldx/RlT5XrwaZ7Q3CYaSeiNdz84juVW1XfEU0ctGREVZv+ZSU+dSrS2hLgDp8Icz836SR0hz8q\n",
       "Y0wfxKrUMrjT4cpmA0hpVKstsM4LQHDHdTBGHLZuDQcfp8MaBZSv5G8nDxrwryp1+NStCm3ddb6A\n",
       "kYvf50yj4RMYbXuoVNx7+Wpm90RpD4LNErZgh9FH13y/nXUJMzSW4JBjTflxBZoknzyrKoHT0bTv\n",
       "BG/Wfe6EdOB3DJnZstPV3rf38fC+O6i3/mbLQJVHVo+eg+oS4Wv7TQOnZ4AFYdhnQ0Odx2vYAIFE\n",
       "As/OHV1WQZXAlE9IZF7Z3ZATl5yP0eZWYFGLbz8LrdCUcBONy7w8l9jegxATXvF3QZua0SAbJbkr\n",
       "OMdz67bzywAABEpBmqxJqEFsmUwIIf/+qlUATPj4AAcbuuE/xr5h0ZqXogEm0TE86DQApODJlsHx\n",
       "MnC2OTzZs1xfCd8luQjFVSI/fD9vYV3Qkljs/T8GQ7tNvTp4MwPMPXKSJcRtJERZ14Xo3hNr61Vb\n",
       "3iOtdQim/9hEj3mrMTuBcMkN64G+dL2jXYPFbuclM2G/JbMWgH77ZNzEuUYA3ccPCK9c8o512cA7\n",
       "FJfoCrVHkxpQt1XyGJvErCzJSniTEcmshnQfF9KXuprJjK8sfU7j6Lr+5gVLRQJud5jbBAAtTfmn\n",
       "mdiqyoDHzk/8KKVzZUWgdr+K9KYws00lHqJek198eUQiRZytuKGELk4Gc5ipnDi2W3pFli2PURKt\n",
       "XF7Js23Njm7ipJO5hhF3OWMq8n/naJXDAhoKq8unnobCTYO5WrTwDRcvdqBrke3C8eDqX6nRRTHT\n",
       "G8xw96YX6/79GaVWt6gKtZNpQOtGwfy4UU6O1Z+CZS2qyFilHvdgXDaTacYeUNsekaVgxzxKl55Y\n",
       "SQ3a5ghCrVQaWfrSmMkwbcvkPW29UEUnJf8oWpszJl0odruxNmvhign6z2lk7onV+MbNKJcKJlUI\n",
       "XGwsHrZ0IRM2btnkGPfQpGBhSQ910V1XUpG0fKAMZ9eG87MOaVEpObY82GAx+7GtxEE8DXT7cE1v\n",
       "2dVwZ82xxENEpAVDEnZp0qeTOlMzZrbKKvmnID129qR2cQNyDGmRZiGViIKGGcLCg0ru4Z/16RNA\n",
       "s8Rrt7FWAw439D03VCFOw/VpPoaRiPdxfneqlVMoTXrkEheiWnh9IF6CQlaZv6sBUcsdcsxTKN1F\n",
       "5+QbhQZp3jQjrQZ/q60OQumjtaBeufQi/Ybzsx7i5g9B4ixDQLBO4mnxCZUB0jFrOJCICDhw9bib\n",
       "dNxN4NWX0zUC/V4ZNIUEhQcUNQQ8FpaB5uwrClr0CxavrVTxG3s8EnamAfxTOFuiDXv2j0vZ51jw\n",
       "aMYSdNaqHkRh6l+1KhLW6rIavYv1C4HrWtYQx6ZaCffcqc4FiPisMJiUCsLEKq6qwdUeDZWdktu2\n",
       "3iGg1Exo++IVBoAkJIbYNSCiwl9ogGrbC1LYQpd9hl7DObhMRU9BYt+PR4bFzqhKDFE7hBe8rtwO\n",
       "LNClHd9Mq8GK+ZX4B8Q2n20k/9g+GVFQ8+/8Yy3ON5ieS0+WdOSg58cocRPyh4mKlFhBd1DrMYql\n",
       "hw5OQqeF/W3xoR8VErVKPOthHYHeqjksBrIYKj0WcRgojcQL9yCPHcURcVt8NBD8wCsWH8mHltvB\n",
       "g+AoMi1fJ+6ZQxoiecNI237+DTJXN9H6L8phv0BWiCDFsZHWeHCGhjqIgMqhEzzQi1uDM3xF7ePW\n",
       "fxJBKnRDS/2MTl8h1Ikepe//6YdUcg1dZdbcxCosPl60L3gnY6HjT6OU+z5W6B027Us7mEZ+tcFg\n",
       "sbTpUM9tvoe4rTS8lQdIBejo9ZoUyYbmOHgAAAIlQZ7KRRUsO/8AdLQV4OACzXCqIYpzUcGIwj4o\n",
       "IGw+FWBXRunYgZj3Kn1lKvLUREZPQMR2eIUiZUfzn5WqpSVujAHwU7B1ZUKsJS2+cX8C+V9CthTs\n",
       "IKd5d9x5uK6t7APiTns8f1VT9FWwacrZ0/DxDWvrA0iEtB+0kwUWCVY+58asO6NGaBq9Qw77guk0\n",
       "wdtaGXxCLowcgQVaRCYpflmS5pWhwSHTQEow1z6PR/n8HWbyLLDh0Z0tE5CeXEzaZOr//BWJjDNg\n",
       "ndzk5aR51tBHleruJKULQuI7oJ05P1xkFB7SRLtKwPVQ+Ui6hdBs4rqaabOKuzoTX78aXnSg5k6L\n",
       "1uaSRtzWb0PJTNSaBgY7/EBr+py9nG15KFPfsjXqXYnaYsZR4NPwnHa1rgKIFDjXqB1FZ8jJXDWT\n",
       "DTCUO4w3n+gSWDYxPFk6rf/H4szc9LRQax+/Uw/8CQ/ZMZ/A4Lan44z6Rdy/uj2yI17pSeXNi8A3\n",
       "CSfM7rS3o5AbLlVxA4P/I6ReD7Prxx9cZ6PrxM9GF+D+cT+18BsGix6SucxlPbDGPmICDEQAGxM3\n",
       "clA6gA0jXp0M9mKE5ykBWNYKhC6jzSU+BPNFVVAvqnpoQ5JNgBalcCCSX4PGrmfJuRrebMdljqFO\n",
       "33hLAkDMXlW8cDSDeHUII2UdCd2bJqwKPow10uzl52T9XWASPGAblXyTT0PTo4uDnu/qlGyo2Ygy\n",
       "pZvMm+wWc8+/AAABZwGe6XRDfwCkIuzSAEjUGzGPmL3qLerzyPfFEJyav44CTI3/a/1QTvdzYmj6\n",
       "2WreY//1FPyUNBYSqSBZitVjc7hPMbpowZtQBaPbC5gADrnp8MQD8n71UXh73SwxOjDUbBFatQOz\n",
       "ex10xEKmilrjTJ4yxuus9OOaxdckDNIaIEk3nLYE0S0u/lHt1YhmpjP3dDGtaEnURXdfg3Vsl4WX\n",
       "w1GQ627qzL+A97tn2xwAzKKQJcU+jnN6A7v+r/BACmFCGx0cSEazqhN6UQcbkq0ZLpP+IfbfDrUn\n",
       "VA7rAZBZ9yyccI2Sykd8rorpN+KoHxCRemrg5+iamjDnIPN9+2+Lniq330SFMBzaxyhkZ2Xt9EAj\n",
       "y9o4E8Umx5YCwdIuVWLE3oJc2qjAosDYP9bkLSGdYp9OMMZOrsDNMkT1wb9WiOv72ye4hS2p2DZU\n",
       "EDaUWS9rMo6JBohIZSx6EAXl7n/QQtxedBpSvPk0AAABXAGe62pDfwCkSt9nnQAK4T7p4CrMOgCX\n",
       "/0hcYzue5V5uEJ3/oo6DoYzYLhpddsaoP0C46bjI6hgobxTj5X04fsYhi66kxvkkKFveifd1if+3\n",
       "A/jKnRuqbevcFBh0BSFOiPbQq1+zu4VLbYA8QpKUfmLQnGoah1ff7YQBszJKMXfq5dQalnfH9+u5\n",
       "bVCSxZUO2On8GMMS15dFkkaCiwKsHEiC3BsVaCpkfP+NcsVp+d/Fp0Bko6v1QNASRtzQce4Ow7Ke\n",
       "dn7zgmcsSmqmm6MHh4RcXz3zJbUAqVh0M+B7mgMwjmdf6XuRCgQ57QN0THfMBcHhtuDt2ZPa/YlK\n",
       "BdF+Oxlh+7NvK3WC6YtPCbDI5qw57yOXEQDkVHBNWNX6F7Pc/Zny6Zkh2NYajA+LCBXFD3hS0+gL\n",
       "VsWuYlQK08LV8b8XYaezi2CWNnX3P/hlOpdkRGS24gTt9IjUyDevSgAAAtBBmvBJqEFsmUwId//+\n",
       "qZYBFCVcdABJMw03qOtRQJ2QGSYsjES8uvWM39bV3N+l8Orivzjojc4+z2/5gpX4H6RVjXxLKCpi\n",
       "7VrqVJfYWZkvFqTR8lhZN3OhBI1sVi74eGLoSl6YWyWI95hSVh85M91Xr8nLpNlAe0LaQgPCKHQ/\n",
       "mrdLNF9ap6uA01XOVC/XmzSrAp1QLF1Hf+Sa4wRO01P/L9jnn8ug+NcMlS184cmUcpzD1QVna4VZ\n",
       "l9aHQg0zdgjar4XkMXKWh0udQJ0Z/rPT2hs5NgO1Vr7FZHkf1xW+0OCI5LHLuIj2hmE7NeJrM0FG\n",
       "axgYlSwgElqMl/vanXXQfV4+mHjzyay0X/ch53yMMPvDj7534n/igDMSOQPd4I+G3dGdyclw7e0h\n",
       "aJP3zuhHx+VPeOhJL8qEQuadBQKafSYhJ0Faam9dX0dvO5YpkHXf2FaEsK45Mc5XYwSPxkR+UZrz\n",
       "pekHD7USQhLXPVUziZ4Fyn5snBAGI4fXlRRzGh+8sc6bNdH9fWOOtovm2CrsBCLBuRAb/12+5aMP\n",
       "CqNN28R8Ln/6YRI0olxT7WLf/eRmt7IyYPg/4fjVlTgf77/RbZLechsFrBQ8tJYJGVGGtkjvkFJ1\n",
       "pw/Srhh1/OJrF25M4e4tABUK6rJxK2ztUHR/nfA8oUGhzl3lxyWNp6ahE0sOMT1O7brsMIQrQ8wO\n",
       "1W0afTdTBKlTxZ0PybzyyBvBfc48FQOuaoEqzzDA2q4RqcqQcbxLNeImQIoTm8PpR3BOCqLn0e+J\n",
       "pJruu8RxS2SgoQnVxmvQin6Rlpn9bL7S+eest9sGTfvQwsP82IW6HkhMhsA4Yh6C9A6BpCg8rhei\n",
       "4XOdT/aaon0IkBR2s6D26PufDVBMqIzlLOWNxgRQwoP9WAJHTaXeTj2yghu5vsBUqLN5LlEUPK2N\n",
       "dgmepbL8iPIHhu1pTgTXlPqsUpprh8EAAAHeQZ8ORRUsO/8AcgdJu2AD+i5akmuW8GbaSxJuD//v\n",
       "tcy+90iZaVBEJzw2fK+Sju3qend/AFdq+Drc9f/Vc/DP8yLqsuVTQ/+XoRFpQK1NTsva8x2T92Oo\n",
       "7yREtr8jBIzVDX2MX2qwJh7JkBS8limeg52/DUYPo5BsvcTFBeX+cykTGBVbAMpGHX/UiSUMtgsw\n",
       "+v6CCO6DUeSjvYgjITMn6ai+KUAf2LYn8mvzC2V0EVcw364VSlRUP3d4DgYoXAXvO4SFUkwqfu+w\n",
       "zLZpU20VrffF9si8fWpDkitlpgeUdVyYyPk0cEEfNzyA32SFscjbNzEta/1d/7BqjnrzBbBfAoQ6\n",
       "Twk56Mr/TQD5+Txf4LHrMVgeCYnqx5G8Sx8tdp+iF295UN/TiWwjo5zfzRid8IY/w83N2DZvV6i6\n",
       "QTbbzaHA7j9s6+VkG6JV22zscdj0JtbAo5bAjyri4P+CDrbVKsJC9Gbpuo8bO1CwfovVoObvHVRg\n",
       "8UswhLiuMXhrt0Pci+nujgQBswrx+8djEsECh6mQXqXFju20NO2FK8bIVzdo/feVJGHwTW8I4IaZ\n",
       "wJ6VKY2JJkvgsNehkCrOK8ukw1Dw3tCbnxu6aYPSDKaP57ll2akAW/opGOHSD9EVYQAAAUoBny10\n",
       "Q38ApDw7VwAlyfoJrtsYy+rAsQk3oFepmKZD1m+nvtMx7tuvlzBqAO+hBc4DztqK9QK5XM+PcUkQ\n",
       "D+UpNRFkNT5svRPkvsAxBW/JdVHaYHWlLiYwOW0PYdWJN25WsoJUde7pweww/K4v5tDTGhbhF6xL\n",
       "FAxt42AkTv1ApFbNQZZyhXib1j4kb0+ul8vMOyZkhrNBhAFsGvSBtjJOzkx04L/TB8GNZ2AXL3iK\n",
       "CsHyuN09hGKF5UZNOBxAe7NY7QgvI05sJVRlUpHe0DktJfk73Fmu5dMNfj1Vj31X2uJdBW4z2Evr\n",
       "hnuj5PNNM5mmbKs48OUkA4vpbhXeeO6JmtDFNmsr8FB0jQyMXgoNcsB1IVRzPfzfAfMhpZELVLDw\n",
       "fTbSkmto0jjG22ESKZBJb/lQNVBWDWsinnn5yGHE/mZkJiTb372wyukAAAFIAZ8vakN/AKQR+3GF\n",
       "wAkbngU780jHZ2VXWhgvq2K2w9vniYztH2de7J8IkruSWU43FzUq1RUQco/0gmVm/GYV60N2qnZr\n",
       "5VICr+J8k6UJySM61LzOj3tBWzD0odWyV5Q7irkiFyB5Hy6rnrrYSwyJ60wYflKB4bkJQCR8hIKv\n",
       "/cXvk7NmjzqXWUGjuTMvY5/pp5cbtT5kxaDotnfWeR6ogUh2Y6TKSptq7B9VKCNaK1SV0tE3ZebR\n",
       "sIbUHPGbJ/qzFjNBovuo6zh11VY0JRJiuMMSWxSmUfUjYa2Ew5C4AQj/FskKO781xeAbqRS0R47g\n",
       "BkVZY4rCQmnyQhStv3iyFUBA/N+7StrtuYn/quprWqzABEmlNNKvIGPZ2TDU2ExkL4QG7Ox+lIY3\n",
       "b2cEv0CD+HDzc1ab809bSO/d38D09AIqbgGT/19OOAAAAdFBmzFJqEFsmUwIb//+p4QCSX99MK6C\n",
       "EwABOSJnJ8YhcDzahjUvGo0EzTfAOarHEBRE/RpPHM6NE8sAFINWNspRoj3AO9d07YQ52D+uN77/\n",
       "s9+W/lLEGETRxyxbmB7v6xCIQ2McuR9MrjX8CYR4dmah5lH9j7y/G5NDqF7n6ZWHhlmKmGXNQoNq\n",
       "Vlbaiy+pH2znYF3c6L4uAUA3bVKaYsLbDaICOD299Jv4AW6+hZtBqmNCbRgSvFNKqududdChxPA1\n",
       "Jfi1P69sluqbBYBEUkMnB/n225emQs4UmWQ+vBJUSUJpY9RBz9lXXUwRR9hsyQVbAjL0PD2X+rPn\n",
       "VZzEBv7FTri6ErZriaqyGboIBY3ixypAl8dAVZtjFOAb/KqkAYS2v9Nuaf5X6FCbvgnp9njL+VRH\n",
       "AZsRKcJaPhNSE3cz8lGoM8WE+wQjHKFCLKhTd9jPNspJZYO+O4JS970mokMYLir4sbhLy08uf93c\n",
       "Q1ACmnIlaovrAf3amzrdJ4NDCMBqKD5EXKElO7LeGfoRUSS/qySqhx/JrtcHg6F3kVerOPPdvLse\n",
       "DtUUu+Qx8skGRIge4KSRSkLWzGPBlVCW6SYCwOSS+u1p7kQITo7yMZKOtoAAAAWLbW9vdgAAAGxt\n",
       "dmhkAAAAAAAAAAAAAAAAAAAD6AAAE4gAAQAAAQAAAAAAAAAAAAAAAAEAAAAAAAAAAAAAAAAAAAAB\n",
       "AAAAAAAAAAAAAAAAAABAAAAAAAAAAAAAAAAAAAAAAAAAAAAAAAAAAAAAAAAAAgAABLV0cmFrAAAA\n",
       "XHRraGQAAAADAAAAAAAAAAAAAAABAAAAAAAAE4gAAAAAAAAAAAAAAAAAAAAAAAEAAAAAAAAAAAAA\n",
       "AAAAAAABAAAAAAAAAAAAAAAAAABAAAAAAkAAAAFoAAAAAAAkZWR0cwAAABxlbHN0AAAAAAAAAAEA\n",
       "ABOIAAAIAAABAAAAAAQtbWRpYQAAACBtZGhkAAAAAAAAAAAAAAAAAAAoAAAAyABVxAAAAAAALWhk\n",
       "bHIAAAAAAAAAAHZpZGUAAAAAAAAAAAAAAABWaWRlb0hhbmRsZXIAAAAD2G1pbmYAAAAUdm1oZAAA\n",
       "AAEAAAAAAAAAAAAAACRkaW5mAAAAHGRyZWYAAAAAAAAAAQAAAAx1cmwgAAAAAQAAA5hzdGJsAAAA\n",
       "uHN0c2QAAAAAAAAAAQAAAKhhdmMxAAAAAAAAAAEAAAAAAAAAAAAAAAAAAAAAAkABaABIAAAASAAA\n",
       "AAAAAAABAAAAAAAAAAAAAAAAAAAAAAAAAAAAAAAAAAAAAAAAAAAAGP//AAAANmF2Y0MBZAAW/+EA\n",
       "GWdkABas2UCQL/lhAAADAAEAAAMAFA8WLZYBAAZo6+PLIsD9+PgAAAAAHHV1aWRraEDyXyRPxbo5\n",
       "pRvPAyPzAAAAAAAAABhzdHRzAAAAAAAAAAEAAAAyAAAEAAAAABRzdHNzAAAAAAAAAAEAAAABAAAB\n",
       "oGN0dHMAAAAAAAAAMgAAAAEAAAgAAAAAAQAAFAAAAAABAAAIAAAAAAEAAAAAAAAAAQAABAAAAAAB\n",
       "AAAUAAAAAAEAAAgAAAAAAQAAAAAAAAABAAAEAAAAAAEAABQAAAAAAQAACAAAAAABAAAAAAAAAAEA\n",
       "AAQAAAAAAQAAFAAAAAABAAAIAAAAAAEAAAAAAAAAAQAABAAAAAABAAAUAAAAAAEAAAgAAAAAAQAA\n",
       "AAAAAAABAAAEAAAAAAEAABQAAAAAAQAACAAAAAABAAAAAAAAAAEAAAQAAAAAAQAAFAAAAAABAAAI\n",
       "AAAAAAEAAAAAAAAAAQAABAAAAAABAAAUAAAAAAEAAAgAAAAAAQAAAAAAAAABAAAEAAAAAAEAABQA\n",
       "AAAAAQAACAAAAAABAAAAAAAAAAEAAAQAAAAAAQAAFAAAAAABAAAIAAAAAAEAAAAAAAAAAQAABAAA\n",
       "AAABAAAUAAAAAAEAAAgAAAAAAQAAAAAAAAABAAAEAAAAAAEAABQAAAAAAQAACAAAAAABAAAAAAAA\n",
       "AAEAAAQAAAAAAQAACAAAAAAcc3RzYwAAAAAAAAABAAAAAQAAADIAAAABAAAA3HN0c3oAAAAAAAAA\n",
       "AAAAADIAADihAAAPQgAABo0AAARCAAADyAAAD0oAAAWrAAAEKgAAA9YAAAvHAAAFIwAAAw4AAAL+\n",
       "AAAJTgAAA7YAAALdAAACnQAAB58AAAMEAAAB2QAAAakAAAYyAAACagAAAR4AAAFRAAAGogAAAf0A\n",
       "AAFXAAABWQAABq4AAAJ6AAABRwAAAV8AAAWaAAACZQAAAYkAAAFkAAAFfgAAAiUAAAFMAAABrwAA\n",
       "BE4AAAIpAAABawAAAWAAAALUAAAB4gAAAU4AAAFMAAAB1QAAABRzdGNvAAAAAAAAAAEAAAAwAAAA\n",
       "YnVkdGEAAABabWV0YQAAAAAAAAAhaGRscgAAAAAAAAAAbWRpcmFwcGwAAAAAAAAAAAAAAAAtaWxz\n",
       "dAAAACWpdG9vAAAAHWRhdGEAAAABAAAAAExhdmY1OC4zOS4xMDE=\n",
       "\">\n",
       "  Your browser does not support the video tag.\n",
       "</video>"
      ],
      "text/plain": [
       "<matplotlib.animation.FuncAnimation at 0x20ec389c388>"
      ]
     },
     "execution_count": 7,
     "metadata": {},
     "output_type": "execute_result"
    }
   ],
   "source": [
    "from matplotlib.colors import ListedColormap\n",
    "from matplotlib import animation, rc\n",
    "rc('animation', html='html5')       \n",
    "    \n",
    "def animate(i, resolution=0.02):\n",
    "    ax.clear()\n",
    "    tit = ax.set_title(f\"Epoch {i+1}\", fontsize=14)\n",
    "    # setup marker generator and color map\n",
    "    markers = ('s', 'x', 'o', '^', 'v')\n",
    "    colors = ('red', 'blue', 'lightgreen', 'gray', 'cyan')\n",
    "    cmap = ListedColormap(colors[:len(np.unique(y))])\n",
    "\n",
    "    # plot the decision surface\n",
    "    x1_min, x1_max = X[:, 0].min() - 1, X[:, 0].max() + 1\n",
    "    x2_min, x2_max = X[:, 1].min() - 1, X[:, 1].max() + 1\n",
    "    xx1, xx2 = np.meshgrid(np.arange(x1_min, x1_max, resolution),\n",
    "                           np.arange(x2_min, x2_max, resolution))\n",
    "    X_new = (np.array([xx1.ravel(), xx2.ravel()]).T - X_mean)/X_std\n",
    "    X_new = np.c_[np.ones(len(X_new)), X_new]\n",
    "    w = perceptron.ws[i]\n",
    "    Z = perceptron(w, X_new)\n",
    "    Z = np.argmax(softmax(Z), axis=1) \n",
    "    #print(Z)\n",
    "    Z = Z.reshape(xx1.shape)\n",
    "    ax.contourf(xx1, xx2, Z, alpha=0.3, cmap=cmap)\n",
    "    ax.set_xlim(xx1.min(), xx1.max())\n",
    "    ax.set_ylim(xx2.min(), xx2.max())\n",
    "    ax.set_xlabel('petal length', fontsize=14)\n",
    "    ax.set_ylabel('petal width', fontsize=14)\n",
    "    classes = [\"Iris-Setosa\", \"Iris-Versicolor\", \"Iris-Virginica\"]\n",
    "    for idx, cl in enumerate(np.unique(y)):\n",
    "        ax.scatter(x=X[y == cl, 0], \n",
    "                    y=X[y == cl, 1],\n",
    "                    alpha=0.8, \n",
    "                    c=colors[idx],\n",
    "                    marker=markers[idx], \n",
    "                    label=classes[cl], \n",
    "                    edgecolor='black')\n",
    "    ax.legend(loc='upper left', fontsize=14)\n",
    "    return [tit]\n",
    "\n",
    "fig = plt.figure(figsize=(8, 5))\n",
    "ax = fig.add_subplot(111, autoscale_on=False)\n",
    "anim = animation.FuncAnimation(fig, animate, frames=epochs, interval=100, blit=True)\n",
    "plt.close()\n",
    "anim"
   ]
  },
  {
   "cell_type": "markdown",
   "metadata": {},
   "source": [
    "Como puedes ver ahora nuestro modelo es capaz de separar todo el espacio de longitud y ancho del pétalo de una flor en tres clases. Dada una nueva flor, podemos saber su clase de la siguiente forma"
   ]
  },
  {
   "cell_type": "code",
   "execution_count": 8,
   "metadata": {
    "ExecuteTime": {
     "end_time": "2020-07-16T10:24:11.649807Z",
     "start_time": "2020-07-16T10:24:11.625651Z"
    }
   },
   "outputs": [
    {
     "data": {
      "text/plain": [
       "array([[ 3.18405391,  1.31789892, -5.5272039 ]])"
      ]
     },
     "execution_count": 8,
     "metadata": {},
     "output_type": "execute_result"
    }
   ],
   "source": [
    "# nuevo punto\n",
    "X_new = [[2, 0.5]]\n",
    "# normalizamos\n",
    "X_new_norm = (X_new - X_mean) / X_std \n",
    "# salida del perceptron\n",
    "y = perceptron.predict(X_new_norm)\n",
    "y"
   ]
  },
  {
   "cell_type": "markdown",
   "metadata": {},
   "source": [
    "A la salida del perceptrón aplicamos la función `softmax` para convertirla en una distribución de probabilidad."
   ]
  },
  {
   "cell_type": "code",
   "execution_count": 9,
   "metadata": {
    "ExecuteTime": {
     "end_time": "2020-07-16T10:24:11.665575Z",
     "start_time": "2020-07-16T10:24:11.650778Z"
    }
   },
   "outputs": [
    {
     "data": {
      "text/plain": [
       "array([[8.65889231e-01, 1.33968139e-01, 1.42630085e-04]])"
      ]
     },
     "execution_count": 9,
     "metadata": {},
     "output_type": "execute_result"
    }
   ],
   "source": [
    "y_probas = softmax(y)\n",
    "y_probas"
   ]
  },
  {
   "cell_type": "code",
   "execution_count": 10,
   "metadata": {
    "ExecuteTime": {
     "end_time": "2020-07-16T10:24:11.760011Z",
     "start_time": "2020-07-16T10:24:11.666575Z"
    }
   },
   "outputs": [
    {
     "data": {
      "image/png": "[encoded data removed]",
      "text/plain": [
       "<Figure size 432x288 with 1 Axes>"
      ]
     },
     "metadata": {
      "needs_background": "light"
     },
     "output_type": "display_data"
    }
   ],
   "source": [
    "plt.bar(list(range(1,4)), y_probas[0])\n",
    "plt.grid(True)\n",
    "plt.show()"
   ]
  },
  {
   "cell_type": "markdown",
   "metadata": {},
   "source": [
    "En una distribución de probabilidad, la suma de todas las probabilidad asignadas a cada una de las clases tiene que sumar 1."
   ]
  },
  {
   "cell_type": "code",
   "execution_count": 11,
   "metadata": {
    "ExecuteTime": {
     "end_time": "2020-07-16T10:24:11.776013Z",
     "start_time": "2020-07-16T10:24:11.762012Z"
    }
   },
   "outputs": [
    {
     "data": {
      "text/plain": [
       "array([1.])"
      ]
     },
     "execution_count": 11,
     "metadata": {},
     "output_type": "execute_result"
    }
   ],
   "source": [
    "y_probas.sum(axis=1)"
   ]
  },
  {
   "cell_type": "markdown",
   "metadata": {},
   "source": [
    "Ahora asignaremos aquella clase con la mayor probabilidad."
   ]
  },
  {
   "cell_type": "code",
   "execution_count": 12,
   "metadata": {
    "ExecuteTime": {
     "end_time": "2020-07-16T10:24:11.792051Z",
     "start_time": "2020-07-16T10:24:11.778011Z"
    }
   },
   "outputs": [
    {
     "data": {
      "text/plain": [
       "array([0], dtype=int64)"
      ]
     },
     "execution_count": 12,
     "metadata": {},
     "output_type": "execute_result"
    }
   ],
   "source": [
    "y_pred = np.argmax(y_probas, axis=1)\n",
    "y_pred"
   ]
  },
  {
   "cell_type": "markdown",
   "metadata": {},
   "source": [
    "Si abstraemos la lógica en una función podemos probar varios puntos."
   ]
  },
  {
   "cell_type": "code",
   "execution_count": 13,
   "metadata": {
    "ExecuteTime": {
     "end_time": "2020-07-16T10:24:11.824073Z",
     "start_time": "2020-07-16T10:24:11.793050Z"
    }
   },
   "outputs": [],
   "source": [
    "def evaluate(x):\n",
    "    x = (x - X_mean) / X_std \n",
    "    y = perceptron.predict(x)\n",
    "    y_probas = softmax(y)\n",
    "    return np.argmax(y_probas, axis=1)"
   ]
  },
  {
   "cell_type": "code",
   "execution_count": 14,
   "metadata": {
    "ExecuteTime": {
     "end_time": "2020-07-16T10:24:11.839848Z",
     "start_time": "2020-07-16T10:24:11.825074Z"
    }
   },
   "outputs": [
    {
     "data": {
      "text/plain": [
       "array([1, 0, 2], dtype=int64)"
      ]
     },
     "execution_count": 14,
     "metadata": {},
     "output_type": "execute_result"
    }
   ],
   "source": [
    "X = [[5, 1],[2, 0.5],[7, 3]]\n",
    "evaluate(X)"
   ]
  },
  {
   "cell_type": "markdown",
   "metadata": {},
   "source": [
    "## El dataset MNIST"
   ]
  },
  {
   "cell_type": "markdown",
   "metadata": {},
   "source": [
    "Vamos a probar ahora nuestra nueva implementación para clasificar dígitos manuscritos con el dataset MNIST."
   ]
  },
  {
   "cell_type": "code",
   "execution_count": 15,
   "metadata": {
    "ExecuteTime": {
     "end_time": "2020-07-16T10:24:30.561397Z",
     "start_time": "2020-07-16T10:24:11.840849Z"
    }
   },
   "outputs": [
    {
     "data": {
      "text/plain": [
       "((70000, 784), (70000,))"
      ]
     },
     "execution_count": 15,
     "metadata": {},
     "output_type": "execute_result"
    }
   ],
   "source": [
    "from sklearn.datasets import fetch_openml\n",
    "\n",
    "mnist = fetch_openml('mnist_784', version=1)\n",
    "X, y = mnist[\"data\"], mnist[\"target\"]\n",
    "\n",
    "X.shape, y.shape"
   ]
  },
  {
   "cell_type": "code",
   "execution_count": 16,
   "metadata": {
    "ExecuteTime": {
     "end_time": "2020-07-16T10:24:30.934418Z",
     "start_time": "2020-07-16T10:24:30.563402Z"
    }
   },
   "outputs": [
    {
     "data": {
      "image/png": "[encoded data removed]",
      "text/plain": [
       "<Figure size 720x432 with 15 Axes>"
      ]
     },
     "metadata": {
      "needs_background": "light"
     },
     "output_type": "display_data"
    }
   ],
   "source": [
    "%matplotlib inline\n",
    "\n",
    "import matplotlib as mpl\n",
    "import matplotlib.pyplot as plt\n",
    "import random \n",
    "\n",
    "r, c = 3, 5\n",
    "fig = plt.figure(figsize=(2*c, 2*r))\n",
    "for _r in range(r):\n",
    "    for _c in range(c):\n",
    "        plt.subplot(r, c, _r*c + _c + 1)\n",
    "        ix = random.randint(0, len(X)-1)\n",
    "        img = X[ix]\n",
    "        plt.imshow(img.reshape(28,28), cmap='gray')\n",
    "        plt.axis(\"off\")\n",
    "        plt.title(y[ix])\n",
    "plt.tight_layout()\n",
    "plt.show()"
   ]
  },
  {
   "cell_type": "code",
   "execution_count": 17,
   "metadata": {
    "ExecuteTime": {
     "end_time": "2020-07-16T10:24:31.044673Z",
     "start_time": "2020-07-16T10:24:30.935419Z"
    }
   },
   "outputs": [],
   "source": [
    "# normalizamos los datos\n",
    "\n",
    "X_train, X_test, y_train, y_test = X[:60000] / 255., X[60000:] / 255., y[:60000].astype(np.int), y[60000:].astype(np.int)"
   ]
  },
  {
   "cell_type": "code",
   "execution_count": 18,
   "metadata": {
    "ExecuteTime": {
     "end_time": "2020-07-16T10:24:39.560503Z",
     "start_time": "2020-07-16T10:24:31.045675Z"
    }
   },
   "outputs": [
    {
     "name": "stdout",
     "output_type": "stream",
     "text": [
      "Epoch 10/200 Loss 1.0272297445490006\n",
      "Epoch 20/200 Loss 0.5980381289205666\n",
      "Epoch 30/200 Loss 0.4773168861894828\n",
      "Epoch 40/200 Loss 0.41199523487346523\n",
      "Epoch 50/200 Loss 0.39122900076745026\n",
      "Epoch 60/200 Loss 0.3784132707330115\n",
      "Epoch 70/200 Loss 0.3684527393218287\n",
      "Epoch 80/200 Loss 0.36031727940205316\n",
      "Epoch 90/200 Loss 0.35349819645727165\n",
      "Epoch 100/200 Loss 0.3476707929601525\n",
      "Epoch 110/200 Loss 0.34261370339472846\n",
      "Epoch 120/200 Loss 0.33816962232121106\n",
      "Epoch 130/200 Loss 0.33422308575592685\n",
      "Epoch 140/200 Loss 0.33068707851031404\n",
      "Epoch 150/200 Loss 0.32749456770253627\n",
      "Epoch 160/200 Loss 0.32459294088243423\n",
      "Epoch 170/200 Loss 0.32194023405806593\n",
      "Epoch 180/200 Loss 0.3195025036891174\n",
      "Epoch 190/200 Loss 0.3172519526894042\n",
      "Epoch 200/200 Loss 0.31516556673743784\n"
     ]
    }
   ],
   "source": [
    "# entranamos un perceptron para clasificación en 10 clases a partir de los pixeles de cada imágen\n",
    "\n",
    "perceptron = Perceptron(785, 10)\n",
    "epochs, lr = 200, 1\n",
    "perceptron.fit(X_train, y_train, epochs, lr, log_each=10)"
   ]
  },
  {
   "cell_type": "markdown",
   "metadata": {},
   "source": [
    "Calcularemos la precisión de nuestro modelo en los datos de test. Puedes aprender sobre ésta y otras métricas en este [post](https://sensioai.com/blog/016_metricas_clasficiacion)."
   ]
  },
  {
   "cell_type": "code",
   "execution_count": 19,
   "metadata": {
    "ExecuteTime": {
     "end_time": "2020-07-16T10:24:39.576039Z",
     "start_time": "2020-07-16T10:24:39.563503Z"
    }
   },
   "outputs": [],
   "source": [
    "def evaluate(x):\n",
    "    y = perceptron.predict(x)\n",
    "    y_probas = softmax(y)\n",
    "    return np.argmax(y_probas, axis=1)"
   ]
  },
  {
   "cell_type": "code",
   "execution_count": 20,
   "metadata": {
    "ExecuteTime": {
     "end_time": "2020-07-16T10:24:39.622042Z",
     "start_time": "2020-07-16T10:24:39.578039Z"
    }
   },
   "outputs": [
    {
     "data": {
      "text/plain": [
       "0.9159"
      ]
     },
     "execution_count": 20,
     "metadata": {},
     "output_type": "execute_result"
    }
   ],
   "source": [
    "from sklearn.metrics import accuracy_score\n",
    "\n",
    "y_pred = evaluate(X_test)\n",
    "accuracy_score(y_test, y_pred)"
   ]
  },
  {
   "cell_type": "markdown",
   "metadata": {},
   "source": [
    "Con una precisión cercana al $91 \\%$, vamos a visualizar algunas de las predicciones."
   ]
  },
  {
   "cell_type": "code",
   "execution_count": 21,
   "metadata": {
    "ExecuteTime": {
     "end_time": "2020-07-16T10:24:39.985282Z",
     "start_time": "2020-07-16T10:24:39.623044Z"
    }
   },
   "outputs": [
    {
     "data": {
      "image/png": "[encoded data removed]",
      "text/plain": [
       "<Figure size 720x432 with 15 Axes>"
      ]
     },
     "metadata": {
      "needs_background": "light"
     },
     "output_type": "display_data"
    }
   ],
   "source": [
    "r, c = 3, 5\n",
    "fig = plt.figure(figsize=(2*c, 2*r))\n",
    "test_imgs, test_labs = [], []\n",
    "for _r in range(r):\n",
    "    for _c in range(c):\n",
    "        plt.subplot(r, c, _r*c + _c + 1)\n",
    "        ix = random.randint(0, len(X_test)-1)\n",
    "        img = X_test[ix]\n",
    "        y_pred = evaluate([img])[0]\n",
    "        plt.imshow(img.reshape(28,28), cmap='gray')\n",
    "        plt.axis(\"off\")\n",
    "        plt.title(f\"{y_test[ix]}/{y_pred}\", color=\"green\" if y_test[ix] == y_pred else \"red\")\n",
    "plt.tight_layout()\n",
    "plt.show()"
   ]
  },
  {
   "cell_type": "markdown",
   "metadata": {},
   "source": [
    "¡ Nuestro modelo es bastante bueno reconociendo dígitos manuscritos ! Con la matriz de confusión podemos evaluar los puntos fuertes y débiles de nuestro modelo para poder mejorarlo."
   ]
  },
  {
   "cell_type": "code",
   "execution_count": 22,
   "metadata": {
    "ExecuteTime": {
     "end_time": "2020-07-16T10:24:40.720307Z",
     "start_time": "2020-07-16T10:24:39.986283Z"
    }
   },
   "outputs": [
    {
     "data": {
      "image/png": "[encoded data removed]",
      "text/plain": [
       "<Figure size 720x504 with 2 Axes>"
      ]
     },
     "metadata": {
      "needs_background": "light"
     },
     "output_type": "display_data"
    }
   ],
   "source": [
    "from sklearn.metrics import confusion_matrix\n",
    "import pandas as pd\n",
    "import seaborn as sn\n",
    "\n",
    "y_pred = evaluate(X_test)\n",
    "cm = confusion_matrix(y_test, y_pred)\n",
    "df_cm = pd.DataFrame(cm, index = [i for i in range(0,10)], columns = [i for i in range(0,10)])\n",
    "plt.figure(figsize = (10,7))\n",
    "sn.heatmap(df_cm, annot=True)\n",
    "plt.show()"
   ]
  },
  {
   "cell_type": "markdown",
   "metadata": {},
   "source": [
    "## Resumen"
   ]
  },
  {
   "cell_type": "markdown",
   "metadata": {},
   "source": [
    "En este post hemos visto cómo mejorar nuestro `Perceptrón` para llevar a cabo la tarea de clasificación en varias clases, mientras que hasta ahora sólo habíamos sido capaces de clasificación binaria (en dos clases). Para ello, en primer lugar hemos replicado la arquitectura tantas veces como clases tenemos, teniendo una salida del modelo para cada clase. Usando la función `softmax` como función de activación podemos convertir esta salida en una distribución de probabilidad, que usamos para escoger la clase final (aquella con mayor probabilidad). Para entrenar el modelo con el algoritmo de descenso por gradiente utilizamos la función de pérdida `cross entropy`, cuya formulación y derivadas hemos calculado. Tras la implementación de estos cambios hemos utilizado nuestro modelo para clasificación multiclase con los datasets Iris y MNIST, consiguiendo una buena precisión."
   ]
  }
 ],
 "metadata": {
  "kernelspec": {
   "display_name": "Python 3",
   "language": "python",
   "name": "python3"
  },
  "language_info": {
   "codemirror_mode": {
    "name": "ipython",
    "version": 3
   },
   "file_extension": ".py",
   "mimetype": "text/x-python",
   "name": "python",
   "nbconvert_exporter": "python",
   "pygments_lexer": "ipython3",
   "version": "3.7.3"
  },
  "toc": {
   "base_numbering": 1,
   "nav_menu": {},
   "number_sections": true,
   "sideBar": true,
   "skip_h1_title": false,
   "title_cell": "Table of Contents",
   "title_sidebar": "Contents",
   "toc_cell": false,
   "toc_position": {},
   "toc_section_display": true,
   "toc_window_display": false
  }
 },
 "nbformat": 4,
 "nbformat_minor": 4
}
