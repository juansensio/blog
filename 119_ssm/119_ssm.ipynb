{
 "cells": [
  {
   "cell_type": "markdown",
   "metadata": {},
   "source": [
    "[![Open In Colab](https://colab.research.google.com/assets/colab-badge.svg)](https://colab.research.google.com/github/juansensio/blog/blob/master/119_ssm/119_ssm.ipynb)"
   ]
  },
  {
   "cell_type": "markdown",
   "metadata": {},
   "source": [
    "# State Space Models"
   ]
  },
  {
   "cell_type": "markdown",
   "metadata": {},
   "source": [
    "Recientemente se ha publicado una nueva arquitectura de red neuronal que promete destronar a los Transformers. Este modelo se conoce como [Mamba](https://arxiv.org/pdf/2312.00752.pdf), y con este post iniciamos una serie de posts en los que aprenderemos sobre Mamba y sus componentes comenzando por los `State Space Models`. Estos modelos son una forma de representar sistemas dinámicos, y son muy utilizados en el campo de la ingeniería y la física. Son útiles a la hora de modelar de manera eficiente secuencias de datos largas y pueden usarse también para diseñar redes neuronales. "
   ]
  },
  {
   "cell_type": "markdown",
   "metadata": {},
   "source": [
    "## Fundamentos matemáticos"
   ]
  },
  {
   "cell_type": "markdown",
   "metadata": {},
   "source": [
    "Una forma general de representación de espacios de estado de un sistema lineal con $p$ entradas, $q$ salidas y $n$ variables de estado se escribe de la siguiente forma:\n",
    "\n",
    "$$\n",
    "x'(t) = A x(t) + B u(t)\n",
    "$$\n",
    "$$\n",
    "y(t) = C x(t) + D u(t)\n",
    "$$\n",
    "\n",
    "donde $x(t)$ es el vector de estados, con $n$ variables de estado, $u(t)$ es el vector de entrada, con $p$ valores de entrada, $y(t)$ es el vector de salida, con $q$ valores de salida y $A$ es la matriz de estado, $B$ es la matriz de entrada, $C$ es la matriz de salida y $D$ es la matriz de transmisión directa, en todos los casos parámetros que aprenderemos durante el entrenamiento del modelo (y que podrían depender de $t$ a no ser que consideremos un sistema invariante en el tiempo). $x'(t)$ es la derivada temporal de $x(t)$, por lo que el sistema de ecuaciones es un sistema de ecuaciones diferenciales lineales.\n",
    "\n",
    "Para entenderlo con un ejemplo, podríamos considerar que $u(t)$ es una serie temporal que determina la evolución de la temperatura y humedad en una ciudad, con dos variables. Entonces, $x(t)$ podría representar características como la presión atmosférica, la velocidad del viento, la temperatura del suelo, época del año, etc, en un número determinado de estados que no tiene porque ser igual al número de variables de entrada. Estos estados explicarían la evolución de la temperatura y humedad en la ciudad, y podrían usarse para predecir la probabilidad de lluvia, $y(t)$, una sola variable. Podemos empezar a intuir porqué estos modelos son ideales para su uso en redes neuronales, ya que permiten modelar secuencias de datos de manera eficiente. Podríamos usarlos para clasificar imágenes, donde $u(t)$ podría ser la secuencia de píxeles o patches, $y(t)$ la distribución de probabilidad sobre las clases y $x(t)$ las características visuales útiles para la clasificación (que normalmente calcularía una red convolucional apartir de sus filtros, que en este caso serían equivalente a las matrices del sistema). Otras aplicaciones incluyen campos como la economía, ingeniería, física, biología, etc."
   ]
  },
  {
   "cell_type": "code",
   "execution_count": 1,
   "metadata": {},
   "outputs": [],
   "source": [
    "import torch \n",
    "\n",
    "def random_SSM(p, q, n):\n",
    "\tA = torch.rand((n, n))\n",
    "\tB = torch.rand((n, p))\n",
    "\tC = torch.rand((q, n))\n",
    "\treturn A, B, C"
   ]
  },
  {
   "cell_type": "markdown",
   "metadata": {},
   "source": [
    "## Representación Discreta"
   ]
  },
  {
   "cell_type": "markdown",
   "metadata": {},
   "source": [
    "El primer paso para el uso de SSMs en redes neuronales es la discretización del sistema, ya que no trabajaremos con secuencias contínuas sino series temporals, píxeles o patches en imágenes, tokens en secuencias de texto, etc. Para ello, podemos usar el método [bilineal](https://es.wikipedia.org/wiki/Transformaci%C3%B3n_bilineal) que permite aproximar las matrices en sus variantes discretas y representar el sistema de ecuaciones de la siguiente forma:\n",
    "\n",
    "$$\n",
    "x_{k+1} = \\overline{A} x_k + \\overline{B} u_k\n",
    "$$\n",
    "$$\n",
    "y_k = \\overline{C} x_k\n",
    "$$\n",
    "\n",
    "donde ignoramos el término $D u(t)$ ya que podemos interpretarlo como una $skip connection$ que siempre podemos añadir más adelante. En esta representación, $u_k = u(k \\Delta)$ donde $\\Delta$ es el intervalo de tiempo entre muestras, el *step*."
   ]
  },
  {
   "cell_type": "code",
   "execution_count": 7,
   "metadata": {},
   "outputs": [],
   "source": [
    "def discretize(A, B, C, step):\n",
    "\tI = torch.eye(A.shape[0])\n",
    "\tBL = torch.inverse(I - (step / 2.0) * A)\n",
    "\tAb = BL @ (I + (step / 2.0) * A)\n",
    "\tBb = (step * BL) @ B\n",
    "\treturn Ab, Bb, C"
   ]
  },
  {
   "cell_type": "markdown",
   "metadata": {},
   "source": [
    "Esta forumalción es posible que te recuerde a la que introdujimos en el post sobre [redes recurrente](https://juansensio.com/blog/034_rnn_intro).\n",
    "\n",
    "![rnn](https://miro.medium.com/max/2544/1*aIT6tmnk3qHpStkOX3gGcQ.png)\n",
    "\n",
    "Estas redes procesan cada *input* de manera independiente, pero mantienen una memoria interna que les permite recordar información de pasos anteriores. \n",
    "\n",
    "$$ \\mathbf{h}_t =  f(\\mathbf{W}_x \\mathbf{x}_t + \\mathbf{W}_h \\mathbf{h}_{t-1}) $$\n",
    "$$ \\mathbf{y}_t = \\mathbf{W}_y \\mathbf{h}_t$$"
   ]
  },
  {
   "cell_type": "code",
   "execution_count": 69,
   "metadata": {},
   "outputs": [],
   "source": [
    "def run_SSM(A, B, C, u):\n",
    "    b, L, p = u.shape\n",
    "    q, n = C.shape\n",
    "    Ab, Bb, Cb = discretize(A, B, C, step=1.0 / L)\n",
    "    y = torch.zeros((b, L, q))\n",
    "    x = torch.zeros((b, L, n))\n",
    "    for i in range(L):\n",
    "        x[:,i] = x[:,i - 1] @ Ab.T if i > 0 else 0 + u[:,i] @ Bb.T\n",
    "        y[:,i] = x[:,i] @ Cb.T\n",
    "    return x, y"
   ]
  },
  {
   "cell_type": "code",
   "execution_count": 70,
   "metadata": {},
   "outputs": [],
   "source": [
    "def discretize(A, B, C, step):\n",
    "\tI = torch.eye(A.shape[0])\n",
    "\tBL = torch.inverse(I - (step / 2.0) * A)\n",
    "\tAb = BL @ (I + (step / 2.0) * A)\n",
    "\tBb = (step * BL) @ B\n",
    "\treturn Ab, Bb, C"
   ]
  },
  {
   "cell_type": "code",
   "execution_count": 72,
   "metadata": {},
   "outputs": [
    {
     "data": {
      "text/plain": [
       "(torch.Size([5, 10, 4]), torch.Size([5, 10, 3]))"
      ]
     },
     "execution_count": 72,
     "metadata": {},
     "output_type": "execute_result"
    }
   ],
   "source": [
    "p, q, n = 2, 3, 4\n",
    "B, L = 5, 10\n",
    "\n",
    "ssm = random_SSM(p, q, n)\n",
    "u = torch.rand((B, L, p))\n",
    "x, y = run_SSM(*ssm, u)\n",
    "\n",
    "x.shape, y.shape"
   ]
  },
  {
   "cell_type": "markdown",
   "metadata": {},
   "source": [
    "Este formulación es muy útil para hacer inferencia, ya que es una formulación autoregresiva en la que en cada instante solo necesitamos el estado anterior para calcular el siguiente (a diferencia del transformer en la que necesitamos todo el contexto cada vez que queremos generar una nueva salida). Sin embargo, ya sabemos que no es la formulación más eficiente para el entrenamiento. Para ello, nos inspiramos en el funcionamiento de las redes convolucionales."
   ]
  },
  {
   "cell_type": "markdown",
   "metadata": {},
   "source": [
    "## Entrenando SSMs"
   ]
  },
  {
   "cell_type": "markdown",
   "metadata": {},
   "source": [
    "Para entrenar SSMs de manera eficiente, vamos a formular el problema paso a paso:\n",
    "\n",
    "$$ x_0 = \\overline{B} u_0 \\rightarrow y_0 = \\overline{CB} x_0 $$\n",
    "$$ x_1 = \\overline{AB} u_0 + \\overline{B} u_1 \\rightarrow y_1 = \\overline{CAB} u_0 + \\overline{CB} u_1 $$\n",
    "$$ x_2 = \\overline{A}^2 \\overline{B} u_0 + \\overline{AB} u_1 + \\overline{B} u_2 \\rightarrow y_2 = \\overline{CA}^2 \\overline{B} u_0 + \\overline{CAB} u_1 + \\overline{CB} u_2 $$\n",
    "$$ ... $$\n",
    "\n",
    "Esto se puede vectorizar de la siguiente forma:\n",
    "\n",
    "$$ y_k = \\overline{CA}^k \\overline{B} u_0 + \\overline{CA}^{k-1} \\overline{B} u_1 + ... + \\overline{CAB} u_{k-1} + \\overline{CB} u_{k} $$\n",
    "\n",
    "de forma que podemos calcular la salida en el paso $k$ de manera eficiente con la siguiente convolución:\n",
    "\n",
    "$$ y = \\overline{K} * u $$\n",
    "\n",
    "donde $\\overline{K} = (\\overline{CB},\\overline{CAB}, ...,  \\overline{CA}^{L-1} \\overline{B}) $ es la matriz de convolución que se calcula de la siguiente forma:"
   ]
  },
  {
   "cell_type": "code",
   "execution_count": 74,
   "metadata": {},
   "outputs": [
    {
     "ename": "ModuleNotFoundError",
     "evalue": "No module named 'torchaudio'",
     "output_type": "error",
     "traceback": [
      "\u001b[0;31m---------------------------------------------------------------------------\u001b[0m",
      "\u001b[0;31mModuleNotFoundError\u001b[0m                       Traceback (most recent call last)",
      "Cell \u001b[0;32mIn[74], line 6\u001b[0m\n\u001b[1;32m      1\u001b[0m \u001b[38;5;28;01mdef\u001b[39;00m \u001b[38;5;21mK_conv\u001b[39m(Ab, Bb, Cb, L):\n\u001b[1;32m      2\u001b[0m     \u001b[38;5;28;01mreturn\u001b[39;00m torch\u001b[38;5;241m.\u001b[39mtensor(\n\u001b[1;32m      3\u001b[0m         [(Cb \u001b[38;5;241m@\u001b[39m torch\u001b[38;5;241m.\u001b[39mmatrix_power(Ab, l) \u001b[38;5;241m@\u001b[39m Bb) \u001b[38;5;28;01mfor\u001b[39;00m l \u001b[38;5;129;01min\u001b[39;00m \u001b[38;5;28mrange\u001b[39m(L)]\n\u001b[1;32m      4\u001b[0m     )\n\u001b[0;32m----> 6\u001b[0m \u001b[38;5;28;01mimport\u001b[39;00m \u001b[38;5;21;01mtorchaudio\u001b[39;00m \n\u001b[1;32m      8\u001b[0m \u001b[38;5;28;01mdef\u001b[39;00m \u001b[38;5;21mcausal_convolution\u001b[39m(u, K):\n\u001b[1;32m      9\u001b[0m      \u001b[38;5;66;03m# no está en torch ?\u001b[39;00m\n\u001b[1;32m     10\u001b[0m \t\u001b[38;5;28;01mreturn\u001b[39;00m torchaudio\u001b[38;5;241m.\u001b[39mfunctional\u001b[38;5;241m.\u001b[39mconvolve(u, K, mode\u001b[38;5;241m=\u001b[39m\u001b[38;5;124m\"\u001b[39m\u001b[38;5;124mfull\u001b[39m\u001b[38;5;124m\"\u001b[39m)[: u\u001b[38;5;241m.\u001b[39mshape[\u001b[38;5;241m0\u001b[39m]] \n",
      "\u001b[0;31mModuleNotFoundError\u001b[0m: No module named 'torchaudio'"
     ]
    }
   ],
   "source": [
    "def K_conv(Ab, Bb, Cb, L):\n",
    "    return torch.tensor(\n",
    "        [(Cb @ torch.matrix_power(Ab, l) @ Bb) for l in range(L)]\n",
    "    )\n",
    "\n",
    "import torchaudio \n",
    "\n",
    "def causal_convolution(u, K):\n",
    "     # no está en torch ?\n",
    "\treturn torchaudio.functional.convolve(u, K, mode=\"full\")[: u.shape[0]] \n",
    "\n",
    "def test_cnn_is_rnn(p, q, n, B, L):\n",
    "    step=1.0 / L\n",
    "    ssm = random_SSM(p, q, n)\n",
    "    u = torch.rand((B, L, 1))\n",
    "    # RNN\n",
    "    rec = run_SSM(*ssm, u)\n",
    "    # CNN\n",
    "    ssmb = discretize(*ssm, step=step)\n",
    "    K = K_conv(*ssmb, L)\n",
    "    conv = causal_convolution(u, K)\n",
    "    # Check\n",
    "    assert torch.allclose(rec[1].view(-1), conv.view(-1))\n",
    "    # return rec[1], conv, K"
   ]
  },
  {
   "cell_type": "code",
   "execution_count": 61,
   "metadata": {},
   "outputs": [
    {
     "ename": "AssertionError",
     "evalue": "",
     "output_type": "error",
     "traceback": [
      "\u001b[0;31m---------------------------------------------------------------------------\u001b[0m",
      "\u001b[0;31mAssertionError\u001b[0m                            Traceback (most recent call last)",
      "Cell \u001b[0;32mIn[61], line 1\u001b[0m\n\u001b[0;32m----> 1\u001b[0m \u001b[43mtest_cnn_is_rnn\u001b[49m\u001b[43m(\u001b[49m\u001b[43m)\u001b[49m \u001b[38;5;66;03m# no da bien\u001b[39;00m\n",
      "Cell \u001b[0;32mIn[59], line 22\u001b[0m, in \u001b[0;36mtest_cnn_is_rnn\u001b[0;34m(N, L, step)\u001b[0m\n\u001b[1;32m     20\u001b[0m conv \u001b[38;5;241m=\u001b[39m causal_convolution(u, K)\n\u001b[1;32m     21\u001b[0m \u001b[38;5;66;03m# Check\u001b[39;00m\n\u001b[0;32m---> 22\u001b[0m \u001b[38;5;28;01massert\u001b[39;00m torch\u001b[38;5;241m.\u001b[39mallclose(rec[\u001b[38;5;241m1\u001b[39m]\u001b[38;5;241m.\u001b[39mview(\u001b[38;5;241m-\u001b[39m\u001b[38;5;241m1\u001b[39m), conv\u001b[38;5;241m.\u001b[39mview(\u001b[38;5;241m-\u001b[39m\u001b[38;5;241m1\u001b[39m))\n",
      "\u001b[0;31mAssertionError\u001b[0m: "
     ]
    }
   ],
   "source": [
    "test_cnn_is_rnn() # no da bien"
   ]
  },
  {
   "cell_type": "markdown",
   "metadata": {},
   "source": [
    "Con todas estas piezas en su lugar, podemos definir ahora una capa SSM para nuestra red neuronal."
   ]
  },
  {
   "cell_type": "code",
   "execution_count": 16,
   "metadata": {},
   "outputs": [],
   "source": [
    "import numpy as np \n",
    "\n",
    "class SSMLayer(torch.nn.Module):\n",
    "\tdef __init__(self, p, q, n, dt_min=0.001, dt_max=0.1, l_max=16, p_drop=0):\n",
    "\t\tsuper().__init__()\n",
    "\t\tself.A = torch.nn.Parameter(torch.rand((n, n)))\n",
    "\t\tself.B = torch.nn.Parameter(torch.rand((n, p)))\n",
    "\t\tself.C = torch.nn.Parameter(torch.rand((q, n)))\n",
    "\t\tself.D = torch.nn.Parameter(torch.ones((p,)))\n",
    "\t\tself.log_step = torch.nn.Parameter(torch.rand(1,)*(np.log(dt_max) - np.log(dt_min)) + np.log(dt_min))\n",
    "\t\tstep = torch.exp(self.log_step)\n",
    "\t\tself.ssm = discretize(self.A, self.B, self.C, step)\n",
    "\t\tself.K = K_conv(*self.ssm, l_max)\n",
    "\t\tself.norm = torch.nn.LayerNorm(n)\n",
    "\t\tself.drop = torch.nn.Dropout(p_drop)\n",
    "\n",
    "\tdef forward(self, x, train=False):\n",
    "\t\tskip = x \n",
    "\t\tx = self.norm(x)\n",
    "\t\tx = causal_convolution(x, self.K) + self.D * x\n",
    "\t\tx = torch.nn.functional.gelu(x)\n",
    "\t\treturn self.drop(x)\t+ skip\t\t"
   ]
  },
  {
   "cell_type": "markdown",
   "metadata": {},
   "source": [
    "Podemos usar este modelo para, por ejemplo, clasificar imágenes del dataset MNIST"
   ]
  },
  {
   "cell_type": "code",
   "execution_count": 1,
   "metadata": {},
   "outputs": [],
   "source": [
    "import lightning as L\n",
    "import torch\n",
    "import matplotlib.pyplot as plt\n",
    "import torch.nn.functional as F\n",
    "from sklearn.datasets import fetch_openml\n",
    "import numpy as np\n",
    "from torch.utils.data import DataLoader"
   ]
  },
  {
   "cell_type": "code",
   "execution_count": 11,
   "metadata": {},
   "outputs": [],
   "source": [
    "class Dataset(torch.utils.data.Dataset):\n",
    "  def __init__(self, X, y):\n",
    "    self.X = X \n",
    "    self.y = y \n",
    "\n",
    "  def __len__(self):\n",
    "    return len(self.X)\n",
    "\n",
    "  def __getitem__(self, ix):\n",
    "    return torch.tensor(self.X[ix]).float().view(1, 28, 28), torch.tensor(self.y[ix]).long()\n",
    "\n",
    "class MNISTDataModule(L.LightningDataModule):\n",
    "\n",
    "\tdef __init__(self, batch_size: int = 64):\n",
    "\t\tsuper().__init__()\n",
    "\t\tself.batch_size = batch_size\n",
    "\n",
    "\tdef setup(self, stage=None):\n",
    "\t\tmnist = fetch_openml('mnist_784', version=1)\n",
    "\t\tX, y = mnist[\"data\"].values.astype(np.float32), mnist[\"target\"].values.astype(int)\n",
    "\t\tX_train, X_test, y_train, y_test = X[:60000] / 255., X[60000:] / 255., y[:60000], y[60000:]\n",
    "\t\tself.train_ds = Dataset(X_train, y_train)\n",
    "\t\tself.val_ds = Dataset(X_test, y_test)\n",
    "\n",
    "\tdef train_dataloader(self):\n",
    "\t\treturn DataLoader(self.train_ds, batch_size=self.batch_size, shuffle=True)\n",
    "\n",
    "\tdef val_dataloader(self):\n",
    "\t\treturn DataLoader(self.val_ds, batch_size=self.batch_size)"
   ]
  },
  {
   "cell_type": "code",
   "execution_count": 12,
   "metadata": {},
   "outputs": [
    {
     "name": "stderr",
     "output_type": "stream",
     "text": [
      "/home/juan/miniconda3/envs/peo/lib/python3.8/site-packages/sklearn/datasets/_openml.py:1022: FutureWarning: The default value of `parser` will change from `'liac-arff'` to `'auto'` in 1.4. You can set `parser='auto'` to silence this warning. Therefore, an `ImportError` will be raised from 1.4 if the dataset is dense and pandas is not installed. Note that the pandas parser may return different data types. See the Notes Section in fetch_openml's API doc for details.\n",
      "  warn(\n"
     ]
    },
    {
     "data": {
      "text/plain": [
       "(torch.Size([64, 1, 28, 28]), torch.Size([64]))"
      ]
     },
     "execution_count": 12,
     "metadata": {},
     "output_type": "execute_result"
    }
   ],
   "source": [
    "dm = MNISTDataModule()\n",
    "dm.setup()\n",
    "\n",
    "imgs, labels = next(iter(dm.train_dataloader()))\n",
    "imgs.shape, labels.shape"
   ]
  },
  {
   "cell_type": "code",
   "execution_count": 13,
   "metadata": {},
   "outputs": [
    {
     "data": {
      "image/png": "[encoded data removed]",
      "text/plain": [
       "<Figure size 1000x800 with 20 Axes>"
      ]
     },
     "metadata": {},
     "output_type": "display_data"
    }
   ],
   "source": [
    "r, c = 4, 5\n",
    "fig = plt.figure(figsize=(2*c, 2*r))\n",
    "for _r in range(r):\n",
    "    for _c in range(c):\n",
    "        ix = _r*c + _c\n",
    "        ax = plt.subplot(r, c, ix + 1)\n",
    "        img, label = imgs[ix], labels[ix]\n",
    "        ax.axis(\"off\")\n",
    "        ax.imshow(img.squeeze(0), cmap=\"gray\")\n",
    "        ax.set_title(label.item())\n",
    "plt.tight_layout()\n",
    "plt.show()"
   ]
  },
  {
   "cell_type": "code",
   "execution_count": 14,
   "metadata": {},
   "outputs": [],
   "source": [
    "import torch.nn as nn\n",
    "\n",
    "class PatchEmbedding(nn.Module):\n",
    "    def __init__(self, img_size, patch_size, in_chans, embed_dim):\n",
    "        super().__init__()\n",
    "        self.img_size = img_size\n",
    "        self.patch_size = patch_size\n",
    "        self.n_patches = (img_size // patch_size) ** 2\n",
    "        self.patch_size = patch_size\n",
    "        self.proj = nn.Conv2d(in_chans, embed_dim, kernel_size=patch_size, stride=patch_size)\n",
    "\n",
    "    def forward(self, x):\n",
    "        x = self.proj(x)  # (B, E, P, P)\n",
    "        x = x.flatten(2)  # (B, E, N)\n",
    "        x = x.transpose(1, 2)  # (B, N, E)\n",
    "        return x\n",
    "    \n",
    "class SSMModel(torch.nn.Module):\n",
    "\n",
    "    def __init__(self, img_size=28, patch_size=7, in_chans=1, embed_dim=100, n_heads=3, n_layers=3, n_classes=10):\n",
    "        super().__init__()\n",
    "\n",
    "        self.patch_embed = PatchEmbedding(img_size, patch_size, in_chans, embed_dim)\n",
    "        self.cls_token = nn.Parameter(torch.zeros(1, 1, embed_dim))\n",
    "        self.pos_embed = nn.Parameter(torch.zeros(1, 1 + self.patch_embed.n_patches, embed_dim))\n",
    "        \n",
    "        self.ssm_layers = torch.nn.Sequential(*[SSMLayer(1, 1, 4) for _ in range(n_layers)])\n",
    "        \n",
    "        self.ln = nn.LayerNorm(embed_dim)\n",
    "        self.fc = torch.nn.Linear(embed_dim, n_classes)\n",
    "\n",
    "    def forward(self, x):\n",
    "        e = self.patch_embed(x)\n",
    "        B, L, E = e.size()\n",
    "        \n",
    "        cls_token = self.cls_token.expand(B, -1, -1)  # (B, 1, E)\n",
    "        e = torch.cat((cls_token, e), dim=1)  # (B, 1 + N, E)\n",
    "        e = e + self.pos_embed  # (B, 1 + N, E)\n",
    "        \n",
    "        z = self.ssm_layers(e)\n",
    "        \n",
    "        cls_token_final = z[:, 0]  \n",
    "        y = self.fc(cls_token_final)\n",
    "\n",
    "        return y"
   ]
  },
  {
   "cell_type": "code",
   "execution_count": 17,
   "metadata": {},
   "outputs": [
    {
     "ename": "NameError",
     "evalue": "name 'discretize' is not defined",
     "output_type": "error",
     "traceback": [
      "\u001b[0;31m---------------------------------------------------------------------------\u001b[0m",
      "\u001b[0;31mNameError\u001b[0m                                 Traceback (most recent call last)",
      "Cell \u001b[0;32mIn[17], line 1\u001b[0m\n\u001b[0;32m----> 1\u001b[0m model \u001b[38;5;241m=\u001b[39m \u001b[43mSSMModel\u001b[49m\u001b[43m(\u001b[49m\u001b[43m)\u001b[49m\n\u001b[1;32m      2\u001b[0m out \u001b[38;5;241m=\u001b[39m model(imgs)\n\u001b[1;32m      3\u001b[0m out\u001b[38;5;241m.\u001b[39mshape\n",
      "Cell \u001b[0;32mIn[14], line 27\u001b[0m, in \u001b[0;36mSSMModel.__init__\u001b[0;34m(self, img_size, patch_size, in_chans, embed_dim, n_heads, n_layers, n_classes)\u001b[0m\n\u001b[1;32m     24\u001b[0m \u001b[38;5;28mself\u001b[39m\u001b[38;5;241m.\u001b[39mcls_token \u001b[38;5;241m=\u001b[39m nn\u001b[38;5;241m.\u001b[39mParameter(torch\u001b[38;5;241m.\u001b[39mzeros(\u001b[38;5;241m1\u001b[39m, \u001b[38;5;241m1\u001b[39m, embed_dim))\n\u001b[1;32m     25\u001b[0m \u001b[38;5;28mself\u001b[39m\u001b[38;5;241m.\u001b[39mpos_embed \u001b[38;5;241m=\u001b[39m nn\u001b[38;5;241m.\u001b[39mParameter(torch\u001b[38;5;241m.\u001b[39mzeros(\u001b[38;5;241m1\u001b[39m, \u001b[38;5;241m1\u001b[39m \u001b[38;5;241m+\u001b[39m \u001b[38;5;28mself\u001b[39m\u001b[38;5;241m.\u001b[39mpatch_embed\u001b[38;5;241m.\u001b[39mn_patches, embed_dim))\n\u001b[0;32m---> 27\u001b[0m \u001b[38;5;28mself\u001b[39m\u001b[38;5;241m.\u001b[39mssm_layers \u001b[38;5;241m=\u001b[39m torch\u001b[38;5;241m.\u001b[39mnn\u001b[38;5;241m.\u001b[39mSequential(\u001b[38;5;241m*\u001b[39m[SSMLayer(\u001b[38;5;241m1\u001b[39m, \u001b[38;5;241m1\u001b[39m, \u001b[38;5;241m4\u001b[39m) \u001b[38;5;28;01mfor\u001b[39;00m _ \u001b[38;5;129;01min\u001b[39;00m \u001b[38;5;28mrange\u001b[39m(n_layers)])\n\u001b[1;32m     29\u001b[0m \u001b[38;5;28mself\u001b[39m\u001b[38;5;241m.\u001b[39mln \u001b[38;5;241m=\u001b[39m nn\u001b[38;5;241m.\u001b[39mLayerNorm(embed_dim)\n\u001b[1;32m     30\u001b[0m \u001b[38;5;28mself\u001b[39m\u001b[38;5;241m.\u001b[39mfc \u001b[38;5;241m=\u001b[39m torch\u001b[38;5;241m.\u001b[39mnn\u001b[38;5;241m.\u001b[39mLinear(embed_dim, n_classes)\n",
      "Cell \u001b[0;32mIn[14], line 27\u001b[0m, in \u001b[0;36m<listcomp>\u001b[0;34m(.0)\u001b[0m\n\u001b[1;32m     24\u001b[0m \u001b[38;5;28mself\u001b[39m\u001b[38;5;241m.\u001b[39mcls_token \u001b[38;5;241m=\u001b[39m nn\u001b[38;5;241m.\u001b[39mParameter(torch\u001b[38;5;241m.\u001b[39mzeros(\u001b[38;5;241m1\u001b[39m, \u001b[38;5;241m1\u001b[39m, embed_dim))\n\u001b[1;32m     25\u001b[0m \u001b[38;5;28mself\u001b[39m\u001b[38;5;241m.\u001b[39mpos_embed \u001b[38;5;241m=\u001b[39m nn\u001b[38;5;241m.\u001b[39mParameter(torch\u001b[38;5;241m.\u001b[39mzeros(\u001b[38;5;241m1\u001b[39m, \u001b[38;5;241m1\u001b[39m \u001b[38;5;241m+\u001b[39m \u001b[38;5;28mself\u001b[39m\u001b[38;5;241m.\u001b[39mpatch_embed\u001b[38;5;241m.\u001b[39mn_patches, embed_dim))\n\u001b[0;32m---> 27\u001b[0m \u001b[38;5;28mself\u001b[39m\u001b[38;5;241m.\u001b[39mssm_layers \u001b[38;5;241m=\u001b[39m torch\u001b[38;5;241m.\u001b[39mnn\u001b[38;5;241m.\u001b[39mSequential(\u001b[38;5;241m*\u001b[39m[\u001b[43mSSMLayer\u001b[49m\u001b[43m(\u001b[49m\u001b[38;5;241;43m1\u001b[39;49m\u001b[43m,\u001b[49m\u001b[43m \u001b[49m\u001b[38;5;241;43m1\u001b[39;49m\u001b[43m,\u001b[49m\u001b[43m \u001b[49m\u001b[38;5;241;43m4\u001b[39;49m\u001b[43m)\u001b[49m \u001b[38;5;28;01mfor\u001b[39;00m _ \u001b[38;5;129;01min\u001b[39;00m \u001b[38;5;28mrange\u001b[39m(n_layers)])\n\u001b[1;32m     29\u001b[0m \u001b[38;5;28mself\u001b[39m\u001b[38;5;241m.\u001b[39mln \u001b[38;5;241m=\u001b[39m nn\u001b[38;5;241m.\u001b[39mLayerNorm(embed_dim)\n\u001b[1;32m     30\u001b[0m \u001b[38;5;28mself\u001b[39m\u001b[38;5;241m.\u001b[39mfc \u001b[38;5;241m=\u001b[39m torch\u001b[38;5;241m.\u001b[39mnn\u001b[38;5;241m.\u001b[39mLinear(embed_dim, n_classes)\n",
      "Cell \u001b[0;32mIn[16], line 12\u001b[0m, in \u001b[0;36mSSMLayer.__init__\u001b[0;34m(self, p, q, n, dt_min, dt_max, l_max, p_drop)\u001b[0m\n\u001b[1;32m     10\u001b[0m \u001b[38;5;28mself\u001b[39m\u001b[38;5;241m.\u001b[39mlog_step \u001b[38;5;241m=\u001b[39m torch\u001b[38;5;241m.\u001b[39mnn\u001b[38;5;241m.\u001b[39mParameter(torch\u001b[38;5;241m.\u001b[39mrand(\u001b[38;5;241m1\u001b[39m,)\u001b[38;5;241m*\u001b[39m(np\u001b[38;5;241m.\u001b[39mlog(dt_max) \u001b[38;5;241m-\u001b[39m np\u001b[38;5;241m.\u001b[39mlog(dt_min)) \u001b[38;5;241m+\u001b[39m np\u001b[38;5;241m.\u001b[39mlog(dt_min))\n\u001b[1;32m     11\u001b[0m step \u001b[38;5;241m=\u001b[39m torch\u001b[38;5;241m.\u001b[39mexp(\u001b[38;5;28mself\u001b[39m\u001b[38;5;241m.\u001b[39mlog_step)\n\u001b[0;32m---> 12\u001b[0m \u001b[38;5;28mself\u001b[39m\u001b[38;5;241m.\u001b[39mssm \u001b[38;5;241m=\u001b[39m \u001b[43mdiscretize\u001b[49m(\u001b[38;5;28mself\u001b[39m\u001b[38;5;241m.\u001b[39mA, \u001b[38;5;28mself\u001b[39m\u001b[38;5;241m.\u001b[39mB, \u001b[38;5;28mself\u001b[39m\u001b[38;5;241m.\u001b[39mC, step)\n\u001b[1;32m     13\u001b[0m \u001b[38;5;28mself\u001b[39m\u001b[38;5;241m.\u001b[39mK \u001b[38;5;241m=\u001b[39m K_conv(\u001b[38;5;241m*\u001b[39m\u001b[38;5;28mself\u001b[39m\u001b[38;5;241m.\u001b[39mssm, l_max)\n\u001b[1;32m     14\u001b[0m \u001b[38;5;28mself\u001b[39m\u001b[38;5;241m.\u001b[39mnorm \u001b[38;5;241m=\u001b[39m torch\u001b[38;5;241m.\u001b[39mnn\u001b[38;5;241m.\u001b[39mLayerNorm(n)\n",
      "\u001b[0;31mNameError\u001b[0m: name 'discretize' is not defined"
     ]
    }
   ],
   "source": [
    "model = SSMModel()\n",
    "out = model(imgs)\n",
    "out.shape"
   ]
  },
  {
   "cell_type": "code",
   "execution_count": null,
   "metadata": {},
   "outputs": [],
   "source": [
    "class Model(L.LightningModule):\n",
    "\n",
    "    def __init__(self):\n",
    "        super().__init__()\n",
    "        self.model = SSMModel()\n",
    "\n",
    "    def forward(self, x):\n",
    "        return self.model(x)\n",
    "\n",
    "    def predict(self, x):\n",
    "        with torch.no_grad():\n",
    "          y_hat = self(x)\n",
    "          return torch.argmax(y_hat, axis=1)\n",
    "        \n",
    "    def compute_loss_and_acc(self, batch):\n",
    "        x, y = batch\n",
    "        y_hat = self(x)\n",
    "        loss = F.cross_entropy(y_hat, y)\n",
    "        acc = (torch.argmax(y_hat, axis=1) == y).sum().item() / y.shape[0]\n",
    "        return loss, acc\n",
    "    \n",
    "    def training_step(self, batch, batch_idx):\n",
    "        loss, acc = self.compute_loss_and_acc(batch)\n",
    "        self.log('loss', loss)\n",
    "        self.log('acc', acc, prog_bar=True)\n",
    "        return loss\n",
    "\n",
    "    def validation_step(self, batch, batch_idx):\n",
    "        loss, acc = self.compute_loss_and_acc(batch)\n",
    "        self.log('val_loss', loss, prog_bar=True)\n",
    "        self.log('val_acc', acc, prog_bar=True)\n",
    "\n",
    "    def configure_optimizers(self):\n",
    "        optimizer = torch.optim.Adam(self.parameters(), lr=0.0003)\n",
    "        return optimizer"
   ]
  },
  {
   "cell_type": "code",
   "execution_count": null,
   "metadata": {},
   "outputs": [],
   "source": [
    "model = Model()\n",
    "trainer = L.Trainer(max_epochs=5, gpus=1, logger=None)\n",
    "trainer.fit(model, dm)"
   ]
  },
  {
   "cell_type": "code",
   "execution_count": null,
   "metadata": {},
   "outputs": [],
   "source": [
    "imgs, labels = next(iter(dm.val_dataloader()))\n",
    "preds = model.predict(imgs)\n",
    "\n",
    "r, c = 8, 8\n",
    "fig = plt.figure(figsize=(2*c, 2*r))\n",
    "for _r in range(r):\n",
    "    for _c in range(c):\n",
    "        ix = _r*c + _c\n",
    "        ax = plt.subplot(r, c, ix + 1)\n",
    "        img, label = imgs[ix], labels[ix]\n",
    "        ax.axis(\"off\")\n",
    "        ax.imshow(img.reshape(28,28), cmap=\"gray\")\n",
    "        ax.set_title(f'{label.item()}/{preds[ix].item()}', color=\"green\" if label == preds[ix] else 'red')\n",
    "plt.tight_layout()\n",
    "plt.show()"
   ]
  },
  {
   "cell_type": "markdown",
   "metadata": {},
   "source": [
    "## Recursos"
   ]
  },
  {
   "cell_type": "markdown",
   "metadata": {},
   "source": [
    "Posts:\n",
    "\n",
    "- State space models: https://es.wikipedia.org/wiki/Espacio_de_estados\n",
    "- Mamba: https://jameschen.io/jekyll/update/2024/02/12/mamba.html\n",
    "- The Annotated S4: https://srush.github.io/annotated-s4/\n",
    "- Mamba The Easy Way: https://jackcook.com/2024/02/23/mamba.html\n",
    "\n",
    "Papers:\n",
    "\n",
    "- S4: https://arxiv.org/abs/2111.00396\n",
    "- Mamba: https://arxiv.org/abs/2312.00752\n",
    "- MoE-Mamba: https://arxiv.org/abs/2401.04081 \n",
    "- Vision Mamba: https://arxiv.org/abs/2401.09417\n",
    "- MambaByte: https://arxiv.org/abs/2401.13660 \n",
    "\n",
    "Código:\n",
    "\n",
    "- Mamba-tiny: https://github.com/PeaBrane/mamba-tiny \n"
   ]
  }
 ],
 "metadata": {
  "kernelspec": {
   "display_name": "peo",
   "language": "python",
   "name": "python3"
  },
  "language_info": {
   "codemirror_mode": {
    "name": "ipython",
    "version": 3
   },
   "file_extension": ".py",
   "mimetype": "text/x-python",
   "name": "python",
   "nbconvert_exporter": "python",
   "pygments_lexer": "ipython3",
   "version": "3.8.18"
  }
 },
 "nbformat": 4,
 "nbformat_minor": 2
}
